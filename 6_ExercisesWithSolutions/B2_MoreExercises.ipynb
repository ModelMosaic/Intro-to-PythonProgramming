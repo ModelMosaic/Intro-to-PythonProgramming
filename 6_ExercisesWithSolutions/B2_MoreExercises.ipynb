{
 "cells": [
  {
   "cell_type": "markdown",
   "id": "cc14378d-8176-4e01-9a2b-ccdbb21b8622",
   "metadata": {},
   "source": [
    "# 1_Code Reading"
   ]
  },
  {
   "cell_type": "markdown",
   "id": "8d81831c-fa90-49b6-bbdd-2a8007e01f7e",
   "metadata": {},
   "source": [
    "## *1.1 Write the output of the code below*"
   ]
  },
  {
   "cell_type": "code",
   "execution_count": null,
   "id": "04642d24-a444-4d46-924c-4e33afb344c3",
   "metadata": {},
   "outputs": [],
   "source": [
    "print([int(1), float(1), str(1)])"
   ]
  },
  {
   "cell_type": "code",
   "execution_count": null,
   "id": "aa645fe2-bf74-4946-8bfc-d7d9dc1f7e91",
   "metadata": {},
   "outputs": [],
   "source": [
    "z = int('1' + '2' + '3' + '4' + '5')\n",
    "print(z)"
   ]
  },
  {
   "cell_type": "code",
   "execution_count": null,
   "id": "89f19efb-899e-4c65-8831-8d8e3edbdfbc",
   "metadata": {},
   "outputs": [],
   "source": [
    "'''\n",
    "The output should be:\n",
    "'''\n",
    "12345"
   ]
  },
  {
   "cell_type": "markdown",
   "id": "00afeb46-7dd7-4173-ad08-c0a2fadf9796",
   "metadata": {},
   "source": [
    "## *1.2 Write the output of the code below*"
   ]
  },
  {
   "cell_type": "code",
   "execution_count": null,
   "id": "7833910a-ea00-422f-a777-f2d018c23450",
   "metadata": {},
   "outputs": [],
   "source": [
    "L = [1,2,3,4,5]\n",
    "z = [a-b for a,b in zip(L, L[::-1])]\n",
    "print(z)"
   ]
  },
  {
   "cell_type": "code",
   "execution_count": null,
   "id": "383296a5-87e7-490c-a0b9-c28def370753",
   "metadata": {},
   "outputs": [],
   "source": [
    "'''\n",
    "1-5 , 2-4, 3-3, 4-2, 5-1\n",
    "= -4, -2, 0, 2, 4\n",
    "\n",
    "The output should be:\n",
    "'''\n",
    "list([-4, -2, 0, 2, 4])"
   ]
  },
  {
   "cell_type": "markdown",
   "id": "b2ed9a12-33e1-4231-be77-89b0893b8114",
   "metadata": {},
   "source": [
    "## *1.3 Write the output of the code below:*"
   ]
  },
  {
   "cell_type": "code",
   "execution_count": null,
   "id": "7102963a-163f-473c-8230-88945bbaec2d",
   "metadata": {},
   "outputs": [],
   "source": [
    "import numpy \n",
    "A = numpy.zeros([10]) + 2.0\n",
    "z = (A[:, numpy.newaxis]+A).sum()\n",
    "print(z)"
   ]
  },
  {
   "cell_type": "code",
   "execution_count": null,
   "id": "17b30cf8-cbde-4b77-85e9-48db9f1c318d",
   "metadata": {},
   "outputs": [],
   "source": [
    "A = numpy.zeros([10]) + 2.0\n",
    "print(A.shape)\n",
    "\n",
    "# z = (A[:, numpy.newaxis].shape)\n",
    "z = (A+A[:, numpy.newaxis])\n",
    "print(z)"
   ]
  },
  {
   "cell_type": "code",
   "execution_count": null,
   "id": "1c25032c-fb9b-4582-90d9-0378acf51aec",
   "metadata": {},
   "outputs": [],
   "source": [
    "'''\n",
    "A = 2 2 2 ... 2 2 2\n",
    "\n",
    "A[:, numpy.newaxis]+A\n",
    "-> Broadcasting Addition\n",
    "\n",
    "z -> (10,10)-Matrix mit 4\n",
    "\n",
    "-> Also 10*10*4 = 400\n",
    "The output is:\n",
    "'''\n",
    "400"
   ]
  },
  {
   "cell_type": "markdown",
   "id": "c3e8835c-952a-408c-a66a-d411ec112299",
   "metadata": {},
   "source": [
    "## *1.4 Write the output of the code below:*"
   ]
  },
  {
   "cell_type": "code",
   "execution_count": null,
   "id": "884e78f4-5132-432f-8d76-3488e38b26b2",
   "metadata": {},
   "outputs": [],
   "source": [
    "from functools import reduce\n",
    "\n",
    "z = reduce(lambda s,x: 0.5*s + x, [1,2,3])\n",
    "print(z)"
   ]
  },
  {
   "cell_type": "code",
   "execution_count": null,
   "id": "316ed93a-2f60-4fb2-b1c9-e3dfffc61bf3",
   "metadata": {},
   "outputs": [],
   "source": [
    "'''\n",
    "Iteration 1: s = 1, x = 2. Calculate 0.5 * 1 + 2 = 2.5\n",
    "Iteration 2: s = 2.5, x = 3. Calculate 0.5 * 2.5 + 3 = 4.25\n",
    "\n",
    "The output is:\n",
    "'''\n",
    "4.25"
   ]
  },
  {
   "cell_type": "markdown",
   "id": "9f69887e-ddc7-4fa1-99b8-764750ec4087",
   "metadata": {},
   "source": [
    "## *1.5 Write the output of the code below:*"
   ]
  },
  {
   "cell_type": "code",
   "execution_count": null,
   "id": "afb848f1-72e9-4a73-94a6-d9669ca188f0",
   "metadata": {},
   "outputs": [],
   "source": [
    "g = lambda a,b: (lambda x,y: a(x)*b(y))\n",
    "z = g(sum, sum)([1,2,3],[4,5,6])\n",
    "print(z)"
   ]
  },
  {
   "cell_type": "code",
   "execution_count": null,
   "id": "db6e5d53-0e6f-44ac-968b-c7173c0fc7fb",
   "metadata": {},
   "outputs": [],
   "source": [
    "'''\n",
    "z = g(sum, sum)([1,2,3],[4,5,6])\n",
    "-> a = sum(1,2,3) und b=sum(4,5,6)\n",
    "\n",
    "-> (1+2+3)*(4+5+6)\n",
    "\n",
    "'''\n",
    "(1+2+3)*(4+5+6)"
   ]
  },
  {
   "cell_type": "markdown",
   "id": "25fc1ec4-9b59-439d-b4d6-c8b6975fa682",
   "metadata": {},
   "source": [
    "# 2_Analysis and Plotting"
   ]
  },
  {
   "cell_type": "code",
   "execution_count": null,
   "id": "d6a2ff50-8538-4eea-af03-4dd9601bb9d9",
   "metadata": {},
   "outputs": [],
   "source": [
    "'''\n",
    "We consider a supervised dataset consisting of 50 one-dimensional data points and their respective targets.\n",
    "Input values are stored in a numpy array Xd of size 50 and target values are stored in a numpy array Yd of same size.\n",
    "We would like to visualize whether the function f(x)= 0.5x^2 - 0.7x + 1 + exp(-x^2) is a good model of the relation between x and y, by construction a plot\n",
    "and emphasizing the points that are poorly predicted.\n",
    "'''"
   ]
  },
  {
   "cell_type": "markdown",
   "id": "f078cfa5-1e4a-4d7c-b4ce-e30a31eb96d5",
   "metadata": {},
   "source": [
    "## *2.1 Write a function predict that takes as inpurt a numpy array, and returns an array of same size where the function f(x) defined above has been applied element-wise:*"
   ]
  },
  {
   "cell_type": "code",
   "execution_count": null,
   "id": "4e6d9ac2-e86f-412a-9831-c441b66cba68",
   "metadata": {},
   "outputs": [],
   "source": [
    "import numpy\n",
    "def predict(X):\n",
    "    #YOUR CODE HERE\n",
    "    Y = 0.5*(X*X) -0.7*X + 1 + numpy.exp(-(X*X))\n",
    "    return Y"
   ]
  },
  {
   "cell_type": "markdown",
   "id": "46253ba0-9e08-4b37-a6a1-3044aa1fadeb",
   "metadata": {},
   "source": [
    "## *2.2 Plot using plt.plot the function f(x) on the interval [-4, 4]*"
   ]
  },
  {
   "cell_type": "code",
   "execution_count": null,
   "id": "67ac9021-d4f5-4a6e-bb5a-32f8ead3ac65",
   "metadata": {},
   "outputs": [],
   "source": [
    "from matplotlib import pyplot as plt\n",
    "\n",
    "# YOUR CODE HERE\n",
    "X_values = numpy.arange(-4, 5, 1)\n",
    "Y_values = predict(X_values)\n",
    "\n",
    "plt.plot(X_values, Y_values)"
   ]
  },
  {
   "cell_type": "markdown",
   "id": "62709c69-e068-4e42-b1f7-c0455104de1d",
   "metadata": {},
   "source": [
    "## *2.3 Superpose to this plot a scatter plot (see documentation below)* of all points in the dataset, with marker size set for each point to the squared difference between the prediction f(x) and the target y"
   ]
  },
  {
   "cell_type": "code",
   "execution_count": null,
   "id": "4c2b2c41-8248-4b24-a37e-5fbf33d71243",
   "metadata": {},
   "outputs": [],
   "source": [
    "# MY CODE ADAPTION\n",
    "\n",
    "# Generate 20 random points around the graph\n",
    "np.random.seed(123)  # Set the random seed for reproducibility\n",
    "X_values2 = np.random.uniform(-4, 5, size=20)\n",
    "Y_values2 = predict(X_values2) + np.random.normal(0, 0.5, size=20)\n"
   ]
  },
  {
   "cell_type": "code",
   "execution_count": null,
   "id": "4ec94b26-9bd8-4bac-a23e-dc17ad1e8cae",
   "metadata": {},
   "outputs": [],
   "source": [
    "Xd = X_values2\n",
    "Yd = Y_values2\n",
    "\n",
    "# Xd, Yd = getData()\n",
    "#YOUR CODE HERE\n",
    "squared_diff = (predict(Xd) - Yd)**2\n",
    "\n",
    "#Scatter Plot\n",
    "plt.scatter(Xd, Yd, s=squared_diff)\n",
    "\n",
    "# Rest of the code for plotting the line\n",
    "plt.plot(X_values, Y_values)\n",
    "\n",
    "# Add labels and title\n",
    "plt.xlabel('X')\n",
    "plt.ylabel('Y')\n",
    "plt.title('Scatter plot with Squared Differences')\n",
    "\n",
    "# Show the plot\n",
    "plt.show()"
   ]
  },
  {
   "cell_type": "markdown",
   "id": "7da7a577-129c-4ae6-8364-9eb41558487e",
   "metadata": {},
   "source": [
    "# 3_Improbing Code Efficiency"
   ]
  },
  {
   "cell_type": "code",
   "execution_count": null,
   "id": "e43827a4-0507-43a3-9b11-1e3332f5247f",
   "metadata": {},
   "outputs": [],
   "source": [
    "'''\n",
    "This function below takes a numpy array of size Nx3, and returns a positive integer.\n",
    "The input to this function should be interpreted as a collection of points in R^3\n",
    "'''\n",
    "import numpy as np\n",
    "def f(X):\n",
    "    count = 0\n",
    "    for i in range(len(X)):\n",
    "        a = X[i,0]**2\n",
    "        b = X[i,1]**2\n",
    "        c = X[i,2]**2\n",
    "        if a + b + c <= 1:\n",
    "            count += 1\n",
    "    return count"
   ]
  },
  {
   "cell_type": "code",
   "execution_count": null,
   "id": "46d47e21-4796-4ecf-9d4b-9f63e970e8fc",
   "metadata": {},
   "outputs": [],
   "source": [
    "X = np.array([\n",
    "    [0.5, 0.5, 0.5],\n",
    "    [1.0, 1.0, 1.0],\n",
    "    [0.3, 0.3, 0.3],\n",
    "    [0.8, 0.8, 0.8],\n",
    "    [0.0, 0.0, 0.0]\n",
    "])\n",
    "\n",
    "# Call the function and print the result\n",
    "result = f(X)\n",
    "print(X.shape)\n"
   ]
  },
  {
   "cell_type": "markdown",
   "id": "6c5bf41e-ea24-4d54-b746-b4eee7028e20",
   "metadata": {},
   "source": [
    "## *3.1 Explain in one sentence what this function does*"
   ]
  },
  {
   "cell_type": "code",
   "execution_count": null,
   "id": "460a2f92-0d4f-476d-ab52-9267787d432c",
   "metadata": {},
   "outputs": [],
   "source": [
    "'''\n",
    "The function f(X) takes a numpy array X of size Nx3 as input, \n",
    "where N represents the number of points and 3 represents the number of dimensions (x, y, z).\n",
    "\n",
    "The purpose of this function is to count the number of points in the input array X that lie within or on \n",
    "a unit sphere centered at the origin (0, 0, 0) in three-dimensional space (R^3). \n",
    "The function returns a positive integer that represents the count of such points.\n",
    "\n",
    "'''\n",
    "\n",
    "# WEITERE DETAILS (nicht wichtig)\n",
    "'''\n",
    "The function f(X) is related to the Euclidean norm or the Euclidean distance. \n",
    "\n",
    "In three-dimensional space, the Euclidean norm of a point (x, y, z) represents the distance of the point from the origin (0, 0, 0). \n",
    "The Euclidean norm is calculated as the square root of the sum of the squares of the coordinates: sqrt(x^2 + y^2 + z^2).\n",
    "'''"
   ]
  },
  {
   "cell_type": "markdown",
   "id": "9b60c997-31b4-41be-a8ac-02589f9196e2",
   "metadata": {},
   "source": [
    "## *3.2 Write a numpy-based function g that does the same as f but orders of magnitude faster*"
   ]
  },
  {
   "cell_type": "code",
   "execution_count": null,
   "id": "f48d0840-09dc-43fb-80d4-e2a900fef190",
   "metadata": {},
   "outputs": [],
   "source": [
    "import numpy as np\n",
    "\n",
    "def g(X):\n",
    "    # Calculate the squared Euclidean norm for each point\n",
    "    norms = np.sum(X**2, axis=1)\n",
    "\n",
    "    # Count the number of points with squared norm <= 1\n",
    "    count = np.sum(norms <= 1)\n",
    "\n",
    "    return count\n"
   ]
  },
  {
   "cell_type": "code",
   "execution_count": null,
   "id": "f917fdc8-5002-4a28-9003-d69d78c1ebef",
   "metadata": {},
   "outputs": [],
   "source": [
    "# ALTERNATIVE\n",
    "\n",
    "def g(X):\n",
    "    # Calculate the squared Euclidean norm for each point\n",
    "    norms = np.sum(X**2, axis=1)\n",
    "\n",
    "    # Count the number of points with squared norm <= 1\n",
    "    count = np.count_nonzero(np.linalg.norm(X, axis=1) <= 1)\n",
    "\n",
    "    return count\n"
   ]
  },
  {
   "cell_type": "markdown",
   "id": "e3ceb0d3-2be0-44c9-87ee-8ca3ba4ae556",
   "metadata": {},
   "source": [
    "## *3.3 Write a function that measures for a dataset X by which factor g is faster than f*"
   ]
  },
  {
   "cell_type": "code",
   "execution_count": null,
   "id": "e0e03d54-dd6d-42bc-973e-e85e9945d952",
   "metadata": {},
   "outputs": [],
   "source": [
    "from time import time\n",
    "\n",
    "def speedup(X):\n",
    "    # YOUR CODE HERE\n",
    "    start = clock()\n",
    "    a = f(x)\n",
    "    end = clock()\n",
    "    t_f = end - start\n",
    "    \n",
    "    start = clock()\n",
    "    a = g(x)\n",
    "    end = clock\n",
    "    \n",
    "    factor = t_f / (end-start)\n",
    "    \n",
    "    return factor"
   ]
  },
  {
   "cell_type": "code",
   "execution_count": null,
   "id": "1ae9bbbf-86af-4c4b-80d2-ffe9d797b635",
   "metadata": {},
   "outputs": [],
   "source": [
    "# ALTERNATIVE\n",
    "from time import time\n",
    "\n",
    "def measure_speedup(X):\n",
    "    # Measure the execution time of f\n",
    "    start_time_f = clock()\n",
    "    for _ in range(100):\n",
    "        f(X)\n",
    "    end_time_f = clock()\n",
    "    time_f = end_time_f - start_time_f\n",
    "\n",
    "    # Measure the execution time of g\n",
    "    start_time_g = clock()\n",
    "    for _ in range(100):\n",
    "        g(X)\n",
    "    end_time_g = clock()\n",
    "    time_g = end_time_g - start_time_g\n",
    "\n",
    "    # Calculate the speedup factor\n",
    "    speedup_factor = time_f / time_g\n",
    "\n",
    "    return speedup_factor"
   ]
  },
  {
   "cell_type": "code",
   "execution_count": null,
   "id": "eb233200-9f58-4f82-8c5a-88397ba2e56b",
   "metadata": {},
   "outputs": [],
   "source": [
    "from time import time\n",
    "\n",
    "X = np.array([\n",
    "    [0.5, 0.5, 0.5],\n",
    "    [1.0, 1.0, 1.0],\n",
    "    [0.3, 0.3, 0.3],\n",
    "    [0.8, 0.8, 0.8],\n",
    "    [0.0, 0.0, 0.0]\n",
    "])\n",
    "\n",
    "def speedup(X):\n",
    "    # YOUR CODE HERE\n",
    "    start = time()\n",
    "    a = f(X)\n",
    "    end = time()\n",
    "    t_f = end - start\n",
    "    \n",
    "    start2 = time()\n",
    "    b = g(X)\n",
    "    end2 = time()\n",
    "    t_f2 = end2 - start2\n",
    "\n",
    "    \n",
    "    factor = t_f / t_f2\n",
    "    \n",
    "    return factor"
   ]
  },
  {
   "cell_type": "code",
   "execution_count": null,
   "id": "9157ddb4-1511-4d93-8652-cea06f86f48e",
   "metadata": {},
   "outputs": [],
   "source": [
    "speedup(X)\n",
    "# measure_speedup(X)"
   ]
  },
  {
   "cell_type": "code",
   "execution_count": null,
   "id": "0be35d8e-26ce-4510-80ed-99c9ab466836",
   "metadata": {},
   "outputs": [],
   "source": [
    "'''\n",
    "from time import perf_counter\n",
    "\n",
    "def measure_speedup(X):\n",
    "    # Measure the execution time of f\n",
    "    start_time_f = perf_counter()\n",
    "    for _ in range(100):\n",
    "        f(X)\n",
    "    end_time_f = perf_counter()\n",
    "    time_f = end_time_f - start_time_f\n",
    "\n",
    "    # Measure the execution time of g\n",
    "    start_time_g = perf_counter()\n",
    "    for _ in range(100):\n",
    "        g(X)\n",
    "    end_time_g = perf_counter()\n",
    "    time_g = end_time_g - start_time_g\n",
    "\n",
    "    # Calculate the speedup factor\n",
    "    speedup_factor = time_f / time_g\n",
    "\n",
    "    return speedup_factor\n",
    "'''"
   ]
  },
  {
   "cell_type": "markdown",
   "id": "f24a7cd5-0dda-44c0-905d-951a8d53d74e",
   "metadata": {},
   "source": [
    "## *3.4 Write a function that verifies for a dataset X that the outputs of functions g and f are the same*"
   ]
  },
  {
   "cell_type": "code",
   "execution_count": null,
   "id": "9b08479d-f01e-4028-9304-c52eeeeebd92",
   "metadata": {},
   "outputs": [],
   "source": [
    "def verify(X):\n",
    "    # YOUR CODE HERE\n",
    "    return f(x) == g(x)"
   ]
  },
  {
   "cell_type": "code",
   "execution_count": null,
   "id": "7fa77700-a6cf-4db4-b98d-662ad48f040e",
   "metadata": {},
   "outputs": [],
   "source": [
    "# ALTERNATIVE\n",
    "\n",
    "def verify_outputs(X):\n",
    "    # Compute the output of function f and g\n",
    "    output_f = f(X)\n",
    "    output_g = g(X)\n",
    "\n",
    "    # Check if the outputs are exactly the same\n",
    "    outputs_match = np.array_equal(output_f, output_g)\n",
    "\n",
    "    return outputs_match"
   ]
  },
  {
   "cell_type": "code",
   "execution_count": null,
   "id": "38319be2-6e77-4343-a382-4b422b18f263",
   "metadata": {},
   "outputs": [],
   "source": [
    "# THIS IS WRONG\n",
    "\n",
    "\"\"\"\n",
    "In Python, when comparing two NumPy arrays using the == operator, \n",
    "it returns an array of boolean values indicating the equality of corresponding elements. \n",
    "It does not perform element-wise comparison of arrays and return a single boolean value.\n",
    "\"\"\"\n",
    "\n",
    "def verify_outputs(X):\n",
    "    # Compute the output of function f and g\n",
    "    output_f = f(X)\n",
    "    output_g = g(X)\n",
    "\n",
    "    if f(X) == g(X):\n",
    "        outputs_match = \"The same\"\n",
    "    else:\n",
    "        outputs_match = \"Not the same\"\n",
    "    \n",
    "    return outputs_match"
   ]
  },
  {
   "cell_type": "markdown",
   "id": "a55758f6-ae50-49a1-8afd-cc0deaedb49d",
   "metadata": {},
   "source": [
    "# 4_Simulation"
   ]
  },
  {
   "cell_type": "code",
   "execution_count": null,
   "id": "4e78513d-4d2f-4401-ae5a-6d959383c343",
   "metadata": {},
   "outputs": [],
   "source": [
    "'''\n",
    "We consider cities A,B,C,D,E,F connected by roads and travelers transitioning between these cities.\n",
    "They start from city A and after some days reach their destination D, E or F. \n",
    "In the intermediate cities B and C, the traveler may decide to either stay for some time, or to move to the next city.\n",
    "This traveleling behvior can be modeled as a Markov chain.\n",
    "The transition graph between cities along with transition probabilities are shown on the right.\n",
    "Is is fully specified except for two parameters p and q that must be learned from the data.\n",
    "'''\n",
    "\n",
    "\"Simulation Task below\""
   ]
  },
  {
   "cell_type": "markdown",
   "id": "5dc6e0b1-227a-4303-a322-6fd8e26b41b1",
   "metadata": {},
   "source": [
    "## *4.1 Write a function that estimates the probabilities p and q based on a list L containing the final destination of all past travelers.*"
   ]
  },
  {
   "cell_type": "code",
   "execution_count": null,
   "id": "0da3d54b-9e9c-4d47-90b0-1e6223ba14ed",
   "metadata": {},
   "outputs": [],
   "source": [
    "# NOT CORRECT\n",
    "'''\n",
    "def getparams(L):\n",
    "    # YOUR CODE HERE\n",
    "    from coffections import Counter\n",
    "    freq  = Counter(L)\n",
    "    import numpy\n",
    "    p = (freq['D'] * 1.0) / len(L) * (2- (1.0 / (2**numpy.fog(len(L)))))\n",
    "    q = (freq['E'] * 1.0) / (freq['E'] + freq['F']) * (2-1.0/(2**numpy.log ( freq['E'] + freq['F'])))\n",
    "    \n",
    "    p, q = getparams(['D', 'F', 'D', 'D', 'F', 'E', 'E', 'D', 'F', 'F', 'D', 'E'])\n",
    "'''    "
   ]
  },
  {
   "cell_type": "code",
   "execution_count": null,
   "id": "42f18e4d-7503-4f8e-8a96-9db16d1674dc",
   "metadata": {},
   "outputs": [],
   "source": [
    "# SOLUTION FROM CHATGPT\n",
    "\n",
    "from collections import Counter\n",
    "import numpy as np\n",
    "\n",
    "def getparams(L):\n",
    "    # Count the occurrences of each destination in the list L\n",
    "    freq = Counter(L)\n",
    "    \n",
    "    # Calculate the probabilities p and q using maximum likelihood estimation\n",
    "    p = freq['D'] / len(L)\n",
    "    q = freq['E'] / (freq['E'] + freq['F'])\n",
    "    \n",
    "    return p, q"
   ]
  },
  {
   "cell_type": "markdown",
   "id": "826d46b8-37bb-4535-9002-f7aa62c4dda9",
   "metadata": {},
   "source": [
    "## *4.2 Write a function that simulates a journey from start to end, and returns the sequence of visited states.*"
   ]
  },
  {
   "cell_type": "code",
   "execution_count": null,
   "id": "139cedc2-8367-4730-bcbe-ccf308fe26b2",
   "metadata": {},
   "outputs": [],
   "source": [
    "'''\n",
    "\n",
    "from numpy.random import choice\n",
    "def simulate():\n",
    "    seq = ['A']\n",
    "    seq += ['B']\n",
    "    while (seq[-1] == 'B'):\n",
    "        seq += choice(['B','O','C'], p=[0.5, p, 0.5-p])\n",
    "    while (seq[-1] == 'C'):\n",
    "        seq += choice(['C','E','F'], p = [0.5, q, 0.5-q])\n",
    "    return seq\n",
    "    \n",
    "    \n",
    "'''\n",
    "\n"
   ]
  },
  {
   "cell_type": "code",
   "execution_count": null,
   "id": "1ae02544-cd12-4ef9-baf0-8a4293117ee6",
   "metadata": {},
   "outputs": [],
   "source": [
    "from numpy.random import choice\n",
    "\n",
    "def simulate(p, q):\n",
    "    seq = ['A']\n",
    "    while seq[-1] not in ['D', 'E', 'F']:\n",
    "        if seq[-1] == 'A':\n",
    "            next_state = choice(['B', 'O'], p=[0.5, 0.5])\n",
    "        elif seq[-1] == 'B':\n",
    "            next_state = choice(['B', 'O', 'C'], p=[0.5, p, 0.5 - p])\n",
    "        elif seq[-1] == 'C':\n",
    "            next_state = choice(['C', 'E', 'F'], p=[0.5, q, 0.5 - q])\n",
    "        else:\n",
    "            next_state = None\n",
    "        \n",
    "        if next_state:\n",
    "            seq.append(next_state)\n",
    "    \n",
    "    return seq\n"
   ]
  },
  {
   "cell_type": "markdown",
   "id": "f98b093c-6461-47a2-9f29-1f129a3c9c1b",
   "metadata": {},
   "source": [
    "## *4.3 Write code that uses the method simulate repeatedly to estimate empirically the expected duration (i.e. number of transitions) of a journey.*"
   ]
  },
  {
   "cell_type": "code",
   "execution_count": null,
   "id": "cc67a1b5-e858-4586-8d01-07bb1081e255",
   "metadata": {},
   "outputs": [],
   "source": [
    "'''\n",
    "import numpy\n",
    "def emp_nb_steps(precision):\n",
    "    steps = [len(simulate()) for i in range(precision)]\n",
    "    return numpy.array(steps).mean()\n",
    "'''"
   ]
  },
  {
   "cell_type": "code",
   "execution_count": null,
   "id": "69b66b41-7854-4e9b-9b40-43a58fa529dc",
   "metadata": {},
   "outputs": [],
   "source": [
    "import numpy\n",
    "\n",
    "def emp_nb_steps(precision, p, q):\n",
    "    steps = [len(simulate(p, q)) for _ in range(precision)]\n",
    "    return numpy.array(steps).mean()"
   ]
  },
  {
   "cell_type": "code",
   "execution_count": null,
   "id": "2d3eeed3-e9b0-48b0-ab1e-6e8c4a117618",
   "metadata": {},
   "outputs": [],
   "source": []
  }
 ],
 "metadata": {
  "kernelspec": {
   "display_name": "Python 3 (ipykernel)",
   "language": "python",
   "name": "python3"
  },
  "language_info": {
   "codemirror_mode": {
    "name": "ipython",
    "version": 3
   },
   "file_extension": ".py",
   "mimetype": "text/x-python",
   "name": "python",
   "nbconvert_exporter": "python",
   "pygments_lexer": "ipython3",
   "version": "3.10.9"
  }
 },
 "nbformat": 4,
 "nbformat_minor": 5
}
