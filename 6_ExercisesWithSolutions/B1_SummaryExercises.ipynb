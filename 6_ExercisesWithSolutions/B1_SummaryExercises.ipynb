{
 "cells": [
  {
   "cell_type": "markdown",
   "id": "de2f4332-14a6-4564-ba07-14bc839fc016",
   "metadata": {},
   "source": [
    "# PyML Exam Overview"
   ]
  },
  {
   "cell_type": "markdown",
   "id": "6cda32f7-11d9-4b2d-9a45-c15944fceaf6",
   "metadata": {},
   "source": [
    "# 1_Code Reading"
   ]
  },
  {
   "cell_type": "markdown",
   "id": "f8b6b4f6-a385-47bc-8bdb-b5b2d53bc1b8",
   "metadata": {},
   "source": [
    "## *1.1 Data Types*"
   ]
  },
  {
   "cell_type": "code",
   "execution_count": null,
   "id": "2ee6af73-dbdc-4b7c-a3a3-3dca7041da6c",
   "metadata": {},
   "outputs": [],
   "source": [
    "'''\n",
    "Understand the differences between integers, floats, and strings. \n",
    "Integers represent whole numbers, floats represent decimal numbers, and strings represent sequences of characters enclosed in quotes.\n",
    "'''\n",
    "\n",
    "# No need to check this"
   ]
  },
  {
   "cell_type": "markdown",
   "id": "6f28d084-3661-4969-93eb-3dad8b1e1a9f",
   "metadata": {},
   "source": [
    "## *1.2 Type conversion*"
   ]
  },
  {
   "cell_type": "code",
   "execution_count": null,
   "id": "97132f89-b54c-45e9-862b-5a4deaa2be96",
   "metadata": {},
   "outputs": [],
   "source": [
    "'''\n",
    "Be familiar with the concepts of type casting or type conversion. \n",
    "This involves converting one data type to another. \n",
    "For example, using the int() function to convert a value to an integer, float() to convert to a floating-point number, and str() to convert to a string.\n",
    "'''\n",
    "\n",
    "#Level easy"
   ]
  },
  {
   "cell_type": "code",
   "execution_count": null,
   "id": "5e2aea1a-626a-4e36-a492-e02c7092cc2b",
   "metadata": {},
   "outputs": [],
   "source": [
    "# Example 1: Converting a string to an integer or float\n",
    "num_str = \"123\"\n",
    "num_int = int(num_str)  # Converting string to integer\n",
    "num_float = float(num_str)  # Converting string to float\n",
    "\n",
    "num_str, num_int, num_float"
   ]
  },
  {
   "cell_type": "code",
   "execution_count": null,
   "id": "c707c7f2-8792-43b0-b9c2-11aca4f06506",
   "metadata": {},
   "outputs": [],
   "source": [
    "# Example 2: Converting an integer or float to a string\n",
    "num_int = 123\n",
    "num_float = 3.14\n",
    "num_str_int = str(num_int)  # Converting integer to string\n",
    "num_str_float = str(num_float)  # Converting float to string\n",
    "\n",
    "num_str_int, num_str_float"
   ]
  },
  {
   "cell_type": "code",
   "execution_count": null,
   "id": "8924c58d-a3b7-4a56-93ac-2af7556a30ad",
   "metadata": {},
   "outputs": [],
   "source": [
    "# Example 3: Converting a float to an integer (rounding down)\n",
    "\n",
    "num_float = 3.8\n",
    "num_int = int(num_float)  # Converting float to integer (rounding down)\n",
    "\n",
    "num_int"
   ]
  },
  {
   "cell_type": "code",
   "execution_count": null,
   "id": "9d3a0d5a-62c3-4df4-a9d1-f97c150867d4",
   "metadata": {},
   "outputs": [],
   "source": [
    "# Example 4: Converting an integer or float to a string with specific formatting\n",
    "num_float = 3.14159\n",
    "num_str_fixed = format(num_float, \".2f\")  # Converting float to string with 2 decimal places\n",
    "num_str_scientific = format(num_float, \".2e\")  # Converting float to string in scientific notation with 2 decimal places\n",
    "\n",
    "num_str_fixed, num_str_scientific"
   ]
  },
  {
   "cell_type": "code",
   "execution_count": null,
   "id": "7bcb2ccf-0c52-4f95-8304-fd6164e1f66e",
   "metadata": {},
   "outputs": [],
   "source": [
    "# Example 5: Converting a string representing a binary number to an integer\n",
    "binary_str = \"101010\"\n",
    "decimal_num = int(binary_str, 2)  # Converting binary string to integer\n",
    "\n",
    "decimal_num"
   ]
  },
  {
   "cell_type": "code",
   "execution_count": null,
   "id": "e78839b9-8029-4f15-ab76-44b6f2831a4d",
   "metadata": {},
   "outputs": [],
   "source": [
    "# Example 6: Converting a list of integers to a string\n",
    "num_list = [1, 2, 3, 4, 5]\n",
    "num_str = \"\".join(map(str, num_list))  # Converting list of integers to a string\n",
    "\n",
    "num_str"
   ]
  },
  {
   "cell_type": "code",
   "execution_count": null,
   "id": "e31ee80a-6ccb-48b8-af7f-9cdbd17e11ce",
   "metadata": {},
   "outputs": [],
   "source": [
    "# Example 7: Converting a string to a list of characters:\n",
    "text = \"Hello\"\n",
    "char_list = list(text)  # Converting string to a list of characters\n",
    "\n",
    "char_list"
   ]
  },
  {
   "cell_type": "markdown",
   "id": "af928b07-e726-4f2e-b5c7-35bbf1fa2397",
   "metadata": {},
   "source": [
    "## *1.3 Syntax and function calls*"
   ]
  },
  {
   "cell_type": "code",
   "execution_count": null,
   "id": "9fa32263-febe-45ee-9b75-12502baac473",
   "metadata": {},
   "outputs": [],
   "source": [
    "'''\n",
    "Understand the syntax of function calls, including the use of parentheses, \n",
    "arguments, and multiple function calls within a single statement.\n",
    "'''"
   ]
  },
  {
   "cell_type": "code",
   "execution_count": null,
   "id": "c4ee8db1-2f40-4882-a451-a6c3b273f2e5",
   "metadata": {},
   "outputs": [],
   "source": [
    "# Example 1: Nested function calls\n",
    "def add(a, b):\n",
    "    return a + b\n",
    "\n",
    "def multiply(x, y):\n",
    "    return x * y\n",
    "\n",
    "result = multiply(add(2, 3), 4)\n",
    "print(result)"
   ]
  },
  {
   "cell_type": "code",
   "execution_count": null,
   "id": "fa0ca0b7-8605-4ddd-984a-23ea8472a664",
   "metadata": {},
   "outputs": [],
   "source": [
    "# Example 2: Chained function calls\n",
    "def add(a, b):\n",
    "    return a + b\n",
    "\n",
    "result = add(2, 3) + add(4, 5)\n",
    "print(result)"
   ]
  },
  {
   "cell_type": "code",
   "execution_count": null,
   "id": "5605270b-6661-4bf0-81b8-e15f4cc199d1",
   "metadata": {},
   "outputs": [],
   "source": [
    "# Example 3: Function call with default arguments\n",
    "def greet(name, greeting=\"Hello\"):\n",
    "    return greeting + \", \" + name + \"!\"\n",
    "\n",
    "result = greet(\"Alice\")\n",
    "print(result)"
   ]
  },
  {
   "cell_type": "code",
   "execution_count": null,
   "id": "6608cd1a-1284-4582-a8ef-2c0856113583",
   "metadata": {},
   "outputs": [],
   "source": [
    "# Example 4: Function call with keyword arguments\n",
    "def calculate_total(price, quantity):\n",
    "    return price * quantity\n",
    "\n",
    "total = calculate_total(price=10, quantity=5)\n",
    "print(total)"
   ]
  },
  {
   "cell_type": "code",
   "execution_count": null,
   "id": "4d7e9886-fe89-4983-85e0-89b285576a4e",
   "metadata": {},
   "outputs": [],
   "source": [
    "# Example 5: Function call with variable number of arguments\n",
    "def average(*args):\n",
    "    return sum(args) / len(args)\n",
    "\n",
    "result = average(2, 4, 6, 8)\n",
    "print(result)"
   ]
  },
  {
   "cell_type": "code",
   "execution_count": null,
   "id": "faf10755-0d57-4dda-a1f5-7b7fee80a03b",
   "metadata": {},
   "outputs": [],
   "source": [
    "# Example 6: Function call with variable number of keyword arguments\n",
    "def print_info(**kwargs):\n",
    "    for key, value in kwargs.items():\n",
    "        print(key + \": \" + value)\n",
    "\n",
    "print_info(name=\"Alice\", age=\"25\", country=\"USA\")"
   ]
  },
  {
   "cell_type": "code",
   "execution_count": null,
   "id": "d19fb41c-00b9-4831-bc53-128ad62a93a0",
   "metadata": {},
   "outputs": [],
   "source": [
    "# Example 7: Function call with lambda function\n",
    "multiply = lambda x, y: x * y\n",
    "result = multiply(3, 4)\n",
    "print(result)"
   ]
  },
  {
   "cell_type": "code",
   "execution_count": null,
   "id": "d4f94a81-df18-4ec4-9cad-6ef375de2072",
   "metadata": {},
   "outputs": [],
   "source": [
    "# Example 8: Accessing attributes of an object\n",
    "class Rectangle:\n",
    "    def __init__(self, length, width):\n",
    "        self.length = length\n",
    "        self.width = width\n",
    "\n",
    "rectangle = Rectangle(4, 5)\n",
    "print(rectangle.length)"
   ]
  },
  {
   "cell_type": "code",
   "execution_count": null,
   "id": "f84ef757-f65e-40d2-9aad-5a331bea1f5a",
   "metadata": {},
   "outputs": [],
   "source": [
    "# Example 9: Function call with a function as an argument\n",
    "def apply_operation(operation, x, y):\n",
    "    return operation(x, y)\n",
    "\n",
    "def multiply(x, y):\n",
    "    return x * y\n",
    "\n",
    "result = apply_operation(multiply, 3, 4)\n",
    "print(result)"
   ]
  },
  {
   "cell_type": "markdown",
   "id": "144452d8-65b1-4601-9380-3d08da72b975",
   "metadata": {},
   "source": [
    "## *1.4 Output format*"
   ]
  },
  {
   "cell_type": "code",
   "execution_count": null,
   "id": "e9d5eb58-5aa4-439a-a2e3-b732d595a0bf",
   "metadata": {},
   "outputs": [],
   "source": [
    "'''\n",
    "Pay attention to the expected output format specified in the exercise instructions. \n",
    "The output may require distinguishing between integers, floats, and strings \n",
    "by using quotes or appropriate suffixes such as .0 for floats.\n",
    "'''"
   ]
  },
  {
   "cell_type": "code",
   "execution_count": null,
   "id": "acd54635-7596-49c6-a63a-5787cad8773e",
   "metadata": {},
   "outputs": [],
   "source": [
    "# TEST\n",
    "num = 3.14159\n",
    "num2 = 3\n",
    "output = f'A {num:.2f}'\n",
    "output2 = f'B {num2:04d}'\n",
    "\n",
    "print(output, output2)"
   ]
  },
  {
   "cell_type": "code",
   "execution_count": null,
   "id": "15f81632-7520-4d9b-a9a7-e66398f63896",
   "metadata": {},
   "outputs": [],
   "source": [
    "# Example 1: Formatting a float with a specific number of decimal places\n",
    "num = 3.14159\n",
    "output = \"{:.2f}\".format(num)\n",
    "print(output)"
   ]
  },
  {
   "cell_type": "code",
   "execution_count": null,
   "id": "bdea0013-d669-4cc9-ba21-0aa8fde56013",
   "metadata": {},
   "outputs": [],
   "source": [
    "# Example 2: Converting an integer to a formatted string with leading zeros\n",
    "num = 7\n",
    "output = \"{:04d}\".format(num)\n",
    "print(output)"
   ]
  },
  {
   "cell_type": "code",
   "execution_count": null,
   "id": "27d87e17-52a4-4cc9-9fdb-761b47d938ff",
   "metadata": {},
   "outputs": [],
   "source": [
    "# Example 3: Using f-strings to format a float with a specified width and decimal places\n",
    "num = 2.71828\n",
    "output = f\"{num:8.3f}\"\n",
    "print(output)"
   ]
  },
  {
   "cell_type": "code",
   "execution_count": null,
   "id": "fc363618-6070-4786-ba90-1e569df0d67b",
   "metadata": {},
   "outputs": [],
   "source": [
    "# Example 4: Displaying a string with single quotes and escaped characters\n",
    "text = \"Hello, 'PyML'!\"\n",
    "output = repr(text)\n",
    "\n",
    "print(output)\n",
    "print(text)"
   ]
  },
  {
   "cell_type": "code",
   "execution_count": null,
   "id": "f67f13b3-035c-47c8-bb5a-c5c8e510ff82",
   "metadata": {},
   "outputs": [],
   "source": [
    "# Example 5: Representing a boolean value as an integer\n",
    "\n",
    "value = True\n",
    "output = int(value)\n",
    "print(output)"
   ]
  },
  {
   "cell_type": "code",
   "execution_count": null,
   "id": "dd1b7f0e-91f5-4363-982e-d884eea67c48",
   "metadata": {},
   "outputs": [],
   "source": [
    "# Example 6: Formatting a string with variable substitution\n",
    "name = \"Alice\"\n",
    "age = 25\n",
    "output = \"My name is {} and I am {} years old.\".format(name, age)\n",
    "print(output)"
   ]
  },
  {
   "cell_type": "code",
   "execution_count": null,
   "id": "b3e9bf69-1cb7-47d3-8156-47db8354d092",
   "metadata": {},
   "outputs": [],
   "source": [
    "# Example 7: Specifying the number of characters for a string\n",
    "text = \"PyML\"\n",
    "output = \"{:100}\".format(text)\n",
    "print(output)"
   ]
  },
  {
   "cell_type": "code",
   "execution_count": null,
   "id": "93b45511-4227-4f68-8987-8de1df20d63c",
   "metadata": {},
   "outputs": [],
   "source": [
    "# Example 8: Representing a floating-point number in scientific notation\n",
    "num = 0.0000123456\n",
    "output = \"{:.2e}\".format(num)\n",
    "print(output)"
   ]
  },
  {
   "cell_type": "code",
   "execution_count": null,
   "id": "6bd9200a-987f-451d-9059-304952274441",
   "metadata": {},
   "outputs": [],
   "source": [
    "# Example 9: Formatting a string with a specified width and alignment\n",
    "text = \"PyML\"\n",
    "output = \"{:^10}\".format(text)\n",
    "print(output)"
   ]
  },
  {
   "cell_type": "code",
   "execution_count": null,
   "id": "bedec7ae-509a-4ab5-8da6-140b8a9d3e75",
   "metadata": {},
   "outputs": [],
   "source": [
    "# Example 10: Displaying the length of a string as a floating-point number\n",
    "text = \"Hello\"\n",
    "output = \"{:.2f}\".format(len(text))\n",
    "print(output)"
   ]
  },
  {
   "cell_type": "markdown",
   "id": "55bae81f-e30c-4d51-97c7-46bd36c89b60",
   "metadata": {},
   "source": [
    "## *1.5 Basic operations*"
   ]
  },
  {
   "cell_type": "code",
   "execution_count": null,
   "id": "d9a6bcb5-8788-4077-8e7b-4d60550a4215",
   "metadata": {},
   "outputs": [],
   "source": [
    "'''\n",
    "Be comfortable with performing basic operations on different data types, \n",
    "such as addition, subtraction, multiplication, division, and concatenation.\n",
    "'''"
   ]
  },
  {
   "cell_type": "code",
   "execution_count": null,
   "id": "a6f2dd54-1883-4e23-8b01-f100a4ac7374",
   "metadata": {},
   "outputs": [],
   "source": [
    "# Example 1: Arithmetic operations on integers\n",
    "x = 10\n",
    "y = 3\n",
    "output_1 = x // y  # Floor division\n",
    "output_2 = x % y  # Modulo\n",
    "output_3 = x ** y  # Exponentiation\n",
    "\n",
    "print(output_1, output_2, output_3)"
   ]
  },
  {
   "cell_type": "code",
   "execution_count": null,
   "id": "1084cbc7-27b0-4de9-9b44-0307a4c3d07b",
   "metadata": {},
   "outputs": [],
   "source": [
    "# Example 2: Arithmetic operations on floats\n",
    "x = 3.5\n",
    "y = 1.2\n",
    "output_1 = x / y  # Division\n",
    "output_2 = x + y  # Addition\n",
    "output_3 = x * y  # Multiplication\n",
    "\n",
    "print(output_1, output_2, output_3)"
   ]
  },
  {
   "cell_type": "code",
   "execution_count": null,
   "id": "2cb003ab-272a-4860-b153-ba1841739834",
   "metadata": {},
   "outputs": [],
   "source": [
    "# Example 3: Arithmetic operations on mixed data types\n",
    "x = 5\n",
    "y = 2.5\n",
    "output_1 = x + y  # Addition\n",
    "output_2 = x * y  # Multiplication\n",
    "output_3 = x / y  # Division\n",
    "\n",
    "print(output_1, output_2, output_3)"
   ]
  },
  {
   "cell_type": "code",
   "execution_count": null,
   "id": "d4ca0a08-6cfa-482b-8df0-1122674465ba",
   "metadata": {},
   "outputs": [],
   "source": [
    "# Example 4: Concatenation of strings\n",
    "text1 = \"Hello\"\n",
    "text2 = \"PyML\"\n",
    "output = text1 + \" \" + text2\n",
    "\n",
    "print(output)"
   ]
  },
  {
   "cell_type": "code",
   "execution_count": null,
   "id": "0b48fc8a-4291-4049-9dbb-2638b17f7b5e",
   "metadata": {},
   "outputs": [],
   "source": [
    "# Example 5: Arithmetic operations within expressions\n",
    "x = 5\n",
    "y = 3\n",
    "z = 2\n",
    "output = (x + y) * z / y\n",
    "\n",
    "print(output)"
   ]
  },
  {
   "cell_type": "code",
   "execution_count": null,
   "id": "ef054c38-f212-4b26-bf66-a5b520f25901",
   "metadata": {},
   "outputs": [],
   "source": [
    "# Example 6: String repetition\n",
    "text = \"PyML\"\n",
    "output = text * 3\n",
    "print(output)"
   ]
  },
  {
   "cell_type": "code",
   "execution_count": null,
   "id": "76259b27-b5e9-476b-a1f9-f31c876aa73d",
   "metadata": {},
   "outputs": [],
   "source": [
    "# Example 7: Division with floor division result\n",
    "x = 10\n",
    "y = 3\n",
    "output_1 = x / y  # Division\n",
    "output_2 = x // y  # Floor division\n",
    "\n",
    "print(output_1, output_2)"
   ]
  },
  {
   "cell_type": "code",
   "execution_count": null,
   "id": "90f179f2-d55c-4ffd-9d6b-bd4454b55dd3",
   "metadata": {},
   "outputs": [],
   "source": [
    "# Example 8: Modulo operation on negative numbers\n",
    "x = -10\n",
    "y = 3\n",
    "output = x % y\n",
    "\n",
    "print(output)"
   ]
  },
  {
   "cell_type": "code",
   "execution_count": null,
   "id": "757fe8bc-eaf0-4853-9055-a905ea9902b8",
   "metadata": {},
   "outputs": [],
   "source": [
    "# Example 9: String multiplication with zero\n",
    "text = \"PyML\"\n",
    "output = text * 0\n",
    "\n",
    "print(output)"
   ]
  },
  {
   "cell_type": "markdown",
   "id": "4ec95b19-cf09-438a-8a2d-129e8a303b6b",
   "metadata": {},
   "source": [
    "## *1.6 Order of operations*"
   ]
  },
  {
   "cell_type": "code",
   "execution_count": null,
   "id": "cf7e8194-38c5-486d-aeea-df12d207f7bf",
   "metadata": {},
   "outputs": [],
   "source": [
    "'''\n",
    "Understand the precedence of operators in Python and how to use parentheses to control \n",
    "the order of evaluation in complex expressions.\n",
    "'''"
   ]
  },
  {
   "cell_type": "code",
   "execution_count": null,
   "id": "a7b4e5c6-0a17-4092-b879-b9a4904580a4",
   "metadata": {},
   "outputs": [],
   "source": [
    "# Example 1: Complex arithmetic operations with parentheses\n",
    "\n",
    "output = (2 + 3) * 4 - 2\n",
    "print(output)"
   ]
  },
  {
   "cell_type": "code",
   "execution_count": null,
   "id": "7e798a25-0866-469d-a11a-a417a76074a2",
   "metadata": {},
   "outputs": [],
   "source": [
    "# Example 2: Operator precedence involving multiplication, division, and addition\n",
    "output = 10 - 4 * 2 / 2\n",
    "print(output)"
   ]
  },
  {
   "cell_type": "code",
   "execution_count": null,
   "id": "7b1d3cf6-39a1-4640-8135-8af4b7e7c16e",
   "metadata": {},
   "outputs": [],
   "source": [
    "# Example 3: Operator precedence with mixed operations\n",
    "output = 5 - 2 * 3 + 4 / 2\n",
    "print(output)"
   ]
  },
  {
   "cell_type": "code",
   "execution_count": null,
   "id": "bf2b8850-b1a4-4e69-b44b-5ee6f6315aed",
   "metadata": {},
   "outputs": [],
   "source": [
    "# Example 4: Complex expression with multiple levels of parentheses\n",
    "\n",
    "output = ((10 - 2) * (3 + 4)) / (6 - 1)\n",
    "\n",
    "print(output)"
   ]
  },
  {
   "cell_type": "code",
   "execution_count": null,
   "id": "c030342a-9e1f-48f4-b985-914411fa3588",
   "metadata": {},
   "outputs": [],
   "source": [
    "# Example 5: Operator precedence with multiple operators:\n",
    "\n",
    "output = 2 + 3 * 4 - 6 / 2 ** 2\n",
    "print(output)"
   ]
  },
  {
   "cell_type": "markdown",
   "id": "1fc4540d-7fac-4be3-aef0-9008f88c0b0d",
   "metadata": {},
   "source": [
    "## *1.7 Built-in functions*"
   ]
  },
  {
   "cell_type": "code",
   "execution_count": null,
   "id": "4b66f92a-6734-42c8-a2a3-b5550c1799d6",
   "metadata": {},
   "outputs": [],
   "source": [
    "'''\n",
    "Familiarize yourself with commonly used built-in functions in Python, \n",
    "such as print(), len(), range(), min(), max(), sum(), and round(), among others. \n",
    "These functions may appear in the code blocks and influence the output.\n",
    "'''"
   ]
  },
  {
   "cell_type": "code",
   "execution_count": null,
   "id": "368de96f-b3fe-43ae-8fc3-38eec9c352df",
   "metadata": {},
   "outputs": [],
   "source": [
    "# Example 1: Using the len() function to determine the length of a string\n",
    "text = \"Hello, PyML!\"\n",
    "output = len(text)\n",
    "\n",
    "print(output)"
   ]
  },
  {
   "cell_type": "code",
   "execution_count": null,
   "id": "a8512cad-96a3-4d5b-8c7d-e5f1963e485c",
   "metadata": {},
   "outputs": [],
   "source": [
    "# Example 2: Using the max() and min() functions with a list of numbers\n",
    "numbers = [5, 2, 8, 1, 9]\n",
    "output_max = max(numbers)\n",
    "output_min = min(numbers)\n",
    "\n",
    "print(output_max, output_min)"
   ]
  },
  {
   "cell_type": "code",
   "execution_count": null,
   "id": "cc8215d3-43f2-45ab-ab2e-ba07344f852b",
   "metadata": {},
   "outputs": [],
   "source": [
    "# Example 3: Applying the round() function to a float with a specified number of decimal places\n",
    "num = 3.14159\n",
    "output = round(num, 2)\n",
    "\n",
    "print(output)"
   ]
  },
  {
   "cell_type": "code",
   "execution_count": null,
   "id": "7aa1d19b-d869-4298-8550-6b6fdcf6755b",
   "metadata": {},
   "outputs": [],
   "source": [
    "# Example 4: Using the sum() function to calculate the total of a list of numbers\n",
    "numbers = [1, 2, 3, 4, 5]\n",
    "output = sum(numbers)\n",
    "\n",
    "print(output)"
   ]
  },
  {
   "cell_type": "code",
   "execution_count": null,
   "id": "deb55346-f9ab-4cad-a189-472ba5e0aaae",
   "metadata": {},
   "outputs": [],
   "source": [
    "# Example 5: Utilizing the sorted() function to sort a list in ascending order\n",
    "numbers = [5, 2, 8, 1, 9]\n",
    "output = sorted(numbers)\n",
    "\n",
    "print(output)"
   ]
  },
  {
   "cell_type": "code",
   "execution_count": null,
   "id": "7256d9f3-6176-4b76-a02e-2eeb83247251",
   "metadata": {},
   "outputs": [],
   "source": [
    "# Example 6: Using the range() function to generate a sequence of numbers\n",
    "output = list(range(1, 10, 2))\n",
    "print(output)"
   ]
  },
  {
   "cell_type": "code",
   "execution_count": null,
   "id": "a2e46839-923f-409b-96bf-bdca035964d0",
   "metadata": {},
   "outputs": [],
   "source": [
    "# Example 7: Applying the abs() function to calculate the absolute value of a number\n",
    "num = -5\n",
    "output = abs(num)\n",
    "print(output)"
   ]
  },
  {
   "cell_type": "code",
   "execution_count": null,
   "id": "93aa0dfe-b2c6-4dd1-bdc4-00eabb74a2e8",
   "metadata": {},
   "outputs": [],
   "source": [
    "# Example 8: Utilizing the format() function to format a string with dynamic values\n",
    "name = \"Alice\"\n",
    "age = 25\n",
    "output = \"My name is {} and I am {} years old.\".format(name, age)\n",
    "\n",
    "print(output)"
   ]
  },
  {
   "cell_type": "code",
   "execution_count": null,
   "id": "3afa485e-c953-4243-94db-527211d1954b",
   "metadata": {},
   "outputs": [],
   "source": [
    "# Example 9: Using the reversed() function to reverse the order of a list\n",
    "numbers = [1, 2, 3, 4, 5]\n",
    "output = list(reversed(numbers))\n",
    "print(output)"
   ]
  },
  {
   "cell_type": "code",
   "execution_count": null,
   "id": "ad9822e9-61d5-454b-b165-40adab9de2d8",
   "metadata": {},
   "outputs": [],
   "source": [
    "# Example 10: Applying the any() and all() functions to check conditions on a list of values\n",
    "values = [True, False, True]\n",
    "output_any = any(values)\n",
    "output_all = all(values)\n",
    "\n",
    "print(output_any, output_all)"
   ]
  },
  {
   "cell_type": "markdown",
   "id": "37aea50e-d170-4e85-8d23-b0a3201ec1e8",
   "metadata": {},
   "source": [
    "## *1.8 Function parameters and return values*"
   ]
  },
  {
   "cell_type": "code",
   "execution_count": null,
   "id": "00a370d7-1cd8-4199-bb86-45fb60c88f20",
   "metadata": {},
   "outputs": [],
   "source": [
    "'''\n",
    "Pay attention to the parameters passed to functions and the return values they produce. \n",
    "Understanding the purpose and behavior of functions is crucial in determining the output.\n",
    "'''"
   ]
  },
  {
   "cell_type": "code",
   "execution_count": null,
   "id": "4c4d52d1-a881-45c0-bd6e-70e20b5277ea",
   "metadata": {},
   "outputs": [],
   "source": [
    "# Example 1: Function with default parameter value\n",
    "def greet(name, greeting=\"Hello\"):\n",
    "    return greeting + \", \" + name + \"!\"\n",
    "\n",
    "output = greet(\"Alice\")\n",
    "print(output)"
   ]
  },
  {
   "cell_type": "code",
   "execution_count": null,
   "id": "ade9b520-6f84-4953-91c2-048efb27eff3",
   "metadata": {},
   "outputs": [],
   "source": [
    "# Example 2: Function with conditional return statements\n",
    "def get_grade(score):\n",
    "    if score >= 90:\n",
    "        return \"A\"\n",
    "    elif score >= 80:\n",
    "        return \"B\"\n",
    "    else:\n",
    "        return \"C\"\n",
    "\n",
    "output = get_grade(85)\n",
    "print(output)"
   ]
  },
  {
   "cell_type": "code",
   "execution_count": null,
   "id": "3d3ba133-768f-4251-9c49-2b71bf58f65d",
   "metadata": {},
   "outputs": [],
   "source": [
    "# Example 3: Function with side effects\n",
    "def increment(x):\n",
    "    x += 1\n",
    "\n",
    "number = 5\n",
    "increment(number)\n",
    "print(number)"
   ]
  },
  {
   "cell_type": "code",
   "execution_count": null,
   "id": "819329da-fa2e-4443-bfd9-4941423ddcff",
   "metadata": {},
   "outputs": [],
   "source": [
    "# Example 4: Function with multiple return values\n",
    "def get_circle_properties(radius):\n",
    "    circumference = 2 * 3.14 * radius\n",
    "    area = 3.14 * radius ** 2\n",
    "    return circumference, area\n",
    "\n",
    "circumference, area = get_circle_properties(3)\n",
    "print(circumference, area)"
   ]
  },
  {
   "cell_type": "code",
   "execution_count": null,
   "id": "d277f485-4eb3-4dae-a7d3-a1af4b55ea9d",
   "metadata": {},
   "outputs": [],
   "source": [
    "# Example 5: Function with mutable default parameter\n",
    "\n",
    "def append_value(value, lst=[]):\n",
    "    lst.append(value)\n",
    "    return lst\n",
    "\n",
    "output1 = append_value(1)\n",
    "output2 = append_value(2)\n",
    "# output2=4\n",
    "\n",
    "print(output1, output2)"
   ]
  },
  {
   "cell_type": "code",
   "execution_count": null,
   "id": "bc9cd16e-cab2-46f5-8092-9f24d22948e5",
   "metadata": {},
   "outputs": [],
   "source": [
    "# Example 6: Function with recursion\n",
    "def factorial(n):\n",
    "    if n == 0:\n",
    "        return 1\n",
    "    else:\n",
    "        return n * factorial(n-1)\n",
    "\n",
    "output = factorial(4)\n",
    "print(output)"
   ]
  },
  {
   "cell_type": "code",
   "execution_count": null,
   "id": "05729f93-45a3-4a12-a1fc-9e7e36951fc3",
   "metadata": {},
   "outputs": [],
   "source": [
    "# Example 7: Function with lambda expression\n",
    "multiply = lambda x, y: x * y\n",
    "output = multiply(3, 4)\n",
    "print(output)"
   ]
  },
  {
   "cell_type": "markdown",
   "id": "ea6df05f-9d26-4e7e-ac04-4077ea05b796",
   "metadata": {},
   "source": [
    "## *1.9 String manipulation*"
   ]
  },
  {
   "cell_type": "code",
   "execution_count": null,
   "id": "dfc052ce-fd5b-4e4a-b7d4-982877c452cd",
   "metadata": {},
   "outputs": [],
   "source": [
    "'''\n",
    "Be aware of basic string manipulation operations, such as slicing, concatenation, and string formatting. \n",
    "This knowledge will help you interpret and determine the output of code blocks involving strings.\n",
    "'''"
   ]
  },
  {
   "cell_type": "code",
   "execution_count": null,
   "id": "271ce4fc-5b2b-48f6-bd4c-d380ea7b3409",
   "metadata": {},
   "outputs": [],
   "source": [
    "# Example 1: Concatenating strings\n",
    "\n",
    "text1 = \"Hello\"\n",
    "text2 = \"PyML\"\n",
    "output = text1 + \" \" + text2\n",
    "\n",
    "print(output)"
   ]
  },
  {
   "cell_type": "code",
   "execution_count": null,
   "id": "df240f32-e724-46ec-9736-9e657288a158",
   "metadata": {},
   "outputs": [],
   "source": [
    "# Example 2: String indexing and slicing\n",
    "text = \"Python\"\n",
    "output_1 = text[0]  # Accessing first character\n",
    "output_2 = text[-1]  # Accessing last character\n",
    "output_3 = text[2:5]  # Slicing from index 2 to 4 (exclusive)\n",
    "\n",
    "print(output_1, output_2, output_3)"
   ]
  },
  {
   "cell_type": "code",
   "execution_count": null,
   "id": "81327fb7-6bc7-41d2-95c3-c528e104fd37",
   "metadata": {},
   "outputs": [],
   "source": [
    "# Example 3: Converting case\n",
    "text = \"Python\"\n",
    "output_1 = text.lower()  # Converting to lowercase\n",
    "output_2 = text.upper()  # Converting to uppercase\n",
    "\n",
    "print(output_1, output_2)"
   ]
  },
  {
   "cell_type": "code",
   "execution_count": null,
   "id": "646cb497-4b02-4f06-8e53-b8fc1ad0caa9",
   "metadata": {},
   "outputs": [],
   "source": [
    "# Example 4: String split and join\n",
    "text = \"AB, CD!\"\n",
    "output_1 = text.split(\",\")  # Splitting string by comma\n",
    "output_2 = \"-\".join(text.split(\",\"))  # Joining words with hyphen\n",
    "\n",
    "print(output_1, output_2)"
   ]
  },
  {
   "cell_type": "code",
   "execution_count": null,
   "id": "3a2f7b32-e60e-40a7-934d-a356df77223b",
   "metadata": {},
   "outputs": [],
   "source": [
    "# Example 5: String strip and replace\n",
    "\n",
    "text = \"   PyML   \"\n",
    "output_1 = text.strip()  # Removing leading and trailing whitespace\n",
    "output_2 = text.replace(\"ML\", \"Machine Learning\")  # Replacing substring\n",
    "\n",
    "print(output_1, output_2)"
   ]
  },
  {
   "cell_type": "code",
   "execution_count": null,
   "id": "971b5098-7721-4e29-9db5-45faab611fbf",
   "metadata": {},
   "outputs": [],
   "source": [
    "# Example 6: Checking string presence\n",
    "text = \"Hello, PyML!\"\n",
    "output_1 = \"Py\" in text  # Checking substring presence\n",
    "output_2 = text.startswith(\"Hello\")  # Checking starting substring\n",
    "output_3 = text.endswith(\"!\")  # Checking ending substring\n",
    "\n",
    "print(output_1, output_2, output_3)"
   ]
  },
  {
   "cell_type": "markdown",
   "id": "15c550d4-6e1e-4cb6-8982-a9c62b49196c",
   "metadata": {},
   "source": [
    "# 2_Coding exercises"
   ]
  },
  {
   "cell_type": "markdown",
   "id": "eadc938b-42be-4fe7-adc0-b0e5f152c2df",
   "metadata": {},
   "source": [
    "## *2.1 Data structures*"
   ]
  },
  {
   "cell_type": "code",
   "execution_count": null,
   "id": "eef6737b-2e36-42af-98a1-6f4a1cff7246",
   "metadata": {},
   "outputs": [],
   "source": [
    "'''\n",
    "Familiarize yourself with different data structures in Python, such as lists, sets, dictionaries, and tuples. \n",
    "Each data structure has its own properties and methods for manipulation\n",
    "'''"
   ]
  },
  {
   "cell_type": "code",
   "execution_count": null,
   "id": "3c8bd2a4-178a-40d9-9978-46c68efa59c8",
   "metadata": {},
   "outputs": [],
   "source": [
    "# Example 1\n",
    "'''\n",
    "Write a function that takes a list of integers as input and \n",
    "returns a new list containing only the even numbers from the input list\n",
    "'''\n",
    "\n",
    "def get_even_numbers(numbers):\n",
    "    even_numbers = [i for i in numbers if i%2 == 0]\n",
    "    return even_numbers\n",
    "\n",
    "# TEST\n",
    "list123 = [1,2,3,4,5]\n",
    "get_even_numbers(list123)"
   ]
  },
  {
   "cell_type": "code",
   "execution_count": null,
   "id": "ec670ed0-3328-45f7-8b6c-0c18618d09f7",
   "metadata": {},
   "outputs": [],
   "source": [
    "# Example 2\n",
    "'''\n",
    "Write a function that takes a string as input and returns \n",
    "a new string with the words in reverse order\n",
    "'''\n",
    "def reverse_words(sentence):\n",
    "    words = sentence.split()\n",
    "    reversed_words = words[::-1]\n",
    "    reversed_sentence = \" \".join(reversed_words)\n",
    "    return reversed_sentence\n",
    "\n",
    "# TEST\n",
    "reverse_words(\"du! bist Schlau\")"
   ]
  },
  {
   "cell_type": "code",
   "execution_count": null,
   "id": "2974d039-7607-4aa9-94a9-4fcc6fdd7097",
   "metadata": {},
   "outputs": [],
   "source": [
    "# Example 3\n",
    "\"\"\"\n",
    "Write a function that takes a dictionary as input and returns a new dictionary \n",
    "where the keys and values are swapped:\n",
    "\"\"\"\n",
    "def swap_keys_values(dictionary):\n",
    "    swapped_dict = {value: key for key, value in dictionary.items()}\n",
    "    return swapped_dict\n",
    "\n",
    "# TEST\n",
    "dicttest = {\n",
    "  \"brand\": \"Ford\",\n",
    "  \"model\": \"Mustang\",\n",
    "  \"year\": 1964\n",
    "}\n",
    "\n",
    "swap_keys_values(dicttest)"
   ]
  },
  {
   "cell_type": "code",
   "execution_count": null,
   "id": "03cf5a0b-4eb4-41ce-bcd2-ea87d10d0b41",
   "metadata": {},
   "outputs": [],
   "source": [
    "# Example 4\n",
    "'''\n",
    "Write a function that takes a list of strings as input and \n",
    "returns a new list containing the lengths of each string\n",
    "'''\n",
    "\n",
    "def get_string_lengths(strings):\n",
    "    lengths = [len(i) for i in strings]\n",
    "    return lengths\n",
    "\n",
    "# TEST\n",
    "listtest = [\"abc\", \"abcd\", \"abcde\"]\n",
    "get_string_lengths(listtest)"
   ]
  },
  {
   "cell_type": "code",
   "execution_count": null,
   "id": "7b4b9032-3b04-43c7-81d4-eee514d6f676",
   "metadata": {},
   "outputs": [],
   "source": [
    "# Example 5\n",
    "'''\n",
    "Write a function that takes a list of numbers as input and \n",
    "returns the sum of all the numbers\n",
    "'''\n",
    "\n",
    "def get_sum(numbers):\n",
    "    total = sum(numbers)\n",
    "    return total\n",
    "\n",
    "# TEST\n",
    "listtest =(1,2,3,4)\n",
    "get_sum(listtest)"
   ]
  },
  {
   "cell_type": "code",
   "execution_count": null,
   "id": "5481d839-35d0-44d6-b7f1-db6595745cba",
   "metadata": {},
   "outputs": [],
   "source": [
    "# Example 6\n",
    "'''\n",
    "Write a function that takes a string as input and \n",
    "returns a new string with the vowels removed\n",
    "'''\n",
    "def remove_vowels(text):\n",
    "    vowels = \"aeiouAEIOU\"\n",
    "    no_vowels = \"\".join([char for char in text if char not in vowels])\n",
    "    return no_vowels\n",
    "\n",
    "listtest = \"Hallo\"\n",
    "remove_vowels(listtest)"
   ]
  },
  {
   "cell_type": "code",
   "execution_count": null,
   "id": "8f87774a-5f34-499c-9f0f-fa87c0a7c16a",
   "metadata": {},
   "outputs": [],
   "source": [
    "# Example 7\n",
    "'''\n",
    "Write a function that takes a list of numbers as input and \n",
    "returns a new list with the numbers squared\n",
    "'''\n",
    "def square_numbers(numbers):\n",
    "    squared = [i**2 for i in numbers]\n",
    "    return squared"
   ]
  },
  {
   "cell_type": "code",
   "execution_count": null,
   "id": "b059ffe9-febd-4407-94ee-dce36de8e09b",
   "metadata": {},
   "outputs": [],
   "source": [
    "# Example 8\n",
    "'''\n",
    "Write a function that takes a list of strings as input and \n",
    "returns a new list with the strings in uppercase\n",
    "'''\n",
    "\n",
    "def uppercase_strings(strings):\n",
    "    uppercased = [i.upper() for i in strings]\n",
    "    return uppercased\n",
    "\n",
    "# TEST\n",
    "listtest = [\"aBc\", \"abCd\", \"abcDe\"]\n",
    "uppercase_strings(listtest)"
   ]
  },
  {
   "cell_type": "code",
   "execution_count": null,
   "id": "72dfdf5b-6d33-4ef4-be54-06be29fe2adc",
   "metadata": {},
   "outputs": [],
   "source": [
    "# Example 9\n",
    "'''\n",
    "Write a function that takes a string as input and returns \n",
    "the count of each unique character in the string as a dictionary\n",
    "'''\n",
    "\n",
    "def count_characters(text):\n",
    "    char_count = {i: text.count(i) for i in set(text)}\n",
    "    return char_count\n",
    "\n",
    "# TEST\n",
    "listtest = \"Hallo\"\n",
    "count_characters(listtest)"
   ]
  },
  {
   "cell_type": "code",
   "execution_count": null,
   "id": "c5d268f6-d10b-43c9-99ca-b2ea3b72def9",
   "metadata": {},
   "outputs": [],
   "source": [
    "# Example 10\n",
    "'''\n",
    "Write a function that takes a list of numbers as input and \n",
    "returns a new list with only the unique numbers\n",
    "'''\n",
    "def get_unique_numbers(numbers):\n",
    "    unique_numbers = list(set(numbers))\n",
    "    return unique_numbers\n",
    "\n",
    "# TEST\n",
    "listtest = [1,2,3,4,4,4]\n",
    "get_unique_numbers(listtest)"
   ]
  },
  {
   "cell_type": "markdown",
   "id": "0c6ada82-4ca9-462e-a18c-dc73c66c37be",
   "metadata": {},
   "source": [
    "## *2.2 Iteration*"
   ]
  },
  {
   "cell_type": "code",
   "execution_count": null,
   "id": "54396bb4-9ae1-42d4-a622-328429a09e9f",
   "metadata": {},
   "outputs": [],
   "source": [
    "'''\n",
    "You should know how to iterate over elements in a data structure using loops, such as for loops. \n",
    "Iteration allows you to access and process each element in a collection\n",
    "'''"
   ]
  },
  {
   "cell_type": "code",
   "execution_count": null,
   "id": "212934b9-a17a-48ce-8554-a7fe06a6c6d5",
   "metadata": {},
   "outputs": [],
   "source": [
    "# Example 1\n",
    "'''\n",
    "Write a function that takes a list of numbers as input and \n",
    "returns a new list with only the even numbers:\n",
    "'''\n",
    "def get_even_numbers(numbers):\n",
    "    even_numbers = []\n",
    "    for i in numbers:\n",
    "        if i % 2 == 0:\n",
    "            even_numbers.append(i)\n",
    "    return even_numbers\n",
    "\n",
    "listtest = [1,2,3,4,4,4]\n",
    "get_even_numbers(listtest)"
   ]
  },
  {
   "cell_type": "code",
   "execution_count": null,
   "id": "28e8ce9f-03bd-4fc5-a759-e79de3b2da21",
   "metadata": {},
   "outputs": [],
   "source": [
    "# Example 2\n",
    "'''\n",
    "Write a function that takes a dictionary as input and \n",
    "returns a new list with the keys sorted in ascending order\n",
    "'''\n",
    "def sort_keys(dictionary):\n",
    "    sorted_keys = []\n",
    "    for i in sorted(dictionary.keys()):\n",
    "        sorted_keys.append(i)\n",
    "    return sorted_keys\n",
    "\n",
    "# TEST\n",
    "dicttest = {\n",
    "  \"brand\": \"Ford\",\n",
    "  \"model\": \"Mustang\",\n",
    "  \"year\": 1964\n",
    "}\n",
    "\n",
    "sort_keys(dicttest)"
   ]
  },
  {
   "cell_type": "code",
   "execution_count": null,
   "id": "f86d53d2-9d34-4aa5-9ac9-7855e520f9c5",
   "metadata": {},
   "outputs": [],
   "source": [
    "# FOR MORE INFOS TO EXAMPLE 2\n",
    "\n",
    "dicttest = {\n",
    "  \"brand\": \"Ford\",\n",
    "  \"model\": \"Mustang\",\n",
    "  \"year\": 1964\n",
    "}\n",
    "\n",
    "dicttest.keys()"
   ]
  },
  {
   "cell_type": "code",
   "execution_count": null,
   "id": "db87a73c-97e2-40b3-988f-4ff484881fb7",
   "metadata": {},
   "outputs": [],
   "source": [
    "# Example 3\n",
    "\n",
    "'''\n",
    "Write a function that takes a list of numbers as input \n",
    "and returns the sum of the positive numbers\n",
    "'''\n",
    "\n",
    "def sum_positive_numbers(numbers):\n",
    "    total = 0\n",
    "    for i in numbers:\n",
    "        if i > 0:\n",
    "            total += i\n",
    "    return total\n",
    "\n",
    "# TEST\n",
    "listtest = [1,2,3,-4,-4,4]\n",
    "sum_positive_numbers(listtest)"
   ]
  },
  {
   "cell_type": "code",
   "execution_count": null,
   "id": "929d4daf-f457-4f8b-a1a2-3b90859b7069",
   "metadata": {},
   "outputs": [],
   "source": [
    "# Example 4\n",
    "'''\n",
    "Write a function that takes a string as input and counts the number of occurrences \n",
    "of each character. Return the result as a dictionary\n",
    "'''\n",
    "\n",
    "def count_characters(text):\n",
    "    char_count = {}\n",
    "    for i in text:\n",
    "        if i in char_count:\n",
    "            char_count[i] += 1\n",
    "        else:\n",
    "            char_count[i] = 1\n",
    "    return char_count\n",
    "\n",
    "stringtest = \"Hallo\"\n",
    "count_characters(stringtest)"
   ]
  },
  {
   "cell_type": "code",
   "execution_count": null,
   "id": "15964bbb-5fb6-4c10-b382-0173ce62be7b",
   "metadata": {},
   "outputs": [],
   "source": [
    "# Example 5\n",
    "'''\n",
    "Write a function that takes a list of lists as input and \n",
    "returns a new list containing the maximum value from each inner list\n",
    "'''\n",
    "\n",
    "def get_max_values(matrix):\n",
    "    max_values = []\n",
    "    for sublist in matrix:\n",
    "        max_values.append(max(sublist))\n",
    "    return max_values\n",
    "\n",
    "# TEST\n",
    "matrix = [[1, 5, 3], [9, 2, 7], [4, 6, 8]]\n",
    "result = get_max_values(matrix)\n",
    "print(result)"
   ]
  },
  {
   "cell_type": "code",
   "execution_count": null,
   "id": "d4d50c9c-f2c7-46b5-9322-c8601a1cfc7c",
   "metadata": {},
   "outputs": [],
   "source": [
    "# Example 6\n",
    "'''\n",
    "Write a function that takes a list of numbers as input and \n",
    "returns a new list with the squared values\n",
    "'''\n",
    "\n",
    "def square_numbers(numbers):\n",
    "    squared_values = []\n",
    "    for i in numbers:\n",
    "        squared_values.append(i**2)\n",
    "    return squared_values\n",
    "\n",
    "listtest = [1,2,3,-4,-4,4]\n",
    "square_numbers(listtest)"
   ]
  },
  {
   "cell_type": "markdown",
   "id": "b4985f32-6d95-4047-b0ee-2db09aa85c10",
   "metadata": {},
   "source": [
    "## *2.3 Conditional statements*"
   ]
  },
  {
   "cell_type": "code",
   "execution_count": null,
   "id": "80383122-2aba-4bc9-a559-ce4681cc3775",
   "metadata": {},
   "outputs": [],
   "source": [
    "'''\n",
    "Understand how to use conditional statements, such as if, else, and elif, \n",
    "to perform different actions based on specific conditions.\n",
    "'''"
   ]
  },
  {
   "cell_type": "code",
   "execution_count": null,
   "id": "e89f864c-934e-428c-8e00-2c641c16fe64",
   "metadata": {},
   "outputs": [],
   "source": [
    "# Example 1\n",
    "'''\n",
    "Write a function that takes a string as input and returns \"Palindrome\" \n",
    "if the string is a palindrome (reads the same forwards and backwards) and \n",
    "\"Not Palindrome\" otherwise\n",
    "'''\n",
    "\n",
    "def check_palindrome(string):\n",
    "    reversed_string = string[::-1]\n",
    "    if string == reversed_string:\n",
    "        return \"Palindrome\"\n",
    "    else:\n",
    "        return \"Not Palindrome\"\n",
    "\n",
    "# TEST\n",
    "stringtest = \"step on no pets\"\n",
    "check_palindrome(stringtest)"
   ]
  },
  {
   "cell_type": "code",
   "execution_count": null,
   "id": "487a34cf-eec9-4098-a395-a6a771f57259",
   "metadata": {},
   "outputs": [],
   "source": [
    "# Example 2\n",
    "'''\n",
    "Write a function that takes a number as input and returns \"B\" if the number is divisible by 3, \n",
    "\"C\" if it is divisible by 5, and \"A\" if it is divisible by both 3 and 5. \n",
    "Otherwise, return the number itself\n",
    "'''\n",
    "def fizz_buzz(number):\n",
    "    if number % 3 == 0 and number % 5 == 0:\n",
    "        return \"A\"\n",
    "    elif number % 3 == 0:\n",
    "        return \"B\"\n",
    "    elif number % 5 == 0:\n",
    "        return \"C\"\n",
    "    else:\n",
    "        return number\n",
    "\n",
    "# TEST\n",
    "fizz_buzz(15)"
   ]
  },
  {
   "cell_type": "code",
   "execution_count": null,
   "id": "e5bcad8f-3873-4de4-a1be-956d29e14db8",
   "metadata": {},
   "outputs": [],
   "source": [
    "# Example 3\n",
    "'''\n",
    "Write a function that takes a list of numbers as input and returns the sum of the numbers. \n",
    "However, if any negative number is encountered, stop the sum and return -1:\n",
    "'''\n",
    "def sum_positive_numbers(numbers):\n",
    "    total = 0\n",
    "    for i in numbers:\n",
    "        if i < 0:\n",
    "            return -1\n",
    "        total += i\n",
    "    return total\n",
    "\n",
    "# TEST\n",
    "listtest = [1,2,3,-4,-4,4]\n",
    "listtest2 = [1,2,3,4]\n",
    "sum_positive_numbers(listtest2)"
   ]
  },
  {
   "cell_type": "code",
   "execution_count": null,
   "id": "82a08ed0-7da6-4d6c-aa04-ec803f04decb",
   "metadata": {},
   "outputs": [],
   "source": [
    "# Example 4\n",
    "'''\n",
    "Write a function that takes an integer as input and returns \"Prime\" if the number \n",
    "is prime (only divisible by 1 and itself) and \"Not Prime\" otherwise\n",
    "'''\n",
    "def check_prime(number):\n",
    "    if number <= 1:\n",
    "        return \"Not Prime\"\n",
    "    for i in range(2, int(number**0.5) +1):\n",
    "        if number % i ==0:\n",
    "            return \"Not Prime\"\n",
    "    return \"Prime\"\n",
    "\n",
    "# TEST\n",
    "inttest = 5\n",
    "check_prime(inttest)"
   ]
  },
  {
   "cell_type": "code",
   "execution_count": null,
   "id": "bd37a4c5-796a-46d3-9661-439d53ecac18",
   "metadata": {},
   "outputs": [],
   "source": [
    "# Example 5\n",
    "'''\n",
    "Write a function that takes a list of numbers as input and \n",
    "returns the count of numbers that are divisible by both 2 and 3\n",
    "'''\n",
    "\n",
    "def count_divisible_by_2and3(numbers):\n",
    "    count = 0\n",
    "    for i in numbers:\n",
    "        if i % 2 == 0 and i % 3 == 0:\n",
    "            count += 1\n",
    "    return count\n",
    "\n",
    "# TEST\n",
    "testlist = [6,6,6,1,2,3]\n",
    "count_divisible_by_2and3(testlist)"
   ]
  },
  {
   "cell_type": "markdown",
   "id": "de36dd33-9485-4002-b913-1424a1c2c95c",
   "metadata": {},
   "source": [
    "## *2.4 Comparison operators*"
   ]
  },
  {
   "cell_type": "code",
   "execution_count": null,
   "id": "174a1e14-27f5-4473-a974-c1b7d4d988d5",
   "metadata": {},
   "outputs": [],
   "source": [
    "'''\n",
    "Be familiar with comparison operators in Python, such as >, <, >=, <=, ==, and !=. \n",
    "These operators are used to compare values and return a boolean result (True or False)\n",
    "'''"
   ]
  },
  {
   "cell_type": "code",
   "execution_count": null,
   "id": "57f0804b-ce09-40a7-ad76-3dad3136bfd1",
   "metadata": {},
   "outputs": [],
   "source": [
    "# Example 1\n",
    "'''\n",
    "Write a function that takes a list of numbers as input and \n",
    "returns True if all the numbers in the list are positive, and False otherwise\n",
    "'''\n",
    "def are_all_positive(numbers):\n",
    "    return all(i>0 for i in numbers)\n",
    "\n",
    "# TEST\n",
    "listtest = [1,-2,3]\n",
    "are_all_positive(listtest)"
   ]
  },
  {
   "cell_type": "code",
   "execution_count": null,
   "id": "3311cb6f-1d2d-4f62-a3ad-456b0e6e5cc5",
   "metadata": {},
   "outputs": [],
   "source": [
    "# Example 2\n",
    "'''\n",
    "Write a function that takes a string as input and \n",
    "returns True if the string starts with an uppercase letter, and False otherwise\n",
    "'''\n",
    "def starts_with_uppercase(string):\n",
    "    return string[0].isupper()\n",
    "\n",
    "# TEST\n",
    "teststring = \"Sure\"\n",
    "starts_with_uppercase(teststring)"
   ]
  },
  {
   "cell_type": "code",
   "execution_count": null,
   "id": "e392c47b-e7b1-42ba-9527-cf41322bdfe4",
   "metadata": {},
   "outputs": [],
   "source": [
    "# Example 3\n",
    "'''\n",
    "Write a function that takes a list of strings as input and returns \n",
    "True if any string in the list has a length greater than 10, and False otherwise\n",
    "'''\n",
    "def has_long_string(strings):\n",
    "    # return all(len(i)>10 for i in strings)\n",
    "    return any(len(i)>10 for i in strings)\n",
    "\n",
    "# TEST\n",
    "testlist = [\"My\", \"name\",\"is\", \"ABCDEFGHHIJKLMNO\"]\n",
    "has_long_string(testlist)"
   ]
  },
  {
   "cell_type": "code",
   "execution_count": null,
   "id": "9f674cf6-d7e0-4131-b45d-fab0293cb90c",
   "metadata": {},
   "outputs": [],
   "source": [
    "# Example 4\n",
    "'''\n",
    "Write a function that takes a list of numbers as input and \n",
    "returns True if the list is in strictly increasing order, and False otherwise\n",
    "'''\n",
    "\n",
    "def is_increasing(numbers):\n",
    "    return all(numbers[i] < numbers[i+1] for i in range(len(numbers)-1))\n",
    "\n",
    "# TEST\n",
    "listtest = [1,2,3,7]\n",
    "is_increasing(listtest)"
   ]
  },
  {
   "cell_type": "code",
   "execution_count": null,
   "id": "4d41e2a2-824f-49b0-b4fa-aa11f3984f76",
   "metadata": {},
   "outputs": [],
   "source": [
    "# Example 5\n",
    "'''\n",
    "Write a function that takes a dictionary as input and \n",
    "returns True if all the values in the dictionary are unique, and False otherwise\n",
    "'''\n",
    "def has_unique_values(dictionary):\n",
    "    return len(set(dictionary.values())) == len(dictionary)\n",
    "\n",
    "# TEST\n",
    "dict1 = {\"apple\": 3, \"banana\": 2, \"orange\": 5}\n",
    "dict2 = {\"apple\": 3, \"banana\": 2, \"orange\": 3}\n",
    "print(has_unique_values(dict1))  # True\n",
    "print(has_unique_values(dict2))  # False"
   ]
  },
  {
   "cell_type": "code",
   "execution_count": null,
   "id": "2746fe16-588c-4667-884a-213ccee631ed",
   "metadata": {},
   "outputs": [],
   "source": [
    "# Example 6\n",
    "'''\n",
    "Write a function that takes a list of strings as input and \n",
    "returns True if all the strings in the list have the same length, and False otherwise\n",
    "'''\n",
    "def has_same_length(strings):\n",
    "    return all(len(i) == len(strings[0]) for i in strings)\n",
    "\n",
    "# TEST\n",
    "listtest = [\"abc\", \"def\", \"ghi\"]\n",
    "has_same_length(listtest)"
   ]
  },
  {
   "cell_type": "markdown",
   "id": "5976bff8-e258-4593-994e-274593515718",
   "metadata": {},
   "source": [
    "## *2.5 List comprehension*"
   ]
  },
  {
   "cell_type": "code",
   "execution_count": null,
   "id": "cf2f7fbb-09ec-4e77-a8fb-00f2995b9dcb",
   "metadata": {},
   "outputs": [],
   "source": [
    "'''\n",
    "Learn how to use list comprehension to create new lists based on existing lists or other iterables. \n",
    "List comprehension provides a concise way to generate new lists with specific conditions\n",
    "'''"
   ]
  },
  {
   "cell_type": "code",
   "execution_count": null,
   "id": "09b8a21a-92a6-45c8-b296-efc2b131de3f",
   "metadata": {},
   "outputs": [],
   "source": [
    "# Example 1\n",
    "'''\n",
    "Write a function that takes a list of numbers as input and \n",
    "returns a new list with only the even numbers\n",
    "'''\n",
    "def get_even_n(numbers):\n",
    "    even_numbers = [i for i in numbers if i%2==0]\n",
    "    return even_numbers\n",
    "\n",
    "# TEST\n",
    "listtest = [1,2,3,4,5]\n",
    "get_even_n(listtest)"
   ]
  },
  {
   "cell_type": "code",
   "execution_count": null,
   "id": "6e493c2b-73cb-4eff-a03d-ebdbc849a848",
   "metadata": {},
   "outputs": [],
   "source": [
    "# Example 2\n",
    "'''\n",
    "Write a function that takes a string as input and \n",
    "returns a new string with the vowels removed\n",
    "'''\n",
    "def remove_vowels(text):\n",
    "    vowels = \"aeiouAEIOU\"\n",
    "    no_vowels = [char for char in text if char not in vowels]\n",
    "    no_vowels = \"|\".join(no_vowels)\n",
    "    return no_vowels\n",
    "\n",
    "# TEST\n",
    "chartest = \"Hallo\"\n",
    "remove_vowels(chartest)"
   ]
  },
  {
   "cell_type": "code",
   "execution_count": null,
   "id": "3570dd7e-fec1-4e01-ba6b-4f739c6f46c1",
   "metadata": {},
   "outputs": [],
   "source": [
    "# Example 3\n",
    "'''\n",
    "Write a function that takes a list of numbers as input and \n",
    "returns a new list with only the positive numbers\n",
    "'''\n",
    "\n",
    "def get_positive_numbers(numbers):\n",
    "    positive_numbers = [num for num in numbers if num > 0]\n",
    "    return positive_numbers\n",
    "\n",
    "# ALTERNATIVE\n",
    "def get_positive_numbers2(numbers):\n",
    "    positive_numbers = []\n",
    "    for i in numbers:\n",
    "        if i > 0:\n",
    "            positive_numbers.append(i)\n",
    "    return positive_numbers\n",
    "            \n",
    "# TEST\n",
    "testlist = [1,2,3,-4]\n",
    "print(get_positive_numbers(testlist))\n",
    "print(get_positive_numbers2(testlist))"
   ]
  },
  {
   "cell_type": "code",
   "execution_count": null,
   "id": "394d099d-5340-4c15-8b19-ce7ce3dae100",
   "metadata": {},
   "outputs": [],
   "source": [
    "# Example 4\n",
    "'''\n",
    "Write a function that takes a string as input and \n",
    "returns a new string with the characters in reverse order\n",
    "'''\n",
    "def reverse_strings(strings):\n",
    "    reversed_strings = [i[::-1] for i in strings]\n",
    "    return reversed_strings\n",
    "\n",
    "# TEST\n",
    "teststring = (\"ABCD\", \"EFG\")\n",
    "reverse_strings(teststring)"
   ]
  },
  {
   "cell_type": "code",
   "execution_count": null,
   "id": "a49d7632-f4bf-489b-b540-1d3a50bd5a7b",
   "metadata": {},
   "outputs": [],
   "source": [
    "# Example 5\n",
    "'''\n",
    "Write a function that takes a list of strings as input and \n",
    "returns a new list with the strings converted to uppercase\n",
    "'''\n",
    "def uppercase_strings(strings):\n",
    "    upper = [i.upper() for i in strings]\n",
    "    return upper\n",
    "\n",
    "# TEST\n",
    "testlist = [\"Arg\", \"asd\"]\n",
    "uppercase_strings(testlist)"
   ]
  },
  {
   "cell_type": "code",
   "execution_count": null,
   "id": "fc7aa341-3629-4d4b-ad2a-3b01e15bcb30",
   "metadata": {},
   "outputs": [],
   "source": [
    "# Example 6\n",
    "'''\n",
    "Write a function that takes a list of numbers as input and \n",
    "returns a new list with only the numbers greater than their index position\n",
    "'''\n",
    "def get_numbers_greater_than_index(numbers):\n",
    "    result = [num for i, num in enumerate(numbers) if num > i]\n",
    "    # result = [i for i, num in enumerate(numbers) if num > i] # give the index\n",
    "\n",
    "    return result\n",
    "\n",
    "# TEST\n",
    "testlist = [-1,2,3,-4]\n",
    "get_numbers_greater_than_index(testlist)"
   ]
  },
  {
   "cell_type": "code",
   "execution_count": null,
   "id": "fdaf31b8-aa4c-4d50-a8e9-f40c562178f8",
   "metadata": {},
   "outputs": [],
   "source": [
    "# Example 7\n",
    "'''\n",
    "Write a function that takes a list of strings as input and \n",
    "returns a new list with the strings containing at least one uppercase letter\n",
    "'''\n",
    "def get_strings_with_uppercase(strings):\n",
    "    result = [i for i in strings if any(char.isupper() for char in i)]\n",
    "    return result\n",
    "\n",
    "# TEST\n",
    "testlist = [\"Hi\", \"my\", \"name\"]\n",
    "get_strings_with_uppercase(testlist)"
   ]
  },
  {
   "cell_type": "code",
   "execution_count": null,
   "id": "d1ca4410-dbc6-4500-9e96-5ab1d55a88ae",
   "metadata": {},
   "outputs": [],
   "source": [
    "# Example 8\n",
    "'''\n",
    "Write a function that takes a list of numbers as input and \n",
    "returns a new list with the squared values\n",
    "'''\n",
    "def sqr_n(numbers):\n",
    "    sq = [i**2 for i in numbers]\n",
    "    return sq\n",
    "\n",
    "# TEST\n",
    "testlist = (1,2,3)\n",
    "sqr_n(testlist)"
   ]
  },
  {
   "cell_type": "markdown",
   "id": "f7c556f0-8743-4a06-a241-c0c0afa06be4",
   "metadata": {},
   "source": [
    "## *2.6 Set comprehension*"
   ]
  },
  {
   "cell_type": "code",
   "execution_count": null,
   "id": "21c9f4a3-d067-42ed-9ea3-eaa2a3c76333",
   "metadata": {},
   "outputs": [],
   "source": [
    "'''\n",
    "Similar to list comprehension, you can use set comprehension to create new sets \n",
    "based on existing sets or other iterables\n",
    "'''"
   ]
  },
  {
   "cell_type": "code",
   "execution_count": null,
   "id": "a328006b-eed2-4df8-bc9b-cf6c82386dc8",
   "metadata": {},
   "outputs": [],
   "source": [
    "# Example 1\n",
    "'''\n",
    "Write a function that takes a list of numbers as input and \n",
    "returns a new set with only the unique even numbers\n",
    "'''\n",
    "\n",
    "def get_unique_even_numbers(numbers):\n",
    "    nums = {num for num in numbers if num%2==0}\n",
    "    return nums\n",
    "\n",
    "# TEST\n",
    "testlist=(1,2,2,3,4,4,5,5)\n",
    "get_unique_even_numbers(testlist)"
   ]
  },
  {
   "cell_type": "code",
   "execution_count": null,
   "id": "ad0ac5cb-c8ce-49e2-a962-7cc35d07de6e",
   "metadata": {},
   "outputs": [],
   "source": [
    "# Example 2\n",
    "'''\n",
    "Write a function that takes a list of strings as input and \n",
    "returns a new set with the unique first characters of each string\n",
    "'''\n",
    "def get_unique_first_characters(strings):\n",
    "    chars = {i[0] for i in strings}\n",
    "    return chars\n",
    "\n",
    "# TEST\n",
    "testlist = [\"Ab\", \"cD\"]\n",
    "get_unique_first_characters(testlist)"
   ]
  },
  {
   "cell_type": "code",
   "execution_count": null,
   "id": "0c887ce7-1f69-4009-a366-3f22809843d2",
   "metadata": {},
   "outputs": [],
   "source": [
    "# Example 3\n",
    "'''\n",
    "Write a function that takes a string as input and \n",
    "returns a new set with the unique words present in the string\n",
    "'''\n",
    "def get_unique_words(text):\n",
    "    words = text.split()\n",
    "    unique_words = {i for i in words}\n",
    "    return unique_words\n",
    "\n",
    "# TEST\n",
    "stringtest = \"Ich heiße Heinrich\"\n",
    "get_unique_words(stringtest)"
   ]
  },
  {
   "cell_type": "markdown",
   "id": "76148adf-5d04-48f9-a28c-c305bab05d77",
   "metadata": {},
   "source": [
    "## *2.7 Dict comprehension*"
   ]
  },
  {
   "cell_type": "code",
   "execution_count": null,
   "id": "1aa3eab4-fe09-4f6a-89a2-eabfbf005330",
   "metadata": {},
   "outputs": [],
   "source": [
    "'''\n",
    "Dict comprehension allows you to create new dictionaries based on existing dictionaries or other iterables. \n",
    "It provides a convenient way to generate dictionaries with specific conditions\n",
    "'''"
   ]
  },
  {
   "cell_type": "code",
   "execution_count": null,
   "id": "f3f2437e-5b9a-4c09-8ad4-340ef2139e56",
   "metadata": {},
   "outputs": [],
   "source": [
    "# Example 1\n",
    "'''\n",
    "Write a function that takes a list of numbers as input and \n",
    "returns a dictionary where the keys are the numbers and the values are their squares\n",
    "'''\n",
    "def get_squared_dict(numbers):\n",
    "    sqr_dicts = {i: i**2 for i in numbers}\n",
    "    return sqr_dicts\n",
    "\n",
    "# TEST\n",
    "testlist = [1,2,3,4]\n",
    "get_squared_dict(testlist)"
   ]
  },
  {
   "cell_type": "code",
   "execution_count": null,
   "id": "bcbb1a5f-d667-40d6-8602-9487c2bff557",
   "metadata": {},
   "outputs": [],
   "source": [
    "# Example 2\n",
    "'''\n",
    "Write a function that takes a list of strings as input and \n",
    "returns a dictionary where the keys are the strings and the values are their lengths\n",
    "'''\n",
    "def get_string_lengths(strings):\n",
    "    len_dic = {i: len(i) for i in strings}\n",
    "    return len_dic\n",
    "\n",
    "# TEST\n",
    "testlist = [\"abc\", \"abcde\", \"a\"]\n",
    "get_string_lengths(testlist)"
   ]
  },
  {
   "cell_type": "code",
   "execution_count": null,
   "id": "142e21dd-39ff-4f73-aa7e-ae0faaac9930",
   "metadata": {},
   "outputs": [],
   "source": [
    "# Example 3\n",
    "'''\n",
    "Write a function that takes a list of tuples (name, age) as input and \n",
    "returns a dictionary where the keys are the names and the values are the ages\n",
    "'''\n",
    "def get_name_age_dict(tuples):\n",
    "    name_age_dict = {name: age for name, age in tuples}\n",
    "    return name_age_dict\n",
    "\n",
    "# TEST\n",
    "testlist = [(\"Ali\",22),(\"Butter\",23),(\"Markus\",26)]\n",
    "get_name_age_dict(testlist)"
   ]
  },
  {
   "cell_type": "code",
   "execution_count": null,
   "id": "8f46f0b6-9901-4637-9015-c8160882a557",
   "metadata": {},
   "outputs": [],
   "source": [
    "# Example 4\n",
    "'''\n",
    "Write a function that takes a list of strings as input and \n",
    "returns a dictionary where the keys are the strings and \n",
    "the values are the counts of their vowels\n",
    "'''\n",
    "def count_vowels(strings):\n",
    "    vowels = \"aeiou\"\n",
    "    vowels_dict = {key: sum(1 for char in key if char.lower() in vowels) for key in strings}\n",
    "    return vowels_dict\n",
    "\n",
    "# TEST\n",
    "testlist = [\"hallo\", \"bin\", \"a\"]\n",
    "count_vowels(testlist)"
   ]
  },
  {
   "cell_type": "code",
   "execution_count": null,
   "id": "b2e40ad7-d9ca-4434-ab31-24a626c64d52",
   "metadata": {},
   "outputs": [],
   "source": [
    "# Example 5\n",
    "'''\n",
    "Write a function that takes a list of numbers as input and \n",
    "returns a dictionary where the keys are the numbers and the values are their sign: \n",
    "\"Positive\", \"Negative\", or \"Zero\"\n",
    "'''\n",
    "def get_number_signs(numbers):\n",
    "    sign_dict = {num: \"Pos.\" if num>0 else \"Neg.\" if num<0 else \"Zero\" for num in numbers}\n",
    "    return sign_dict\n",
    "\n",
    "# TEST\n",
    "testlist = [-1,2,4,-2]\n",
    "get_number_signs(testlist)"
   ]
  },
  {
   "cell_type": "code",
   "execution_count": null,
   "id": "b71d693a-a8ea-4d43-a71c-9b740faa2fa2",
   "metadata": {},
   "outputs": [],
   "source": [
    "# Example 6\n",
    "'''\n",
    "Write a function that takes a list of strings as input and \n",
    "returns a dictionary where the keys are the strings and the values are their reversed versions\n",
    "'''\n",
    "def reverse_strings(strings):\n",
    "    reversed_dict = {word: word[::-1] for word in strings}\n",
    "    return reversed_dict\n",
    "\n",
    "# TEST\n",
    "testlist = [\"hallo\", \"bin\", \"Gut\"]\n",
    "reverse_strings(testlist)"
   ]
  },
  {
   "cell_type": "code",
   "execution_count": null,
   "id": "c30e3371-3549-42e8-af2b-a0feb48d604e",
   "metadata": {},
   "outputs": [],
   "source": [
    "# Example 7\n",
    "'''\n",
    "Write a function that takes a list of dictionaries (with 'name' and 'age' keys) \n",
    "as input and returns a dictionary where the keys are the names \n",
    "and the values are the ages\n",
    "'''\n",
    "def get_name_age_dict(dicts):\n",
    "    name_age_dict = {d['name']: d['age'] for d in dicts}\n",
    "    return name_age_dict\n",
    "\n",
    "# TEST\n",
    "dicts = [\n",
    "    {'name': 'John', 'age': 25},\n",
    "    {'name': 'Emily', 'age': 30},\n",
    "    {'name': 'David', 'age': 28}\n",
    "]\n",
    "\n",
    "get_name_age_dict(dicts)"
   ]
  },
  {
   "cell_type": "code",
   "execution_count": null,
   "id": "fd42640b-0bcc-46ba-9b73-cfe8cc3dfa93",
   "metadata": {},
   "outputs": [],
   "source": [
    "# Example 8\n",
    "'''\n",
    "Write a function that takes a list of strings as input and \n",
    "returns a dictionary where the keys are the strings and \n",
    "the values are True if the string contains a vowel and False otherwise\n",
    "'''\n",
    "def check_vowels(strings):\n",
    "    vowels = \"aeiou\"\n",
    "    vowel_dict = {word: any(char.lower() in vowels for char in word) for word in strings}\n",
    "    return vowel_dict                        \n",
    "\n",
    "# TEST\n",
    "testlist = [\"ABC\", \"abc\", \"BD\"]                            \n",
    "check_vowels(testlist)                            "
   ]
  },
  {
   "cell_type": "code",
   "execution_count": null,
   "id": "3e36d246-3816-48ae-87a6-cad71e72d2f8",
   "metadata": {},
   "outputs": [],
   "source": [
    "# Example 9\n",
    "'''\n",
    "Write a function that takes a list of numbers as input and \n",
    "returns a dictionary where the keys are the numbers and \n",
    "the values are True if the number is prime and False otherwise\n",
    "'''\n",
    "def check_prime(numbers):\n",
    "    def is_prime(num):\n",
    "        if num < 2:\n",
    "            return False\n",
    "        for i in range(2, int(num ** 0.5) + 1):\n",
    "            if num % i == 0:\n",
    "                return False\n",
    "        return True\n",
    "    \n",
    "    prime_dict = {num: is_prime(num) for num in numbers}\n",
    "    return prime_dict\n",
    "\n",
    "# TEST\n",
    "testlist = [1,2,3,4,5]\n",
    "check_prime(testlist)"
   ]
  },
  {
   "cell_type": "code",
   "execution_count": null,
   "id": "cb763348-72e4-496c-84b3-b41af64f5cdb",
   "metadata": {},
   "outputs": [],
   "source": [
    "# Example 10\n",
    "'''\n",
    "Write a function that takes a list of strings as input and \n",
    "returns a dictionary where the keys are the strings and \n",
    "the values are the counts of their characters\n",
    "'''\n",
    "\n",
    "def count_characters(strings):\n",
    "    char_count_dict = {i: {char: i.count(char) for char in i} for i in strings}\n",
    "    return char_count_dict\n",
    "\n",
    "# TEST\n",
    "testlist = [\"ABC\", \"yyzz\", \"dDD\"]                            \n",
    "count_characters(testlist)                            "
   ]
  },
  {
   "cell_type": "markdown",
   "id": "59fd2d66-9a97-4d9a-9291-23170c609337",
   "metadata": {},
   "source": [
    "## *2.8 Return statement*"
   ]
  },
  {
   "cell_type": "code",
   "execution_count": null,
   "id": "e0f8ae72-a59c-476d-9d4a-a1fabf60fa93",
   "metadata": {},
   "outputs": [],
   "source": [
    "'''\n",
    "Understand how to use the return statement within a function \n",
    "to specify the value or values to be returned as the result of the function\n",
    "'''"
   ]
  },
  {
   "cell_type": "code",
   "execution_count": null,
   "id": "29cbafec-1627-40c8-af2a-28ba7778b61f",
   "metadata": {},
   "outputs": [],
   "source": [
    "# Example 1\n",
    "'''\n",
    "Write a function that takes a list of numbers as input and \n",
    "returns the maximum and minimum numbers\n",
    "'''\n",
    "def get_min_max(numbers):\n",
    "    minimum = min(numbers)\n",
    "    maximum = max(numbers)\n",
    "    return minimum, maximum\n",
    "\n",
    "# TEST\n",
    "testlist = [-2,3,4,7]\n",
    "get_min_max(testlist)"
   ]
  },
  {
   "cell_type": "markdown",
   "id": "99695be6-eecd-46ae-b06c-4e078ac26550",
   "metadata": {},
   "source": [
    "## *2.9 Yield*"
   ]
  },
  {
   "cell_type": "code",
   "execution_count": null,
   "id": "0e7d105e-56d8-4e7c-86b5-207e02e6822e",
   "metadata": {},
   "outputs": [],
   "source": [
    "'''\n",
    "Write a generator function that yields the squares of numbers from 1 to a given limit\n",
    "'''\n",
    "def square_generator(limit):\n",
    "    for num in range(1, limit+1):\n",
    "        yield num ** 2\n",
    "\n",
    "# TEST\n",
    "square_generator(5)"
   ]
  },
  {
   "cell_type": "code",
   "execution_count": null,
   "id": "997b68ce-5cc7-4fcc-a0af-cce9f2570e77",
   "metadata": {},
   "outputs": [],
   "source": [
    "# Example 1: Square Generator\n",
    "def square_generator(limit):\n",
    "    for num in range(1, limit+1):\n",
    "        yield num ** 2\n",
    "\n",
    "# TEST\n",
    "squares = square_generator(3)\n",
    "for square in squares:\n",
    "    print(square)"
   ]
  },
  {
   "cell_type": "code",
   "execution_count": null,
   "id": "4a2c87fb-6068-4119-a3ef-67653f482c48",
   "metadata": {},
   "outputs": [],
   "source": [
    "# Example 2: Fibonacci\n",
    "def fibonacci_generator(num_terms):\n",
    "    a, b = 0, 1\n",
    "    count = 0\n",
    "    while count < num_terms:\n",
    "        yield a\n",
    "        a, b = b, a + b\n",
    "        count += 1\n",
    "\n",
    "# TEST\n",
    "fibonacci = fibonacci_generator(8)\n",
    "for term in fibonacci:\n",
    "    print(term)"
   ]
  },
  {
   "cell_type": "code",
   "execution_count": null,
   "id": "44cad585-5327-431d-8dcb-044f5ea00d2e",
   "metadata": {},
   "outputs": [],
   "source": [
    "# Example 3: Prime Generator\n",
    "def prime_generator(limit):\n",
    "    for num in range(2, limit+1):\n",
    "        is_prime = True\n",
    "        for i in range(2, int(num**0.5) + 1):\n",
    "            if num % i == 0:\n",
    "                is_prime = False\n",
    "                break\n",
    "        if is_prime:\n",
    "            yield num\n",
    "\n",
    "# Usage and Output\n",
    "primes = prime_generator(10)\n",
    "for prime in primes:\n",
    "    print(prime)"
   ]
  },
  {
   "cell_type": "code",
   "execution_count": null,
   "id": "533f4e95-0c79-46ba-b122-9a185fbd96bc",
   "metadata": {},
   "outputs": [],
   "source": [
    "# Example 4: Word Generator\n",
    "def word_generator(sentence):\n",
    "    words = sentence.split()\n",
    "    for word in words:\n",
    "        yield word\n",
    "\n",
    "# Usage and Output\n",
    "sentence = \"This is a sentence\"\n",
    "words = word_generator(sentence)\n",
    "for word in words:\n",
    "    print(word)"
   ]
  },
  {
   "cell_type": "markdown",
   "id": "618bb5c7-1815-4d48-9a90-047bc4120317",
   "metadata": {},
   "source": [
    "# 3_Improving Code Efficiency"
   ]
  },
  {
   "cell_type": "code",
   "execution_count": null,
   "id": "ecaddc67-6382-4b1b-a56b-a2070b99a6cf",
   "metadata": {},
   "outputs": [],
   "source": [
    "import numpy as np"
   ]
  },
  {
   "cell_type": "markdown",
   "id": "fe0a8295-7e8c-42bd-a8cf-abc3af8b8b1e",
   "metadata": {},
   "source": [
    "## *3.1 NumPy Arrays*"
   ]
  },
  {
   "cell_type": "code",
   "execution_count": null,
   "id": "32ac6027-970a-4059-8850-37b5fbb72dff",
   "metadata": {},
   "outputs": [],
   "source": [
    "'''\n",
    "Understand the basics of creating NumPy arrays using np.array() and np.ndarray().\n",
    "\n",
    "Know how to access and modify elements of NumPy arrays using indexing and slicing.\n",
    "\n",
    "Familiarize yourself with common attributes of NumPy arrays, such as shape, size, and data type.\n",
    "\n",
    "Be aware of the different ways to create specific types of arrays, such as zeros, ones, random, or empty arrays.\n",
    "'''"
   ]
  },
  {
   "cell_type": "code",
   "execution_count": null,
   "id": "c80ecfab-7747-4fc7-a5d5-17bba82cb8c7",
   "metadata": {},
   "outputs": [],
   "source": [
    "# Example 1: Creating an array from a Python list\n",
    "my_list = [1, 2, 3, 4, 5]\n",
    "my_array = np.array(my_list)\n",
    "\n",
    "# TEST\n",
    "print(type(my_array), my_array)"
   ]
  },
  {
   "cell_type": "code",
   "execution_count": null,
   "id": "9c43523b-c01d-47d7-8527-6042487c277d",
   "metadata": {},
   "outputs": [],
   "source": [
    "# Example 2: Creating a multi-dimensional array using np.array()\n",
    "my_array = np.array([[1,2,3], [4,5,6]])\n",
    "\n",
    "# TEST\n",
    "my_array, my_array.shape"
   ]
  },
  {
   "cell_type": "code",
   "execution_count": null,
   "id": "6a8073cc-0745-4054-ba3e-5fc0658dbd0e",
   "metadata": {},
   "outputs": [],
   "source": [
    "# Example 3.1: Accessing and Modifying Elements\n",
    "# Accessing and modifying elements of a 1D array\n",
    "\n",
    "my_array = np.array([1, 2, 3, 4, 5])\n",
    "\n",
    "# Accessing elements\n",
    "print(my_array[0])     # Output: 1\n",
    "print(my_array[2:4])   # Output: [3 4]\n",
    "\n",
    "# Modifying elements\n",
    "my_array[3] = 10\n",
    "print(my_array)        # Output: [ 1  2  3 10  5]"
   ]
  },
  {
   "cell_type": "code",
   "execution_count": null,
   "id": "18f0fe74-fe1c-4c52-90f4-196d970e418f",
   "metadata": {},
   "outputs": [],
   "source": [
    "# Example 3.2: Accessing and Modifying Elements\n",
    "# Accessing and modifying elements of a 2D array\n",
    "\n",
    "my_array = np.array([[1, 2, 3], [4, 5, 6]])\n",
    "\n",
    "# Accessing elements\n",
    "print(my_array[0, 1])   # Output: 2\n",
    "print(my_array[:, 1])  # Output: [2 5]\n",
    "\n",
    "# Modifying elements\n",
    "my_array[1, 2] = 10\n",
    "print(my_array)"
   ]
  },
  {
   "cell_type": "code",
   "execution_count": null,
   "id": "110f9e6f-f169-4978-a33a-d21b418ae4f3",
   "metadata": {},
   "outputs": [],
   "source": [
    "# Example 4: Common Attributes of NumPy Arrays\n",
    "\n",
    "my_array = np.array([[1, 2, 3], [4, 5, 6]])\n",
    "\n",
    "my_array.shape, my_array.size, my_array.dtype, type(my_array)"
   ]
  },
  {
   "cell_type": "code",
   "execution_count": null,
   "id": "b60e8163-c075-4d24-ac85-2408861ed0c9",
   "metadata": {},
   "outputs": [],
   "source": [
    "# Example 5.1: Creating Specific Types of Arrays\n",
    "my_zeros = np.zeros((3, 1, 2))\n",
    "print(my_zeros)"
   ]
  },
  {
   "cell_type": "code",
   "execution_count": null,
   "id": "cc31775b-620c-45f2-9578-4e4a77f4ab6f",
   "metadata": {},
   "outputs": [],
   "source": [
    "# Example 5.2: Creating an array of random numbers\n",
    "my_random = np.random.rand(3, 1, 2)\n",
    "print(my_random)"
   ]
  },
  {
   "cell_type": "code",
   "execution_count": null,
   "id": "e402e058-e385-483b-aed5-2dc1f026e078",
   "metadata": {},
   "outputs": [],
   "source": [
    "# Example 5.3: Creating an empty array\n",
    "my_empty = np.empty((2, 3))\n",
    "print(my_empty)"
   ]
  },
  {
   "cell_type": "markdown",
   "id": "388f8ac5-daca-4366-819a-44d4107da1ad",
   "metadata": {},
   "source": [
    "## *3.2 Vectorized Operations*"
   ]
  },
  {
   "cell_type": "code",
   "execution_count": null,
   "id": "3c7abe4e-e41e-4888-9323-4878d43b8bc5",
   "metadata": {},
   "outputs": [],
   "source": [
    "'''\n",
    "Take advantage of vectorized operations in NumPy to perform element-wise operations on arrays.\n",
    "\n",
    "Understand how arithmetic operators (+, -, *, /, %, **) can be applied directly to arrays.\n",
    "\n",
    "Know how to apply mathematical functions (e.g., np.sin(), np.cos(), np.exp(), np.log()) to arrays.\n",
    "\n",
    "Utilize logical operators (<, >, <=, >=, ==, !=) for element-wise comparisons and logical operations.\n",
    "'''"
   ]
  },
  {
   "cell_type": "code",
   "execution_count": null,
   "id": "ec66c6a8-d4b0-418a-b60f-76260969303f",
   "metadata": {},
   "outputs": [],
   "source": [
    "# Example 1: Element-wise Arithmetic Operations\n",
    "array1 = np.array([1, 2, 3])\n",
    "array2 = np.array([4, 5, 6])\n",
    "result = array1 + array2\n",
    "\n",
    "print(result)"
   ]
  },
  {
   "cell_type": "code",
   "execution_count": null,
   "id": "3f794ffc-b0b8-4f9f-95e8-06243e3f7a8d",
   "metadata": {},
   "outputs": [],
   "source": [
    "# Example 2: Multiplying two arrays element-wise\n",
    "array1 = np.array([1, 2, 3])\n",
    "array2 = np.array([4, 5, 6])\n",
    "result = array1 * array2\n",
    "\n",
    "print(result)"
   ]
  },
  {
   "cell_type": "code",
   "execution_count": null,
   "id": "0e84a118-7a29-41e9-8f1e-4784c2729e20",
   "metadata": {},
   "outputs": [],
   "source": [
    "#test\n",
    "import numpy as np\n",
    "arr = np.array([0, np.pi/2, np.pi])\n",
    "arr"
   ]
  },
  {
   "cell_type": "code",
   "execution_count": null,
   "id": "fa2c4a26-b254-47d0-aad7-24459a6663a1",
   "metadata": {},
   "outputs": [],
   "source": [
    "# Example 3.1: Mathematical Functions on Arrays (sin function)\n",
    "array = np.array([0, np.pi/2, np.pi])\n",
    "result = np.sin(array)\n",
    "\n",
    "print(result)"
   ]
  },
  {
   "cell_type": "code",
   "execution_count": null,
   "id": "526f58a8-e4ca-4472-9f74-8630dae7897e",
   "metadata": {},
   "outputs": [],
   "source": [
    "# Example 3.2: Mathematical Functions on Arrays (exp function)\n",
    "array = np.array([1, 2, 3])\n",
    "result = np.exp(array)\n",
    "\n",
    "print(result)"
   ]
  },
  {
   "cell_type": "code",
   "execution_count": null,
   "id": "30658cf7-0335-46fe-a910-f8795a8fc41f",
   "metadata": {},
   "outputs": [],
   "source": [
    "# Example 4.1: Element-wise Logical Operations (Comparing two arrays element-wise)\n",
    "array1 = np.array([1, 2, 3])\n",
    "array2 = np.array([2, 2, 2])\n",
    "result = array1 > array2\n",
    "\n",
    "print(result)"
   ]
  },
  {
   "cell_type": "code",
   "execution_count": null,
   "id": "7825bc48-8222-4ae3-ae15-6268c1a1244a",
   "metadata": {},
   "outputs": [],
   "source": [
    "# Example 4.2: Element-wise Logical Operations (Combining logical conditions on arrays)\n",
    "array = np.array([1, 2, 3])\n",
    "result = (array > 1) & (array < 3)\n",
    "\n",
    "print(result)"
   ]
  },
  {
   "cell_type": "code",
   "execution_count": null,
   "id": "c830139f-b7d6-4cb7-b2bc-117f4542a0bc",
   "metadata": {},
   "outputs": [],
   "source": [
    "# Example 5.1: Broadcasting in Vectorized Operations (Adding a scalar to each element of an array)\n",
    "array = np.array([1, 2, 3])\n",
    "scalar = 5\n",
    "result = array + scalar\n",
    "\n",
    "print(result)"
   ]
  },
  {
   "cell_type": "code",
   "execution_count": null,
   "id": "2eca690e-925e-434c-af44-04386ddaf8de",
   "metadata": {},
   "outputs": [],
   "source": [
    "# Example 5.2: Broadcasting in Vectorized Operations (Multiplying arrays with different shapes using broadcasting)\n",
    "array1 = np.array([[1, 2, 3]])\n",
    "array2 = np.array([2, 2, 2])\n",
    "result = array1 * array2\n",
    "\n",
    "print(result)"
   ]
  },
  {
   "cell_type": "markdown",
   "id": "faad4b82-faab-4f9c-93e0-baa2dec5c7bb",
   "metadata": {},
   "source": [
    "## *3.3 Broadcasting*"
   ]
  },
  {
   "cell_type": "code",
   "execution_count": null,
   "id": "b9198020-42f2-4e11-ae2c-ed75d5298080",
   "metadata": {},
   "outputs": [],
   "source": [
    "'''\n",
    "Understand the concept of broadcasting, which allows operations between arrays of different shapes.\n",
    "\n",
    "Familiarize yourself with the rules of broadcasting and how it affects array operations.\n",
    "\n",
    "Use broadcasting to perform operations between arrays with different dimensions or sizes.\n",
    "'''"
   ]
  },
  {
   "cell_type": "code",
   "execution_count": null,
   "id": "9e62384f-9e6c-490d-b56a-bcdc33414ebd",
   "metadata": {},
   "outputs": [],
   "source": [
    "# Example 1: Broadcasting in Arithmetic Operations (Adding a 1D array to a 2D array)\n",
    "\n",
    "array1 = np.array([[1, 2, 3], [4, 5, 6]])\n",
    "array2 = np.array([1, 2, 3])\n",
    "result = array1 + array2\n",
    "\n",
    "print(result)"
   ]
  },
  {
   "cell_type": "code",
   "execution_count": null,
   "id": "adeea70e-7812-4e37-adbd-26d8c8a83176",
   "metadata": {},
   "outputs": [],
   "source": [
    "# Example 2: Broadcasting in Element-wise Operations (Element-wise multiplication between a 2D array and a 1D array)\n",
    "\n",
    "array1 = np.array([[1, 2, 3], [4, 5, 6]])\n",
    "array2 = np.array([2, 2, 2])\n",
    "result = array1 * array2\n",
    "\n",
    "print(result)"
   ]
  },
  {
   "cell_type": "code",
   "execution_count": null,
   "id": "a9b3e9bc-941f-46f6-962c-d7e1962796e6",
   "metadata": {},
   "outputs": [],
   "source": [
    "#test\n",
    "import numpy as np\n",
    "array = np.array([1, 2, 3]).reshape(1,3)\n",
    "# expanded_array = array[:, np.newaxis]\n",
    "\n",
    "print(array.shape, expanded_array.shape)\n",
    "print(array+expanded_array)"
   ]
  },
  {
   "cell_type": "code",
   "execution_count": null,
   "id": "d6276927-44f0-485d-9fe9-952800caf006",
   "metadata": {},
   "outputs": [],
   "source": [
    "# Example 3: Broadcasting with Dimensions (Adding a new dimension to an array for broadcasting)\n",
    "\n",
    "array = np.array([1, 2, 3])\n",
    "expanded_array = array[:, np.newaxis]\n",
    "\n",
    "print(expanded_array, expanded_array.shape)"
   ]
  },
  {
   "cell_type": "code",
   "execution_count": null,
   "id": "7a0ffe5b-00af-40c9-9a39-61d578d7037e",
   "metadata": {},
   "outputs": [],
   "source": [
    "# Example 4: Broadcasting a 1D array with a 2D array using dimensions\n",
    "\n",
    "array1 = np.array([1, 2, 3])\n",
    "array2 = np.array([[1, 2, 3], [4, 5, 6]])\n",
    "result = array1[np.newaxis, :] + array2\n",
    "\n",
    "print(result)"
   ]
  },
  {
   "cell_type": "code",
   "execution_count": null,
   "id": "6df9b8ce-4cb7-403e-bfd5-a273a338ff8d",
   "metadata": {},
   "outputs": [],
   "source": [
    "# Example 5.1: Broadcasting with Rules (Broadcasting with different-sized arrays)\n",
    "array1 = np.array([[1, 2, 3], [4, 5, 6]])\n",
    "array2 = np.array([1, 2])\n",
    "result = array1 + array2[:, np.newaxis]\n",
    "\n",
    "print(result)"
   ]
  },
  {
   "cell_type": "code",
   "execution_count": null,
   "id": "8f768916-6c4e-4af3-ae50-1ae1296fa180",
   "metadata": {},
   "outputs": [],
   "source": [
    "# Example 5.2: Broadcasting with Rules (Broadcasting with a larger dimension)\n",
    "array1 = np.array([[1, 2, 3]]) #(1,3)\n",
    "array2 = np.array([1, 2, 3]) #(1,3)\n",
    "result = array2[:, np.newaxis] +array1 #(1,3) + (3,1)\n",
    "\n",
    "# print(result, array1.shape, array2[:, np.newaxis].shape)\n",
    "print(result)"
   ]
  },
  {
   "cell_type": "markdown",
   "id": "300aba10-ba6e-4a17-89e2-21f913b50543",
   "metadata": {},
   "source": [
    "## *3.4 Performance Optimization*"
   ]
  },
  {
   "cell_type": "code",
   "execution_count": null,
   "id": "ac4acf1e-2ac2-4ec5-a42a-98cded34715e",
   "metadata": {},
   "outputs": [],
   "source": [
    "'''\n",
    "Identify opportunities to optimize code by replacing slow loops with vectorized operations.\n",
    "\n",
    "Make use of built-in NumPy functions and methods that are optimized for performance.\n",
    "\n",
    "Utilize the power of parallelization and efficient memory management offered by NumPy.\n",
    "'''"
   ]
  },
  {
   "cell_type": "code",
   "execution_count": null,
   "id": "f7254fd4-9a04-4244-ae9c-71549c5cf3a4",
   "metadata": {},
   "outputs": [],
   "source": [
    "# Example 1: Replacing Loops with Vectorized Operations\n",
    "\n",
    "array = np.array([1, 2, 3, 4, 5])\n",
    "sum_result = 0\n",
    "\n",
    "# SLOW FOR LOOP\n",
    "for num in array:\n",
    "    sum_result += num\n",
    "print(sum_result)\n",
    "\n",
    "# Optimized\n",
    "sum_result2 = np.sum(array)\n",
    "print(sum_result2)"
   ]
  },
  {
   "cell_type": "code",
   "execution_count": null,
   "id": "1365c298-a745-4b5d-8f72-af90d0657539",
   "metadata": {},
   "outputs": [],
   "source": [
    "# Example 2: Utilizing Built-in NumPy Functions and Methods\n",
    "\n",
    "array = np.array([5, 2, 8, 1, 9])\n",
    "\n",
    "# Finding the maximum value in an array using a loop\n",
    "max_value = array[0]\n",
    "for num in array:\n",
    "    if num > max_value:\n",
    "        max_value = num\n",
    "print(max_value)\n",
    "\n",
    "# Finding the maximum value in an array using np.max()\n",
    "max_value = np.max(array)\n",
    "print(max_value)"
   ]
  },
  {
   "cell_type": "code",
   "execution_count": null,
   "id": "42e6730c-ecc6-47eb-86a3-843216d043a2",
   "metadata": {},
   "outputs": [],
   "source": [
    "# Example 3: Parallelization\n",
    "\n",
    "# Performing element-wise operations in parallel using NumPy's ufuncs\n",
    "array1 = np.array([1, 2, 3, 4, 5])\n",
    "array2 = np.array([5, 4, 3, 2, 1])\n",
    "result = np.multiply(array1, array2)  # Element-wise multiplication\n",
    "\n",
    "print(result)"
   ]
  },
  {
   "cell_type": "code",
   "execution_count": null,
   "id": "d00d90de-aaa1-4e76-850a-89e89ec3baf1",
   "metadata": {},
   "outputs": [],
   "source": [
    "# Example 4: Efficient Memory Management\n",
    "\n",
    "# Efficient memory management using NumPy's views and functions\n",
    "array = np.array([1, 2, 3, 4, 5])\n",
    "sub_array = array[2:4]  # Create a view of a subset of the array\n",
    "\n",
    "sub_array *= 2  # Modify the view\n",
    "\n",
    "print(array)  # Original array is modified as well"
   ]
  },
  {
   "cell_type": "markdown",
   "id": "3ece08ae-55b1-4d94-992c-719d13a797bc",
   "metadata": {},
   "source": [
    "## *3.5 Array Manipulation*"
   ]
  },
  {
   "cell_type": "code",
   "execution_count": null,
   "id": "e336eec3-d7dc-49c6-9d58-c4b3c569f7af",
   "metadata": {},
   "outputs": [],
   "source": [
    "'''\n",
    "Be familiar with various array manipulation techniques, such as reshaping, transposing, and concatenating arrays.\n",
    "\n",
    "Understand how to use functions like np.reshape(), np.transpose(), and np.concatenate() to manipulate arrays efficiently.\n",
    "'''"
   ]
  },
  {
   "cell_type": "code",
   "execution_count": null,
   "id": "1cea5ec5-f7f9-4be3-b56b-294ff1bc2693",
   "metadata": {},
   "outputs": [],
   "source": [
    "# Example 1.1: Reshaping Arrays (Reshaping a 1D array into a 2D array)\n",
    "array = np.array([1, 2, 3, 4, 5, 6])\n",
    "# reshaped_array = np.reshape(array, (2, 3))\n",
    "reshaped_array = array.reshape(2, 3)\n",
    "\n",
    "print(reshaped_array)"
   ]
  },
  {
   "cell_type": "code",
   "execution_count": null,
   "id": "bfa92f68-85ae-4f8f-81b6-c9eae9b0acbc",
   "metadata": {},
   "outputs": [],
   "source": [
    "# Example 1.2: Reshaping Arrays (Reshaping a 2D array into a 1D array)\n",
    "array = np.array([[1, 2, 3], [4, 5, 6]])\n",
    "reshaped_array = np.reshape(array, (6,))\n",
    "\n",
    "print(reshaped_array)"
   ]
  },
  {
   "cell_type": "code",
   "execution_count": null,
   "id": "b3346206-ede7-45f9-a7ec-c01f3f3c2ab6",
   "metadata": {},
   "outputs": [],
   "source": [
    "# Example 2: Transposing Arrays (Transposing a 2D array)\n",
    "\n",
    "array = np.array([[1, 2, 3], [4, 5, 6]])\n",
    "transposed_array = np.transpose(array)\n",
    "\n",
    "print(transposed_array)"
   ]
  },
  {
   "cell_type": "code",
   "execution_count": null,
   "id": "db868da3-d701-4caa-85c0-e52ea3a9d827",
   "metadata": {},
   "outputs": [],
   "source": [
    "# Example 3.1: Concatenating Arrays (two 1D arrays)\n",
    "array1 = np.array([1, 2, 3])\n",
    "array2 = np.array([4, 5, 6])\n",
    "concatenated_array = np.concatenate((array1, array2))\n",
    "\n",
    "print(concatenated_array)"
   ]
  },
  {
   "cell_type": "code",
   "execution_count": null,
   "id": "e6ca30f3-d59d-4f9c-a410-5aba26e8416f",
   "metadata": {},
   "outputs": [],
   "source": [
    "# Example 3.2: Concatenating Arrays (two 3D arrays along a specified axis)\n",
    "array1 = np.array([[1, 2], [3, 4]])\n",
    "array2 = np.array([[5, 6], [7, 8]])\n",
    "concatenated_array = np.concatenate((array1, array2), axis=0)\n",
    "concatenated_array2 = np.concatenate((array1, array2), axis=1)\n",
    "# concatenated_array3 = np.concatenate((array1, array2), axis=2)\n",
    "\n",
    "print(concatenated_array, \"\\n\", concatenated_array2)"
   ]
  },
  {
   "cell_type": "markdown",
   "id": "9e541ae3-2245-4716-b5c0-9c89704e772e",
   "metadata": {},
   "source": [
    "## *3.6 Indexing and Filtering*"
   ]
  },
  {
   "cell_type": "code",
   "execution_count": null,
   "id": "0ee07f54-fe61-450a-863b-88efbdc4b0ae",
   "metadata": {},
   "outputs": [],
   "source": [
    "'''\n",
    "Learn about advanced indexing techniques, including boolean indexing, fancy indexing, and integer array indexing.\n",
    "\n",
    "Utilize boolean arrays to filter and select elements from arrays based on certain conditions.\n",
    "\n",
    "Understand how to combine indexing and broadcasting to perform complex operations efficiently.\n",
    "'''"
   ]
  },
  {
   "cell_type": "code",
   "execution_count": null,
   "id": "dd45384b-f42d-4170-b07e-48469895f827",
   "metadata": {},
   "outputs": [],
   "source": [
    "# Example 1.1: Boolean Indexing (Selecting elements from an array based on a condition)\n",
    "array = np.array([1, 2, 3, 4, 5])\n",
    "condition = array > 3\n",
    "filtered_array = array[condition]\n",
    "\n",
    "print(condition, filtered_array)"
   ]
  },
  {
   "cell_type": "code",
   "execution_count": null,
   "id": "43be7a37-edf2-44bf-ac21-a69a5ee33c40",
   "metadata": {},
   "outputs": [],
   "source": [
    "# Example 1.2: Boolean Indexing (Modifying elements of an array based on a condition)\n",
    "array = np.array([1, 2, 3, 4, 5])\n",
    "array[array > 3] = 0\n",
    "\n",
    "print(array)"
   ]
  },
  {
   "cell_type": "code",
   "execution_count": null,
   "id": "141efa0d-a9ab-48a7-876f-b568d52270f0",
   "metadata": {},
   "outputs": [],
   "source": [
    "# Example 2.1: Fancy Indexing (Selecting specific elements from an array using a list of indices)\n",
    "array = np.array([1, 2, 3, 4, 5])\n",
    "indices = [0, 2, 4]\n",
    "selected_elements = array[indices]\n",
    "\n",
    "print(selected_elements)"
   ]
  },
  {
   "cell_type": "code",
   "execution_count": null,
   "id": "6aa4bc4d-1ef2-43fb-8077-6f1bbd284462",
   "metadata": {},
   "outputs": [],
   "source": [
    "# Example 2.2: Fancy Indexing (Modifying specific elements of an array using a list of indices)\n",
    "array = np.array([1, 2, 3, 4, 5])\n",
    "indices = [0, 2, 4]\n",
    "array[indices] = 0\n",
    "\n",
    "print(array)"
   ]
  },
  {
   "cell_type": "code",
   "execution_count": null,
   "id": "0679f69d-161e-44e9-8328-58efb91b5d54",
   "metadata": {},
   "outputs": [],
   "source": [
    "# Example 3.1: Integer Array Indexing (Using an array of integers as indices to select elements from an array)\n",
    "array = np.array([1, 2, 3, 4, 5])\n",
    "indices = np.arange(1, 4)\n",
    "selected_elements = array[indices]\n",
    "\n",
    "print(selected_elements)"
   ]
  },
  {
   "cell_type": "code",
   "execution_count": null,
   "id": "6c308e38-74ef-48ee-8009-f6a7480818bf",
   "metadata": {},
   "outputs": [],
   "source": [
    "# Example 3.2: Integer Array Indexing (Modifying elements of an array using an array of integers as indices)\n",
    "array = np.array([1, 2, 3, 4, 5])\n",
    "indices = np.array([1, 3])\n",
    "array[indices] = 0\n",
    "\n",
    "print(array)"
   ]
  },
  {
   "cell_type": "markdown",
   "id": "602e8338-f059-40a8-8ea1-e8fffbfdcfbf",
   "metadata": {},
   "source": [
    "## *3.7 NumPy Functions*"
   ]
  },
  {
   "cell_type": "code",
   "execution_count": null,
   "id": "1c6ebcd3-2ca2-48d7-b9b7-74f7f82f1bc5",
   "metadata": {},
   "outputs": [],
   "source": [
    "'''\n",
    "Explore the vast range of built-in NumPy functions and methods available for array manipulation and mathematical operations.\n",
    "\n",
    "Familiarize yourself with common functions like np.sum(), np.mean(), np.max(), np.min(), np.sort(), np.argsort(), and more.\n",
    "\n",
    "Take advantage of specialized functions for linear algebra, statistics, signal processing, and more.\n",
    "'''"
   ]
  },
  {
   "cell_type": "code",
   "execution_count": null,
   "id": "20415f9a-da7f-4dc5-8c92-5fea60542c98",
   "metadata": {},
   "outputs": [],
   "source": [
    "# Example 1.1: Array Manipulation Functions (Computing the sum of elements in an array)\n",
    "\n",
    "array = np.array([1, 2, 3, 4, 5])\n",
    "sum_result = np.sum(array)\n",
    "\n",
    "print(sum_result)"
   ]
  },
  {
   "cell_type": "code",
   "execution_count": null,
   "id": "08a6cf6e-3e61-4a26-b41c-2b1e6dbc650e",
   "metadata": {},
   "outputs": [],
   "source": [
    "# Example 1.2: Array Manipulation Functions (Computing the mean of elements in an array)\n",
    "array = np.array([1, 2, 3, 4, 5])\n",
    "mean_result = np.mean(array)\n",
    "\n",
    "print(mean_result)"
   ]
  },
  {
   "cell_type": "code",
   "execution_count": null,
   "id": "d6e0e6d8-a270-4cdb-bc6c-36ccb5134496",
   "metadata": {},
   "outputs": [],
   "source": [
    "# Example 1.3: Array Manipulation Functions (Sorting an array in ascending order)\n",
    "array = np.array([3, 1, 4, 2, 5])\n",
    "sorted_array = np.sort(array)\n",
    "\n",
    "print(sorted_array)"
   ]
  },
  {
   "cell_type": "code",
   "execution_count": null,
   "id": "c0d991d7-25d6-40cd-a731-fbbb07ec23ed",
   "metadata": {},
   "outputs": [],
   "source": [
    "# Example 2.1: Linear Algebra Functions (Computing the dot product of two arrays)\n",
    "array1 = np.array([1, 2, 3])\n",
    "array2 = np.array([4, 5, 6])\n",
    "dot_product = np.dot(array1, array2)\n",
    "\n",
    "print(dot_product)"
   ]
  },
  {
   "cell_type": "code",
   "execution_count": null,
   "id": "a3df99d7-0d37-4fee-ab22-3e8c841fbcfb",
   "metadata": {},
   "outputs": [],
   "source": [
    "# Example 2.2: Linear Algebra Functions (Solving a system of linear equations)\n",
    "coefficients = np.array([[2, 3], [4, 5]])\n",
    "constants = np.array([6, 9])\n",
    "solution = np.linalg.solve(coefficients, constants)\n",
    "\n",
    "print(solution)"
   ]
  },
  {
   "cell_type": "code",
   "execution_count": null,
   "id": "43e6ab77-880e-4e8f-a87c-3b151f5f3845",
   "metadata": {},
   "outputs": [],
   "source": [
    "# Example 3.1: Statistical Functions (Finding the maximum value in an array)\n",
    "array = np.array([3, 1, 4, 2, 5])\n",
    "max_value = np.max(array)\n",
    "\n",
    "print(max_value)"
   ]
  },
  {
   "cell_type": "code",
   "execution_count": null,
   "id": "c0520812-b780-4b0b-8aba-e56bf7345e39",
   "metadata": {},
   "outputs": [],
   "source": [
    "# Example 3.2: Statistical Functions (Finding the indices that would sort an array)\n",
    "array = np.array([3, 1, 4, 2, 5])\n",
    "sorted_indices = np.argsort(array)\n",
    "\n",
    "print(sorted_indices)"
   ]
  },
  {
   "cell_type": "markdown",
   "id": "01137e12-b323-4bf4-8b8c-3cb492c5dbf2",
   "metadata": {},
   "source": [
    "## *3.8 Optimization Techniques*"
   ]
  },
  {
   "cell_type": "code",
   "execution_count": null,
   "id": "cb8f24b3-90e2-4870-8aae-0e52b0b58880",
   "metadata": {},
   "outputs": [],
   "source": [
    "'''\n",
    "Gain knowledge about advanced optimization techniques, such as memory optimization, algorithmic improvements, and parallelization using NumPy.\n",
    "\n",
    "Explore the use of specialized functions and algorithms available in NumPy and its submodules for specific tasks.\n",
    "\n",
    "Consider the use of numba, Cython, or other libraries to further optimize code when necessary.\n",
    "'''"
   ]
  },
  {
   "cell_type": "code",
   "execution_count": null,
   "id": "5bcaf672-e458-4e09-8bac-4744cbf4a6c4",
   "metadata": {},
   "outputs": [],
   "source": [
    "# Example 1.1: Memory Optimization (Using smaller data types to save memory)\n",
    "array = np.array([1, 2, 3, 4, 5], dtype=np.int8)  # Use int8 instead of default int64\n",
    "\n",
    "print(array.dtype)"
   ]
  },
  {
   "cell_type": "code",
   "execution_count": null,
   "id": "e38ad24c-02c6-4272-8adc-b4dca8507abc",
   "metadata": {},
   "outputs": [],
   "source": [
    "# Example 1.2: Memory Optimization (Using views instead of copies to save memory)\n",
    "array = np.array([1, 2, 3, 4, 5])\n",
    "view = array.view()  # Create a view of the original array\n",
    "\n",
    "print(view)"
   ]
  },
  {
   "cell_type": "code",
   "execution_count": null,
   "id": "1689ba14-7954-4a6e-86e0-d00fba84e875",
   "metadata": {},
   "outputs": [],
   "source": [
    "# Example 2.1: Algorithmic Improvements (Utilizing vectorized operations for faster computations)\n",
    "array = np.arange(1, 10000001)  # Array of numbers from 1 to 10 million\n",
    "sum_result = np.sum(array)  # Faster than using a loop\n",
    "\n",
    "print(sum_result)"
   ]
  },
  {
   "cell_type": "code",
   "execution_count": null,
   "id": "894b2831-188a-4e24-9e08-e5ea5dab31f7",
   "metadata": {},
   "outputs": [],
   "source": [
    "# Example 2.2: Algorithmic Improvements (Implementing efficient sorting algorithms for large arrays)\n",
    "array = np.random.randint(1, 100000, size=1000000)  # Random array of 1 million elements\n",
    "sorted_array = np.sort(array, kind='quicksort')  # Quicksort algorithm for sorting\n",
    "\n",
    "print(sorted_array)"
   ]
  },
  {
   "cell_type": "code",
   "execution_count": null,
   "id": "cb83f94f-cc3d-47c8-8be3-3550f399c8a0",
   "metadata": {},
   "outputs": [],
   "source": [
    "# Example 3.1: Parallelization (Utilizing parallelized operations using NumPy's functions)\n",
    "array1 = np.random.randint(1, 100, size=(1000, 1000))\n",
    "array2 = np.random.randint(1, 100, size=(1000, 1000))\n",
    "\n",
    "# Perform element-wise multiplication in parallel\n",
    "result = np.multiply(array1, array2, out=array1, where=(array1 > 50))\n",
    "\n",
    "print(result)"
   ]
  },
  {
   "cell_type": "code",
   "execution_count": null,
   "id": "60c28755-e6f5-4497-9d9b-043c8df95126",
   "metadata": {},
   "outputs": [],
   "source": [
    "# Example 4.1: Specialized Functions and Submodules (Utilizing NumPy's FFT functions for fast Fourier transforms)\n",
    "signal = np.random.random(1024)  # Random signal of length 1024\n",
    "fft_result = np.fft.fft(signal)  # Fast Fourier Transform\n",
    "\n",
    "print(fft_result)"
   ]
  },
  {
   "cell_type": "code",
   "execution_count": null,
   "id": "be971c9d-27de-494a-9dac-62e575a44ef2",
   "metadata": {},
   "outputs": [],
   "source": [
    "# Example 4.2: Specialized Functions and Submodules (Using NumPy's linear algebra submodule for optimized linear algebra operations)\n",
    "matrix = np.random.rand(1000, 1000)\n",
    "eigenvalues, eigenvectors = np.linalg.eig(matrix)\n",
    "\n",
    "print(eigenvalues)\n",
    "print(eigenvectors)"
   ]
  },
  {
   "cell_type": "code",
   "execution_count": null,
   "id": "892c038e-f874-4437-8288-34eb720200ae",
   "metadata": {},
   "outputs": [],
   "source": []
  },
  {
   "cell_type": "code",
   "execution_count": null,
   "id": "556ed2b9-be00-4d69-a41d-409da9d9c582",
   "metadata": {},
   "outputs": [],
   "source": []
  },
  {
   "cell_type": "code",
   "execution_count": null,
   "id": "69d7bc3d-3ab8-48ca-a4d1-f459e7ac7e17",
   "metadata": {},
   "outputs": [],
   "source": []
  },
  {
   "cell_type": "code",
   "execution_count": null,
   "id": "e3c5a31b-61c2-422c-a732-f2afed3458c1",
   "metadata": {},
   "outputs": [],
   "source": []
  },
  {
   "cell_type": "code",
   "execution_count": null,
   "id": "19d0f91d-0fb0-4430-8e3c-1496be4b1ab1",
   "metadata": {},
   "outputs": [],
   "source": []
  }
 ],
 "metadata": {
  "kernelspec": {
   "display_name": "Python 3 (ipykernel)",
   "language": "python",
   "name": "python3"
  },
  "language_info": {
   "codemirror_mode": {
    "name": "ipython",
    "version": 3
   },
   "file_extension": ".py",
   "mimetype": "text/x-python",
   "name": "python",
   "nbconvert_exporter": "python",
   "pygments_lexer": "ipython3",
   "version": "3.10.9"
  }
 },
 "nbformat": 4,
 "nbformat_minor": 5
}
