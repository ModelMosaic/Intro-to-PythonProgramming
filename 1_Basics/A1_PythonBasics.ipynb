{
 "cells": [
  {
   "cell_type": "markdown",
   "id": "60353d48-3c54-4102-bf80-6fa272937caa",
   "metadata": {},
   "source": [
    "# 1.1 Python Programming Basics"
   ]
  },
  {
   "cell_type": "markdown",
   "id": "85a62c8f-1f63-4462-a572-8d784be844f5",
   "metadata": {},
   "source": [
    "## *1.1.a String*"
   ]
  },
  {
   "cell_type": "code",
   "execution_count": 1,
   "id": "9acfbf75-7ad5-46ac-a119-cd9e4dd1df6f",
   "metadata": {},
   "outputs": [
    {
     "name": "stdout",
     "output_type": "stream",
     "text": [
      "world is here\n"
     ]
    },
    {
     "data": {
      "text/plain": [
       "'Hello world'"
      ]
     },
     "execution_count": 1,
     "metadata": {},
     "output_type": "execute_result"
    }
   ],
   "source": [
    "print('world' + ' is here') # string concatenation by '+' sign\n",
    "'Hello world' # last line within a cell will be printed automatically (Notebook only)"
   ]
  },
  {
   "cell_type": "code",
   "execution_count": 2,
   "id": "461fdaab-bea3-45f3-9c3d-7cd2a8899afd",
   "metadata": {},
   "outputs": [
    {
     "name": "stdout",
     "output_type": "stream",
     "text": [
      "Doctor's office\n",
      "Doctor's office\n"
     ]
    },
    {
     "data": {
      "text/plain": [
       "('e', 'olleh', 'hilo', 'yayaya', 5)"
      ]
     },
     "execution_count": 2,
     "metadata": {},
     "output_type": "execute_result"
    }
   ],
   "source": [
    "# the + operator creates concatenations of strings\n",
    "print(\"Doctor's\" + ' ' + 'office')\n",
    "print(\"Doctor's \" + 'office')\n",
    "\n",
    "# strings can be indexed, sliced, concatenated, repeated, etc.\n",
    "msg = 'hello'\n",
    "msg[1], msg[::-1], 'hi' + 'lo', 'ya' * 3, len('house')"
   ]
  },
  {
   "cell_type": "code",
   "execution_count": 3,
   "id": "ad7b1a84-3ebb-4b00-938b-55953d8946b0",
   "metadata": {},
   "outputs": [
    {
     "ename": "TypeError",
     "evalue": "'str' object does not support item assignment",
     "output_type": "error",
     "traceback": [
      "\u001b[1;31m---------------------------------------------------------------------------\u001b[0m",
      "\u001b[1;31mTypeError\u001b[0m                                 Traceback (most recent call last)",
      "Cell \u001b[1;32mIn[3], line 2\u001b[0m\n\u001b[0;32m      1\u001b[0m \u001b[38;5;66;03m# strings are also immutable\u001b[39;00m\n\u001b[1;32m----> 2\u001b[0m msg[\u001b[38;5;241m2\u001b[39m] \u001b[38;5;241m=\u001b[39m \u001b[38;5;124m'\u001b[39m\u001b[38;5;124me\u001b[39m\u001b[38;5;124m'\u001b[39m\n",
      "\u001b[1;31mTypeError\u001b[0m: 'str' object does not support item assignment"
     ]
    }
   ],
   "source": [
    "# strings are also immutable\n",
    "msg[2] = 'e' # error, because we cannot change strings"
   ]
  },
  {
   "cell_type": "code",
   "execution_count": 5,
   "id": "37c02e7b-e682-4e80-95cd-3a52b07ac4a7",
   "metadata": {},
   "outputs": [
    {
     "name": "stdout",
     "output_type": "stream",
     "text": [
      "hi!\n"
     ]
    }
   ],
   "source": [
    "message = 'h'\n",
    "message += 'i!'\n",
    "print(message)"
   ]
  },
  {
   "cell_type": "markdown",
   "id": "296bd66d-0dfb-4974-8810-3045704568f6",
   "metadata": {},
   "source": [
    "## *1.1.b Math Operators*"
   ]
  },
  {
   "cell_type": "code",
   "execution_count": 6,
   "id": "46cc8a7b-ac9e-4d27-b48d-ad04f8961385",
   "metadata": {},
   "outputs": [
    {
     "data": {
      "text/plain": [
       "(3, 2, 256)"
      ]
     },
     "execution_count": 6,
     "metadata": {},
     "output_type": "execute_result"
    }
   ],
   "source": [
    "10 // 3 ,   5 % 3,   1 << 8"
   ]
  },
  {
   "cell_type": "code",
   "execution_count": 7,
   "id": "c33dfc3a-a895-40f6-9811-2b6568b89bf9",
   "metadata": {},
   "outputs": [
    {
     "data": {
      "text/plain": [
       "11"
      ]
     },
     "execution_count": 7,
     "metadata": {},
     "output_type": "execute_result"
    }
   ],
   "source": [
    "10|3"
   ]
  },
  {
   "cell_type": "markdown",
   "id": "c00ab37b-1888-45ee-935e-953bffde700b",
   "metadata": {},
   "source": [
    "All available operators:\n",
    "```\n",
    "+       -       *       **      /       //      %      @\n",
    "<<      >>      &       |       ^       ~       :=\n",
    "<       >       <=      >=      ==      !=\n",
    "```"
   ]
  },
  {
   "cell_type": "markdown",
   "id": "43834a35-1976-45c1-87fa-fdfb70d11780",
   "metadata": {},
   "source": [
    "## *1.1.c Variables*"
   ]
  },
  {
   "cell_type": "markdown",
   "id": "8a722b90-e55d-49e0-9fdd-4c12b6f3b929",
   "metadata": {},
   "source": [
    "All in-place operators are:\n",
    "```\n",
    "+=      -=      *=      /=      //=     %=      @=\n",
    "&=      |=      ^=      >>=     <<=     **=\n",
    "```"
   ]
  },
  {
   "cell_type": "markdown",
   "id": "f3bb8ba8-d5d8-4917-8b88-ec31a9bd4388",
   "metadata": {},
   "source": [
    "## *1.1.d Types*"
   ]
  },
  {
   "cell_type": "code",
   "execution_count": 8,
   "id": "06fb8b7a-fe25-4e2f-ace7-72711015db81",
   "metadata": {},
   "outputs": [
    {
     "data": {
      "text/plain": [
       "(int, float, complex, float, bool)"
      ]
     },
     "execution_count": 8,
     "metadata": {},
     "output_type": "execute_result"
    }
   ],
   "source": [
    "type(2), type(4 / 3), type(4**0.5j), type(5.4 % 3), type(not 1.3)"
   ]
  },
  {
   "cell_type": "code",
   "execution_count": 9,
   "id": "46627846-3f2a-4298-a6ca-11e39fd98a99",
   "metadata": {},
   "outputs": [
    {
     "data": {
      "text/plain": [
       "(list, tuple, range, str)"
      ]
     },
     "execution_count": 9,
     "metadata": {},
     "output_type": "execute_result"
    }
   ],
   "source": [
    "type([1, 'x', 3.3, True]), type((1, True, 'hi')), type(range(5)), type('wow')"
   ]
  },
  {
   "cell_type": "markdown",
   "id": "3cba3262-7288-418f-996d-b58a6555794b",
   "metadata": {},
   "source": [
    "## *1.1.e Explizit Type Conversion*"
   ]
  },
  {
   "cell_type": "code",
   "execution_count": 10,
   "id": "db22729e-92dc-468d-99ba-7bec077b5cfa",
   "metadata": {},
   "outputs": [
    {
     "data": {
      "text/plain": [
       "(45, False, True, 1, 4.0, 4.0)"
      ]
     },
     "execution_count": 10,
     "metadata": {},
     "output_type": "execute_result"
    }
   ],
   "source": [
    "int(\"45\"), bool(0), bool(23), int(4 / 3), float(2 + 2), float('4')"
   ]
  },
  {
   "cell_type": "code",
   "execution_count": 11,
   "id": "0679d5ce-b279-4916-afff-e6b720d974c2",
   "metadata": {},
   "outputs": [
    {
     "data": {
      "text/plain": [
       "(1, 2, False, True, False, True)"
      ]
     },
     "execution_count": 11,
     "metadata": {},
     "output_type": "execute_result"
    }
   ],
   "source": [
    " int(1.99), round(1.59), bool(\"\"), bool(\" \"), bool([]), bool([1])"
   ]
  },
  {
   "cell_type": "code",
   "execution_count": 12,
   "id": "c73c8fe2-cfff-4c9d-af1b-4a0cb88d3185",
   "metadata": {},
   "outputs": [
    {
     "data": {
      "text/plain": [
       "(list, str)"
      ]
     },
     "execution_count": 12,
     "metadata": {},
     "output_type": "execute_result"
    }
   ],
   "source": [
    "#convert tuple into list or string\n",
    "a = (1, 2, 3) #tuple\n",
    "b = list(a) #convert to list\n",
    "c = str(a)\n",
    "type(b), type(c)"
   ]
  },
  {
   "cell_type": "markdown",
   "id": "58d4e893-7620-4708-acef-5160cdcd57b7",
   "metadata": {},
   "source": [
    "## *1.1.f Booleans*"
   ]
  },
  {
   "cell_type": "code",
   "execution_count": 13,
   "id": "dacb32f2-da31-4d75-bc9f-6f8198e3b704",
   "metadata": {},
   "outputs": [
    {
     "name": "stdout",
     "output_type": "stream",
     "text": [
      "False False False False False False\n",
      "True True True True True True\n"
     ]
    }
   ],
   "source": [
    "print(bool(0), bool(0.0), bool(''), bool([]), bool({}), bool(())) #FALSE\n",
    "print(bool(1), bool(0.01), bool(' '), bool([1]), bool({3}), bool((6,))) #TRUE"
   ]
  },
  {
   "cell_type": "code",
   "execution_count": 14,
   "id": "ebd9e22f-6eea-4b07-af90-86159af9b820",
   "metadata": {},
   "outputs": [
    {
     "data": {
      "text/plain": [
       "('', 0, 'a', '', 'tree', [5], 6)"
      ]
     },
     "execution_count": 14,
     "metadata": {},
     "output_type": "execute_result"
    }
   ],
   "source": [
    "#first \"True\" value or last \"False in \"or\"\n",
    "#last \"True\" value or first \"False\" value in \"and\"\n",
    "0 or '', '' or 0, 1 and 'a', '' and 1, 0 or 'tree' or 5, 6 and [] or [5], a and 6"
   ]
  },
  {
   "cell_type": "markdown",
   "id": "96e28f24-71d0-4432-9049-e93d62bc4090",
   "metadata": {},
   "source": [
    "## *1.1.g Comparison Operators*"
   ]
  },
  {
   "cell_type": "code",
   "execution_count": 15,
   "id": "3d89a36b-a861-42c4-8587-5d74fa585539",
   "metadata": {},
   "outputs": [
    {
     "data": {
      "text/plain": [
       "True"
      ]
     },
     "execution_count": 15,
     "metadata": {},
     "output_type": "execute_result"
    }
   ],
   "source": [
    "\"hello                \".strip() == \"hello\""
   ]
  },
  {
   "cell_type": "code",
   "execution_count": 16,
   "id": "848b058e-3fa7-4b6b-a61b-1ff0df7d47b9",
   "metadata": {},
   "outputs": [
    {
     "data": {
      "text/plain": [
       "(True, False)"
      ]
     },
     "execution_count": 16,
     "metadata": {},
     "output_type": "execute_result"
    }
   ],
   "source": [
    "[1] == [1], [1] is [1] # == means equal and \"is\" means a reference instead"
   ]
  },
  {
   "cell_type": "markdown",
   "id": "e1fb4686-a665-44b0-bd7a-621882dc5dde",
   "metadata": {},
   "source": [
    "## *1.1.h Lists*"
   ]
  },
  {
   "cell_type": "code",
   "execution_count": 17,
   "id": "64e24b7c-9390-4a98-8d1a-5c29adf755bb",
   "metadata": {},
   "outputs": [
    {
     "data": {
      "text/plain": [
       "([], [1, 2, 'a'], [1, 2], [])"
      ]
     },
     "execution_count": 17,
     "metadata": {},
     "output_type": "execute_result"
    }
   ],
   "source": [
    "# list can be created with [] or with the built-in list type (one trailing comma is okay)\n",
    "[], [1, 2, 'a'], [1, 2,], list()"
   ]
  },
  {
   "cell_type": "code",
   "execution_count": 18,
   "id": "cd16616f-95de-4cb3-8f52-0929777e2d8e",
   "metadata": {},
   "outputs": [
    {
     "name": "stdout",
     "output_type": "stream",
     "text": [
      "['h', 'e', 'l', 'l', 'o']\n",
      "[1, 2, 3, 2, 3, 4]\n",
      "[1, 2, 1, 2, 1, 2] +=+=+=+=+=+=+=+=+=+=\n"
     ]
    }
   ],
   "source": [
    "# the list built-in will attempt to iterate over its (optional) input and create a list of the elements\n",
    "print(list('hello'))\n",
    "\n",
    "# the + operator creates a new, concatenated list\n",
    "print([1, 2, 3] + [2, 3, 4])\n",
    "\n",
    "# the * operator repeats lists given an int (also works with strings)\n",
    "print(3 * [1, 2], 10 * '+=')"
   ]
  },
  {
   "cell_type": "code",
   "execution_count": 19,
   "id": "146674bb-e486-43fa-ba80-de04d31dcd31",
   "metadata": {},
   "outputs": [
    {
     "name": "stdout",
     "output_type": "stream",
     "text": [
      "1 4\n",
      "3 5 1\n"
     ]
    }
   ],
   "source": [
    "# index notation\n",
    "lst = [4, 2, 1, 5, 3]\n",
    "\n",
    "print(lst[2], lst[0]) #counting start at 0\n",
    "print(lst[-1], lst[-2], lst[-3]) #with minus you can count from back"
   ]
  },
  {
   "cell_type": "code",
   "execution_count": 20,
   "id": "cc32137d-2a41-482f-8cef-6eecab69b80b",
   "metadata": {},
   "outputs": [
    {
     "name": "stdout",
     "output_type": "stream",
     "text": [
      "[0, 2, 4, 6, 8, 10] [1, 4, 7, 10]\n",
      "[2, 4] [8, 6, 4, 2, 0] [7, 5]\n",
      "[5, 4, 3, 2, 1, 0] [8, 6, 4, 2, 0]\n"
     ]
    },
    {
     "data": {
      "text/plain": [
       "11"
      ]
     },
     "execution_count": 20,
     "metadata": {},
     "output_type": "execute_result"
    }
   ],
   "source": [
    "'''\n",
    "lists can be indexed using the slicing notation lst[start:stop:step] to create slices of lists \n",
    "(slicing is exclusive, i.e. the element with index stop will not be included)\n",
    "'''\n",
    "#print(lst[1:3], lst[:2], lst[2:], lst[:-1], lst[2:2], lst[:]) #start is inclusive / stop is exlusive\n",
    "###\n",
    "lst2 = [0, 1, 2, 3, 4, 5, 6, 7, 8, 9, 10]\n",
    "\n",
    "print(lst2[::2], lst2[1::3]) #default value of start is 0 and stop the end of list and step defaults to 0\n",
    "\n",
    "print(lst2[2:5:2], lst2[8::-2], lst2[7:3:-2]) #negative step will iterate in reverse from start to stop\n",
    "\n",
    "print(lst2[5::-1], lst2[8::-2])\n",
    "\n",
    "len(lst2)"
   ]
  },
  {
   "cell_type": "markdown",
   "id": "8342bbac-711d-4a73-b479-60e8f6d33706",
   "metadata": {},
   "source": [
    "## *1.1.i Tuples*"
   ]
  },
  {
   "cell_type": "code",
   "execution_count": 21,
   "id": "341320da-c99c-4f5a-95e9-355057cc09c1",
   "metadata": {},
   "outputs": [
    {
     "name": "stdout",
     "output_type": "stream",
     "text": [
      "() (1,) (1, 2, 3)\n",
      "(3, 4, 5) ('h', 'e', 'l', 'l', 'o')\n"
     ]
    }
   ],
   "source": [
    "# tuple with () or tuple() function\n",
    "print((), (1,), (1, 2, 3)) #(1) would not be a tuple anymore\n",
    "\n",
    "print(tuple([3, 4, 5]), tuple('hello')) #tuple function -> iterate over its input and create a tuple of the elements"
   ]
  },
  {
   "cell_type": "code",
   "execution_count": 22,
   "id": "b2f78638-f37b-4134-ad70-1057c4c1acc4",
   "metadata": {},
   "outputs": [
    {
     "name": "stdout",
     "output_type": "stream",
     "text": [
      "2 (3, 2, 1) (1, 2) (1, 2, 1, 2, 1, 2) 3\n"
     ]
    }
   ],
   "source": [
    "# tuples can be indexed, sliced, concatenated, repeated, etc.\n",
    "tup = (1,2,3)\n",
    "print(tup[1], tup[::-1], (1,) + (2,), (1,2) * 3, len((1, 2, 3)))\n",
    "\n",
    "# tuples are immutable, i.e. they cannot be modified\n",
    "tup2 = (2, 4, 6)\n",
    "# print(tup2[-1] = 3) # error message"
   ]
  },
  {
   "cell_type": "code",
   "execution_count": 23,
   "id": "35590df3-6d97-4d9c-9070-64922300e8a7",
   "metadata": {},
   "outputs": [
    {
     "name": "stdout",
     "output_type": "stream",
     "text": [
      "(1, 2, 42)\n"
     ]
    }
   ],
   "source": [
    "# use lists for mutable containers or create a new tuple\n",
    "tup = list(tup)  # create a modifiable list with elements from tup\n",
    "tup[-1] = 42\n",
    "tup = tuple(tup)\n",
    "print(tup)"
   ]
  },
  {
   "cell_type": "markdown",
   "id": "fde2ad0b-e317-46ea-81f4-c4a582bb8944",
   "metadata": {},
   "source": [
    "## *1.1.j Membership Operator*"
   ]
  },
  {
   "cell_type": "code",
   "execution_count": 24,
   "id": "3bd3d5c3-1b98-4d75-be9e-675746048088",
   "metadata": {},
   "outputs": [
    {
     "name": "stdout",
     "output_type": "stream",
     "text": [
      "(True, False)\n",
      "True\n",
      "True\n",
      "False\n"
     ]
    }
   ],
   "source": [
    "print(('ell' in 'hello', 'hi' in 'hello')) #checks with the string is inside -> Return True\n",
    "print([2, 3] in [[2], 3, 4, [2,3]])\n",
    "print('bear' in ['monkey', 'snake', 'bear'])\n",
    "print(() in [[], '', False])"
   ]
  },
  {
   "cell_type": "markdown",
   "id": "aaff39cb-c3c1-4795-94ef-3ebf2f060d5c",
   "metadata": {},
   "source": [
    "## *1.1.k String Utility Functions*"
   ]
  },
  {
   "cell_type": "code",
   "execution_count": 25,
   "id": "dda418ed-bc9c-4879-be39-c14a8b6afb73",
   "metadata": {},
   "outputs": [
    {
     "name": "stdout",
     "output_type": "stream",
     "text": [
      "the story\n"
     ]
    },
    {
     "data": {
      "text/plain": [
       "(2, 'l')"
      ]
     },
     "execution_count": 25,
     "metadata": {},
     "output_type": "execute_result"
    }
   ],
   "source": [
    "print('   the story \\r\\n\\r\\n '.strip())  # strip leading and trailing whitespaces/newlines\n",
    "\n",
    "txt = 'Hello world !'  # index of a sub-string\n",
    "first = txt.find('ll')  # 4\n",
    "first, txt[first]"
   ]
  },
  {
   "cell_type": "code",
   "execution_count": 26,
   "id": "56a10829-2750-46d6-963b-8a4aa765c64a",
   "metadata": {},
   "outputs": [
    {
     "name": "stdout",
     "output_type": "stream",
     "text": [
      "['Apples', 'Lettuce', 'Bread']\n",
      "Huey and Dewey and Louie\n"
     ]
    }
   ],
   "source": [
    "print('Apples,Lettuce,Bread'.split(','))  # split a string into a list of strings given a delimiter\n",
    "print(' and '.join(['Huey', 'Dewey', 'Louie']))  # joining a list of strings using a delimiter"
   ]
  },
  {
   "cell_type": "markdown",
   "id": "924609b5-a522-42e2-9084-467bd8683167",
   "metadata": {},
   "source": [
    "## *1.1.l String formatting*"
   ]
  },
  {
   "cell_type": "code",
   "execution_count": 27,
   "id": "e5cb4269-f768-4144-bfd2-800a5404e0cc",
   "metadata": {},
   "outputs": [
    {
     "name": "stdout",
     "output_type": "stream",
     "text": [
      "Today is Monday 17th of October\n",
      "Today is Tuesday, 17th of October\n",
      "Result: 1.7321\n",
      "Value:00015 Value:   15\n"
     ]
    }
   ],
   "source": [
    "# Using f-strings (recommended)\n",
    "day = 17\n",
    "suffix = 'th'\n",
    "day_of_week = 'Monday'\n",
    "month = 'October'\n",
    "\n",
    "print(f'Today is {day_of_week} {day}{suffix} of {month}')\n",
    "\n",
    "# Using str.format\n",
    "print(\"Today is {}, {}{} of {}\".format(\"Tuesday\", 2 * 8 + 1, 'th', \"October\")) # old way\n",
    "\n",
    "# Formatting options\n",
    "print(f'Result: { 3**0.5:0.4f}') # operation inside + 3 digits after the floating point\n",
    "print(f'Value:{15:05d}', f'Value:{15:5d}') # 5 digits long output filled with zeros/empty string"
   ]
  },
  {
   "cell_type": "markdown",
   "id": "0a8e8002-7992-43a7-8741-ac6fc3af2fed",
   "metadata": {},
   "source": [
    "## *1.1.m Precedence of operators*"
   ]
  },
  {
   "cell_type": "code",
   "execution_count": 28,
   "id": "681d6076-3623-4996-ae9a-907a72a7e7ac",
   "metadata": {},
   "outputs": [
    {
     "name": "stdout",
     "output_type": "stream",
     "text": [
      "Exhaustive list\n"
     ]
    },
    {
     "data": {
      "text/plain": [
       "'\\n()              -> Parantheses (grouping)\\nf(args ...)     -> Function call\\nx[index:index]  -> Slicing\\nx[index]        -> Subscription\\nx.aatribute     -> Attribute reference\\n**              -> Exponentation\\n~x              -> Bitwise not\\n+,-,*,/         -> Positive, Negative, Multiplication, Division\\n&               -> AND\\n^               -> XOR\\n|               -> OR\\nin, not in, is, is not -> Comparison\\nnot, and, or    -> Boolean NOT, AND, NOT\\nlambda          -> Lambda expression\\n'"
      ]
     },
     "execution_count": 28,
     "metadata": {},
     "output_type": "execute_result"
    }
   ],
   "source": [
    "print(\"Exhaustive list\")\n",
    "'''\n",
    "()              -> Parantheses (grouping)\n",
    "f(args ...)     -> Function call\n",
    "x[index:index]  -> Slicing\n",
    "x[index]        -> Subscription\n",
    "x.aatribute     -> Attribute reference\n",
    "**              -> Exponentation\n",
    "~x              -> Bitwise not\n",
    "+,-,*,/         -> Positive, Negative, Multiplication, Division\n",
    "&               -> AND\n",
    "^               -> XOR\n",
    "|               -> OR\n",
    "in, not in, is, is not -> Comparison\n",
    "not, and, or    -> Boolean NOT, AND, NOT\n",
    "lambda          -> Lambda expression\n",
    "'''"
   ]
  },
  {
   "cell_type": "markdown",
   "id": "4d1ec4e6-c72c-4458-8183-71396a0baa0c",
   "metadata": {},
   "source": [
    "## *1.1.n Functions*"
   ]
  },
  {
   "cell_type": "code",
   "execution_count": 29,
   "id": "2f5d400d-e6d6-4f2d-88d8-40b068ed5c54",
   "metadata": {},
   "outputs": [],
   "source": [
    "def func(x, y, coeff=1):\n",
    "    \n",
    "    z = (x ** 2 + y ** 2) ** 0.5 \n",
    "    z *= coeff\n",
    "    \n",
    "    return z, z ** 2  # multipe outputs possible (returned type is a tuple)"
   ]
  },
  {
   "cell_type": "code",
   "execution_count": 30,
   "id": "0e5593e2-813c-4bdc-a490-0ce0e737bc98",
   "metadata": {},
   "outputs": [
    {
     "name": "stdout",
     "output_type": "stream",
     "text": [
      "(10.0, 100.0)\n",
      "(5.0, 25.0)\n",
      "(10.0, 100.0)\n"
     ]
    }
   ],
   "source": [
    "print(func(3, 4, 2))\n",
    "print(func(3, 4))  # default coeff=1 is used\n",
    "print(func(x=3, coeff=2, y=4))"
   ]
  },
  {
   "cell_type": "markdown",
   "id": "73abf494-7e2d-4f43-9215-a17874dec300",
   "metadata": {},
   "source": [
    "## *1.1.o Function docstring and type annotations*"
   ]
  },
  {
   "cell_type": "code",
   "execution_count": 31,
   "id": "38eedcd5-1f50-4a8d-ae12-e953dc69bfa0",
   "metadata": {},
   "outputs": [
    {
     "data": {
      "text/plain": [
       "(4+2j)"
      ]
     },
     "execution_count": 31,
     "metadata": {},
     "output_type": "execute_result"
    }
   ],
   "source": [
    "# You may provide a function with a custom docstring and type annotations\n",
    "def add_c(first : tuple, second : tuple) -> complex:\n",
    "    \"\"\" Adds two complex numbers\n",
    "        \n",
    "        Args: \n",
    "            first (tuple)  : the first complex number\n",
    "            second (tuple) : the second complex number\n",
    "        \n",
    "        Returns:\n",
    "            complex : sum of the two complex numbers\n",
    "    \"\"\"\n",
    "    \n",
    "    assert type(first) == tuple, 'not a tuple'\n",
    "    assert type(second) == tuple, 'not a tuple'\n",
    "    \n",
    "    re = first[0] + second[0]\n",
    "    im = first[1] + second[1]\n",
    "    \n",
    "    return complex(re, im)\n",
    "\n",
    "add_c((2,3), (2,-1))"
   ]
  },
  {
   "cell_type": "markdown",
   "id": "f1d1b095-1ff5-435d-8981-99b65df7e2e1",
   "metadata": {},
   "source": [
    "## *1.1.p Sequence unpacking*"
   ]
  },
  {
   "cell_type": "code",
   "execution_count": 32,
   "id": "76088da4-3451-4872-8b9b-4a49e84a2e93",
   "metadata": {},
   "outputs": [
    {
     "name": "stdout",
     "output_type": "stream",
     "text": [
      "1 2 3\n"
     ]
    }
   ],
   "source": [
    "values = (1, 2, 3)\n",
    "val1, val2, val3 = values\n",
    "print(val1, val2, val3)"
   ]
  },
  {
   "cell_type": "code",
   "execution_count": 33,
   "id": "aa2a23d8-3698-4d01-a9a7-a088d3533552",
   "metadata": {},
   "outputs": [
    {
     "name": "stdout",
     "output_type": "stream",
     "text": [
      "[5, 1, 2, 3, 19]\n"
     ]
    }
   ],
   "source": [
    "print([5, *values, 19])"
   ]
  },
  {
   "cell_type": "code",
   "execution_count": null,
   "id": "562b8bc5-3966-4210-b334-e07c5fa846c3",
   "metadata": {},
   "outputs": [],
   "source": []
  }
 ],
 "metadata": {
  "kernelspec": {
   "display_name": "Python 3 (ipykernel)",
   "language": "python",
   "name": "python3"
  },
  "language_info": {
   "codemirror_mode": {
    "name": "ipython",
    "version": 3
   },
   "file_extension": ".py",
   "mimetype": "text/x-python",
   "name": "python",
   "nbconvert_exporter": "python",
   "pygments_lexer": "ipython3",
   "version": "3.10.9"
  }
 },
 "nbformat": 4,
 "nbformat_minor": 5
}
