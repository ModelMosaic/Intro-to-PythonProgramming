{
 "cells": [
  {
   "cell_type": "markdown",
   "id": "9e776765-13c8-468a-88ae-9abfe3c6fcf6",
   "metadata": {},
   "source": [
    "# 2.2_Advanced Python"
   ]
  },
  {
   "cell_type": "markdown",
   "id": "2a59d5ad-66d0-4186-b1fd-f4d16bed5eef",
   "metadata": {},
   "source": [
    "## *2.2a Object Orientied Programming with Python*"
   ]
  },
  {
   "cell_type": "markdown",
   "id": "335970e7-6b6d-4c0d-af63-d191f7d10a7d",
   "metadata": {},
   "source": [
    "* Classes have some special methods in Python.\n",
    "* `__init__` is called on the instance right after instantiation (i.e. constructor)\n",
    "* `__repr__` is called by the built-in `repr()` to get a string representation, or by `str()` if there is no `__str__` method\n",
    "* `__call__` is called when the call syntax `()` is used on an instance of the class"
   ]
  },
  {
   "cell_type": "code",
   "execution_count": 1,
   "id": "76990be9-c8fe-4ed0-96cf-2c1a05393db8",
   "metadata": {},
   "outputs": [],
   "source": [
    "class Person: \n",
    "    \n",
    "    def __init__(self, first_name, last_name): # constructor\n",
    "        \n",
    "        self.first_name = first_name\n",
    "        self.last_name = last_name\n",
    "        \n",
    "    def __str__(self): # object representation\n",
    "        return f'Person: {self.first_name} {self.last_name}'\n",
    "    \n",
    "    def __repr__(self): # object representation\n",
    "        return f'Person({self.first_name}, {self.last_name})'\n",
    "    \n",
    "    def __call__(self):\n",
    "        #function to be called by default on object call\n",
    "        return self.talk()\n",
    "        #print(super())\n",
    "    \n",
    "    def talk(self): # method\n",
    "        return f'Hello. My name is {self.first_name} {self.last_name}. '"
   ]
  },
  {
   "cell_type": "code",
   "execution_count": 2,
   "id": "0407a0e8-a8ad-403b-a01b-e40b624a92b0",
   "metadata": {},
   "outputs": [
    {
     "name": "stdout",
     "output_type": "stream",
     "text": [
      "Person: Monty Python\n"
     ]
    },
    {
     "data": {
      "text/plain": [
       "(Person(Monty, Python), 'Person(Monty, Python)', 'Person: Monty Python')"
      ]
     },
     "execution_count": 2,
     "metadata": {},
     "output_type": "execute_result"
    }
   ],
   "source": [
    "me = Person('Monty', 'Python')\n",
    "\n",
    "print(me) # print uses __str__\n",
    "# return values use __repr__\n",
    "me, repr(me), str(me)"
   ]
  },
  {
   "cell_type": "code",
   "execution_count": 3,
   "id": "e208f991-39d8-479e-8f09-b8a618d87b8a",
   "metadata": {},
   "outputs": [
    {
     "data": {
      "text/plain": [
       "'Hello. My name is Monty Python. '"
      ]
     },
     "execution_count": 3,
     "metadata": {},
     "output_type": "execute_result"
    }
   ],
   "source": [
    "# Calling the instance\n",
    "me() "
   ]
  },
  {
   "cell_type": "markdown",
   "id": "6a267a65-76fd-4fbc-82ac-96a1c57275c5",
   "metadata": {},
   "source": [
    "## *2.2b Child class*"
   ]
  },
  {
   "cell_type": "code",
   "execution_count": 4,
   "id": "73bc5fce-bbf3-4c5a-a413-8af3b9fd9ac8",
   "metadata": {},
   "outputs": [],
   "source": [
    "class Student(Person): # Child class\n",
    "    \n",
    "    def __init__(self, first_name, last_name, mat_number, university):\n",
    "        \n",
    "        Person.__init__(self, first_name, last_name) # Parent constructor\n",
    "        self.mat_number = mat_number\n",
    "        self.university = university\n",
    "        self.modules = []\n",
    "        self.credits = 0 # ECTS\n",
    "        self.grades = [] # [3, 4, 1, 2, 2]\n",
    "        \n",
    "    def __repr__(self):\n",
    "        info = f'{self.first_name} {self.last_name}\\nStudent: {self.university} {self.mat_number}'\n",
    "        \n",
    "        if len(self.modules) > 0:      \n",
    "            classes = ', '.join(self.modules)\n",
    "            info += f'\\nCredits: {self.credits} ECTS in {classes} ' + \\\n",
    "                f'avg score: {sum(self.grades)/len(self.grades):0.1f}'\n",
    "        return  info\n",
    "        \n",
    "    def talk(self):\n",
    "        # parent's method call\n",
    "        return (\n",
    "            super().talk()\n",
    "            + f\"I'm studying at {self.university}. \"\n",
    "            + f\"My matriculation number is {self.mat_number}. \"\n",
    "        )\n",
    "    \n",
    "    def exam(self, module_name: str, credit: int, grade: float) -> None:\n",
    "        \"\"\"\n",
    "            Adds exam info and credits \n",
    "        \"\"\"\n",
    "        self.modules += [module_name]\n",
    "        self.credits += credit\n",
    "        self.grades += [grade]"
   ]
  },
  {
   "cell_type": "markdown",
   "id": "55061bf6-372c-430e-bfdb-dc4a8d84af5e",
   "metadata": {},
   "source": [
    "## *2.2c Student class usage*"
   ]
  },
  {
   "cell_type": "code",
   "execution_count": 5,
   "id": "144b79ea-6937-43f1-b16e-83f04f923da5",
   "metadata": {},
   "outputs": [
    {
     "data": {
      "text/plain": [
       "\"Hello. My name is Anna Mustermann. I'm studying at TU Berlin. My matriculation number is 4345325. \""
      ]
     },
     "execution_count": 5,
     "metadata": {},
     "output_type": "execute_result"
    }
   ],
   "source": [
    "#object creation\n",
    "anna = Student('Anna', 'Mustermann', 4345325, 'TU Berlin')\n",
    "\n",
    "# function talk is invoked\n",
    "anna.talk() # or just anna()"
   ]
  },
  {
   "cell_type": "code",
   "execution_count": 6,
   "id": "b158fb40-22d9-444f-bcf2-0bf6149f091c",
   "metadata": {},
   "outputs": [
    {
     "data": {
      "text/plain": [
       "Anna Mustermann\n",
       "Student: TU Berlin 4345325\n",
       "Credits: 18 ECTS in CS, BIO avg score: 2.2"
      ]
     },
     "execution_count": 6,
     "metadata": {},
     "output_type": "execute_result"
    }
   ],
   "source": [
    "anna.exam('CS', 6, 1.7)\n",
    "anna.exam('BIO', 12, 2.7)\n",
    "\n",
    "#print(anna)\n",
    "#print(repr(anna))\n",
    "anna"
   ]
  },
  {
   "cell_type": "markdown",
   "id": "30a6392a-74ab-42a2-a42b-4b90b750a95e",
   "metadata": {},
   "source": [
    "## *2.2d Multiple class inheritance*"
   ]
  },
  {
   "cell_type": "code",
   "execution_count": 7,
   "id": "e1d35d01-bb00-49f2-a603-17a5267a11a5",
   "metadata": {},
   "outputs": [],
   "source": [
    "class Employee:\n",
    "    \n",
    "    def __init__(self, company, position, salary):\n",
    "        \n",
    "        self.company = company\n",
    "        self.position = position\n",
    "        self.salary = salary\n",
    "        \n",
    "    def __repr__(self):\n",
    "        return f\"Employee: {self.company} as {self.position}\"\n",
    "    \n",
    "    def talk(self):\n",
    "        return (\n",
    "            super().talk()\n",
    "            + f\"I'm employed at {self.company} as {self.position}. \"\n",
    "        )"
   ]
  },
  {
   "cell_type": "code",
   "execution_count": 8,
   "id": "d6a91274-fac7-43db-a57f-132e0133fd30",
   "metadata": {},
   "outputs": [],
   "source": [
    "class HiWi(Student, Employee):\n",
    "\n",
    "    def __init__(self, first_name, last_name, mat_number, university, salary):\n",
    "        \n",
    "        Student.__init__(self, first_name, last_name, mat_number, university)\n",
    "        Employee.__init__(self, university, 'HiWi', salary)\n",
    "        \n",
    "    def __repr__(self):\n",
    "        \n",
    "        info = Student.__repr__(self) # Note: super() first inherited class is beeing called \n",
    "        info += f'\\nPosition: {self.position} with salary {self.salary}$'\n",
    "        return info + f'\\n{Employee.__repr__(self)}'"
   ]
  },
  {
   "cell_type": "code",
   "execution_count": 9,
   "id": "02a69b60-856e-4919-b9e8-c44bbf17f83c",
   "metadata": {},
   "outputs": [
    {
     "data": {
      "text/plain": [
       "Monty Python\n",
       "Student: TU Berlin 123456\n",
       "Credits: 9 ECTS in BIO, PyML avg score: 2.2\n",
       "Position: HiWi with salary 1000$\n",
       "Employee: TU Berlin as HiWi"
      ]
     },
     "execution_count": 9,
     "metadata": {},
     "output_type": "execute_result"
    }
   ],
   "source": [
    "me = HiWi('Monty','Python', 123456, 'TU Berlin', 1000)\n",
    "me.exam('BIO', 6, 2.7)\n",
    "me.exam('PyML', 3, 1.7)\n",
    "me"
   ]
  },
  {
   "cell_type": "markdown",
   "id": "47205ecb-54ab-4f54-9bc1-dd34eb5f8dd9",
   "metadata": {},
   "source": [
    "## *2.2e Method Resolution Order*"
   ]
  },
  {
   "cell_type": "code",
   "execution_count": 10,
   "id": "1b483de0-0ce2-4447-8957-b737deebe2a8",
   "metadata": {},
   "outputs": [],
   "source": [
    "# Classes with multiply inherited classes have a Method Resolution Order (MRO), which is a flat ordering of which parent class' methods/attributes will be accesses. \n",
    "# This can be investigated with the .mro() method"
   ]
  },
  {
   "cell_type": "code",
   "execution_count": 11,
   "id": "095485a0-e9da-4681-bf67-480552765b8e",
   "metadata": {},
   "outputs": [
    {
     "name": "stdout",
     "output_type": "stream",
     "text": [
      "ABC\n",
      "1\n",
      "[<class '__main__.D'>, <class '__main__.A'>, <class '__main__.B'>, <class '__main__.C'>, <class '__main__.Base'>, <class 'object'>]\n"
     ]
    }
   ],
   "source": [
    "class Base:\n",
    "    def __call__(self):\n",
    "        return ''\n",
    "\n",
    "class A(Base):\n",
    "    num = 1\n",
    "    def __call__(self):\n",
    "        return 'A' + super().__call__()\n",
    "\n",
    "class B(Base):\n",
    "    num = 2\n",
    "    def __call__(self):\n",
    "        return 'B' + super().__call__()\n",
    "\n",
    "class C(Base):\n",
    "    num = 3\n",
    "    def __call__(self):\n",
    "        return 'C' + super().__call__()\n",
    "\n",
    "\n",
    "class D(A, B, C):\n",
    "    pass\n",
    "\n",
    "print(D()()) #D() ist for instanzieren und zweites () um aufzurufen?\n",
    "print(D.num)\n",
    "print(D.mro())"
   ]
  },
  {
   "cell_type": "code",
   "execution_count": 12,
   "id": "f117a7bf-100e-4f85-a408-8591dac45b90",
   "metadata": {},
   "outputs": [
    {
     "name": "stdout",
     "output_type": "stream",
     "text": [
      "ABC\n",
      "BCA\n",
      "BAC\n"
     ]
    }
   ],
   "source": [
    "# The type built-in can also create new types on the fly\n",
    "\n",
    "print(type('E', (A, B, C), {})()())\n",
    "print(type('F', (B, C, A), {})()())\n",
    "print(type('G', (B, A, C), {})()())"
   ]
  },
  {
   "cell_type": "markdown",
   "id": "3109f402-f502-483e-9535-442067081b91",
   "metadata": {},
   "source": [
    "## *2.2f Staticmethod, Classmethod*"
   ]
  },
  {
   "cell_type": "code",
   "execution_count": 13,
   "id": "94baad47-cfbc-4601-a633-e99343a5d283",
   "metadata": {},
   "outputs": [
    {
     "name": "stdout",
     "output_type": "stream",
     "text": [
      "No arguments here!\n",
      "<class 'type'>\n",
      "<class '__main__.Wow'>\n",
      "<class 'type'>\n"
     ]
    }
   ],
   "source": [
    "# We can specify static methods and class-methods with special built-in decorators\n",
    "\n",
    "class Wow:\n",
    "    def instance_method(self):\n",
    "        return type(self)\n",
    "    \n",
    "    @classmethod\n",
    "    def class_method(cls):\n",
    "        return type(cls)\n",
    "    \n",
    "    @staticmethod\n",
    "    def static_method():\n",
    "        return 'No arguments here!'\n",
    "    \n",
    "print(Wow.static_method())\n",
    "print(Wow.class_method())\n",
    "print(Wow().instance_method())\n",
    "print(Wow().class_method())\n",
    "\n",
    "# Types have the type type in Python"
   ]
  },
  {
   "cell_type": "markdown",
   "id": "67502c1a-2788-4a51-8c9e-dfc3bc2243c1",
   "metadata": {},
   "source": [
    "## *2.2g Attributes and Descriptors*"
   ]
  },
  {
   "cell_type": "code",
   "execution_count": 14,
   "id": "5e032c5d-8f1a-4391-976e-7f2076688246",
   "metadata": {},
   "outputs": [
    {
     "name": "stdout",
     "output_type": "stream",
     "text": [
      "3\n"
     ]
    }
   ],
   "source": [
    "# All objects have attributes in Python, they may be accessed with the . syntax.\n",
    "\n",
    "class MyClass:\n",
    "    var = 3\n",
    "    def __init__(self):\n",
    "        self.num = 2\n",
    "    def func(self):\n",
    "        return self.num + self.var\n",
    "    \n",
    "print(MyClass.var)"
   ]
  },
  {
   "cell_type": "code",
   "execution_count": 15,
   "id": "2dc110f4-7a4e-4bce-b785-7c5fd826602d",
   "metadata": {},
   "outputs": [
    {
     "name": "stdout",
     "output_type": "stream",
     "text": [
      "4\n"
     ]
    }
   ],
   "source": [
    "MyClass.obj = 4\n",
    "print(MyClass.obj)\n",
    "del MyClass.obj"
   ]
  },
  {
   "cell_type": "code",
   "execution_count": 16,
   "id": "e5d04a5d-d586-4d27-93ba-4332164b909f",
   "metadata": {},
   "outputs": [
    {
     "name": "stdout",
     "output_type": "stream",
     "text": [
      "This is a default value!\n",
      "15\n"
     ]
    }
   ],
   "source": [
    "# We can also access, set or delete attributes with the setattr, getattr and delattr built-ins.\n",
    "\n",
    "print(getattr(MyClass, 'thing', 'This is a default value!'))\n",
    "setattr(MyClass, 'other', 15)\n",
    "print(MyClass.other)\n",
    "delattr(MyClass, 'other')"
   ]
  },
  {
   "cell_type": "code",
   "execution_count": 17,
   "id": "0a029c27-b22f-4971-9e35-348ba5d2c7b0",
   "metadata": {},
   "outputs": [
    {
     "name": "stdout",
     "output_type": "stream",
     "text": [
      "True\n",
      "['__class__', '__delattr__', '__dict__', '__dir__', '__doc__', '__eq__', '__format__', '__ge__', '__getattribute__', '__gt__', '__hash__', '__init__', '__init_subclass__', '__le__', '__lt__', '__module__', '__ne__', '__new__', '__reduce__', '__reduce_ex__', '__repr__', '__setattr__', '__sizeof__', '__str__', '__subclasshook__', '__weakref__', 'func', 'var']\n"
     ]
    }
   ],
   "source": [
    "# We can check wether an attribute exists using hasattr, and list all attributes using dir\n",
    "print(hasattr(MyClass, 'var'))\n",
    "print(dir(MyClass))"
   ]
  },
  {
   "cell_type": "markdown",
   "id": "6539a319-94fb-4d72-a301-3d1e93544c36",
   "metadata": {},
   "source": [
    "## *2.2h Special Methods: Operators*"
   ]
  },
  {
   "cell_type": "code",
   "execution_count": 18,
   "id": "13b5ee33-bb75-4d75-bb49-e8654fe7d008",
   "metadata": {},
   "outputs": [],
   "source": [
    "class Dough:\n",
    "\n",
    "    def __init__(self, weight=0.5, volume=0.5):\n",
    "        self.weight = weight\n",
    "        self.volume = volume\n",
    "        \n",
    "    def __repr__(self):\n",
    "        attributes = ', '.join(f'{key}={getattr(self, key)}' for key in dir(self) if key[0] != '_')\n",
    "        return f'{type(self).__name__}({attributes})'\n",
    "    \n",
    "    def __add__(self, other):\n",
    "        return type(self)(self.weight + other.weight, self.volume + other.volume)\n",
    "    \n",
    "    def __iadd__(self, other):\n",
    "        self.weight += other.weight\n",
    "        self.volume += other.volume\n",
    "        return self\n",
    "    \n",
    "    def __mul__(self, other):\n",
    "        return type(self)(self.weight * other)\n",
    "    \n",
    "    def __rmul__(self, other):\n",
    "        return self * other"
   ]
  },
  {
   "cell_type": "code",
   "execution_count": 19,
   "id": "acb1bc99-6530-4414-a01f-ba54a3fa34ed",
   "metadata": {},
   "outputs": [
    {
     "name": "stdout",
     "output_type": "stream",
     "text": [
      "Dough(volume=0.5, weight=0.5)\n",
      "Dough(volume=5.5, weight=5.5)\n"
     ]
    },
    {
     "data": {
      "text/plain": [
       "(Dough(volume=4, weight=3),\n",
       " Dough(volume=1.0, weight=1.5),\n",
       " Dough(volume=0.5, weight=1.5),\n",
       " Dough(volume=0.5, weight=1.5))"
      ]
     },
     "execution_count": 19,
     "metadata": {},
     "output_type": "execute_result"
    }
   ],
   "source": [
    "mydough = Dough()\n",
    "print(mydough)\n",
    "mydough += Dough(5, 5)\n",
    "print(mydough)\n",
    "\n",
    "Dough(3, 4), Dough(1) + Dough(), 3 * Dough(), Dough() * 3"
   ]
  },
  {
   "cell_type": "markdown",
   "id": "9fd58ca7-6cd0-4755-b3da-d6c72caa3b8c",
   "metadata": {},
   "source": [
    "## *2.2i Special Methods: Container*"
   ]
  },
  {
   "cell_type": "code",
   "execution_count": 20,
   "id": "235dd041-291b-43c6-a7f2-e4e5b23905bf",
   "metadata": {},
   "outputs": [],
   "source": [
    "class Bucket:\n",
    "    def __init__(self):\n",
    "        self.keys = []\n",
    "        self.values = []\n",
    "        \n",
    "    def __repr__(self):\n",
    "        attributes = ', '.join(f'{key}={getattr(self, key)}' for key in dir(self) if key[0] != '_')\n",
    "        return f'{type(self).__name__}({attributes})'\n",
    "    \n",
    "    def __getitem__(self, key):\n",
    "        return self.values[self.keys.index(key)]\n",
    "    \n",
    "    def __setitem__(self, key, value):\n",
    "        try:\n",
    "            index = self.keys.index(key)\n",
    "        except ValueError:\n",
    "            self.keys.append(key)\n",
    "            self.values.append(value)\n",
    "        else:\n",
    "            self.values[index] = value\n",
    "    \n",
    "    def __delitem__(self, key):\n",
    "        index = self.keys.index(key)\n",
    "        del self.keys[index]\n",
    "        del self.values[index]\n",
    "    \n",
    "    def __len__(self):\n",
    "        return sum(1 for _ in self.keys)\n",
    "    \n",
    "    def __contains__(self, key):\n",
    "        return key in self.keys\n",
    "    \n",
    "    def __iter__(self):\n",
    "        return iter(self.keys)"
   ]
  },
  {
   "cell_type": "code",
   "execution_count": 21,
   "id": "68e71d97-2c3d-4c84-b880-e05b06815140",
   "metadata": {},
   "outputs": [
    {
     "name": "stdout",
     "output_type": "stream",
     "text": [
      "aa\n",
      "4\n"
     ]
    },
    {
     "data": {
      "text/plain": [
       "Bucket(keys=['000', '001', '002', '004'], values=['', 'a', 'aa', 'aaaa'])"
      ]
     },
     "execution_count": 21,
     "metadata": {},
     "output_type": "execute_result"
    }
   ],
   "source": [
    "bucket = Bucket()\n",
    "for i in range(5):\n",
    "    bucket[f'{i:03d}'] = i * 'a'\n",
    "\n",
    "print(bucket['002'])\n",
    "del bucket['003']\n",
    "print(len(bucket))\n",
    "list(bucket)\n",
    "bucket"
   ]
  },
  {
   "cell_type": "markdown",
   "id": "8eea8949-4c1e-4e3a-b806-4707fc683bdd",
   "metadata": {},
   "source": [
    "## *2.2j Context Manager Types*"
   ]
  },
  {
   "cell_type": "code",
   "execution_count": 22,
   "id": "c2d457da-ad3c-4f2f-83f5-c808bb8a66d9",
   "metadata": {},
   "outputs": [],
   "source": [
    "class CommitBucket(Bucket):\n",
    "    def __init__(self, base):\n",
    "        super().__init__()\n",
    "        for key, val in base.items():\n",
    "            self[key] = val\n",
    "\n",
    "    def __enter__(self):\n",
    "        self._temp_bucket = Bucket()\n",
    "        return self._temp_bucket\n",
    "    \n",
    "    def __exit__(self, exc_type, exc_val, exc_tb):\n",
    "        for key in self._temp_bucket:\n",
    "            self[key] = self._temp_bucket[key]\n",
    "        del self._temp_bucket"
   ]
  },
  {
   "cell_type": "code",
   "execution_count": 23,
   "id": "839206f9-00a9-4216-8145-2b55a4921b27",
   "metadata": {},
   "outputs": [
    {
     "name": "stdout",
     "output_type": "stream",
     "text": [
      "CommitBucket(keys=['a', 'b'], values=[1, 2])\n",
      "Bucket(keys=['c'], values=[3])\n",
      "CommitBucket(keys=['a', 'b', 'c'], values=[1, 2, 3])\n"
     ]
    }
   ],
   "source": [
    "mybucket = CommitBucket({'a': 1, 'b':2})\n",
    "\n",
    "with mybucket as temp_bucket:\n",
    "    temp_bucket['c'] = 3\n",
    "    print(mybucket)\n",
    "    print(temp_bucket)\n",
    "print(mybucket)"
   ]
  },
  {
   "cell_type": "markdown",
   "id": "9bccf160-b2f6-407b-92ee-77a9ba44164a",
   "metadata": {},
   "source": [
    "## *2.2k Generators*"
   ]
  },
  {
   "cell_type": "code",
   "execution_count": 24,
   "id": "d88cd94e-a019-42b2-93b7-e9348ad530a8",
   "metadata": {},
   "outputs": [],
   "source": [
    "# Generators are special functions which execution you can stop and rerun.\n",
    "\n",
    "# Infinite counter as a generator\n",
    "def counter():\n",
    "    print('Conter initialized')\n",
    "    \n",
    "    n = 0\n",
    "    while True:\n",
    "        yield n # similar to return\n",
    "        n += 1"
   ]
  },
  {
   "cell_type": "code",
   "execution_count": 25,
   "id": "47ca9c25-be89-4a2c-b5ec-5dcd0d390438",
   "metadata": {},
   "outputs": [
    {
     "data": {
      "text/plain": [
       "<generator object counter at 0x0000022613FC2650>"
      ]
     },
     "execution_count": 25,
     "metadata": {},
     "output_type": "execute_result"
    }
   ],
   "source": [
    "# generator type is returned\n",
    "counter()"
   ]
  },
  {
   "cell_type": "code",
   "execution_count": 26,
   "id": "ec708e7b-a5be-4df2-8d06-a87e1543c07f",
   "metadata": {},
   "outputs": [
    {
     "name": "stdout",
     "output_type": "stream",
     "text": [
      "Conter initialized\n"
     ]
    },
    {
     "data": {
      "text/plain": [
       "0"
      ]
     },
     "execution_count": 26,
     "metadata": {},
     "output_type": "execute_result"
    }
   ],
   "source": [
    "# The next built-in takes one step of the generator and returns the current element\n",
    "\n",
    "cnt_gen = counter()\n",
    "next(cnt_gen)"
   ]
  },
  {
   "cell_type": "code",
   "execution_count": 27,
   "id": "f6daa860-daa0-4116-a8a8-7665140700d4",
   "metadata": {},
   "outputs": [
    {
     "data": {
      "text/plain": [
       "1"
      ]
     },
     "execution_count": 27,
     "metadata": {},
     "output_type": "execute_result"
    }
   ],
   "source": [
    "next(cnt_gen)"
   ]
  },
  {
   "cell_type": "code",
   "execution_count": 28,
   "id": "4dcdd7a0-aa39-4101-9346-3f036225dd0f",
   "metadata": {},
   "outputs": [
    {
     "name": "stdout",
     "output_type": "stream",
     "text": [
      "Conter initialized\n",
      "0\n",
      "1\n",
      "2\n",
      "3\n",
      "4\n"
     ]
    }
   ],
   "source": [
    "# Generator objects behave like iterators\n",
    "for i in counter():\n",
    "    if i < 5:\n",
    "        print(i)\n",
    "    else:\n",
    "        break"
   ]
  },
  {
   "cell_type": "markdown",
   "id": "5b65d0b5-c6b5-4880-9d3c-9c8373e7ea6f",
   "metadata": {},
   "source": [
    "## *2.2l Generators expressions*"
   ]
  },
  {
   "cell_type": "code",
   "execution_count": 29,
   "id": "3e631212-bbb9-4240-ac3e-99ec6bc9f1f4",
   "metadata": {},
   "outputs": [
    {
     "data": {
      "text/plain": [
       "<generator object <genexpr> at 0x0000022613FC2B90>"
      ]
     },
     "execution_count": 29,
     "metadata": {},
     "output_type": "execute_result"
    }
   ],
   "source": [
    "gen_obj = (x**2 for x in range(100_000) if x % 10 == 0)\n",
    "gen_obj"
   ]
  },
  {
   "cell_type": "code",
   "execution_count": 30,
   "id": "4aee0dee-c47a-42b2-aadc-77dcc6352667",
   "metadata": {},
   "outputs": [
    {
     "data": {
      "text/plain": [
       "(0, 100, 400)"
      ]
     },
     "execution_count": 30,
     "metadata": {},
     "output_type": "execute_result"
    }
   ],
   "source": [
    "next(gen_obj), next(gen_obj), next(gen_obj)"
   ]
  },
  {
   "cell_type": "code",
   "execution_count": 31,
   "id": "750ce0df-c419-490d-872f-d4fa7a9d3e7d",
   "metadata": {},
   "outputs": [],
   "source": [
    "gen_list = [x**2 for x in range(100_000) if x % 10 == 0]"
   ]
  },
  {
   "cell_type": "code",
   "execution_count": 32,
   "id": "1c49017d-e50c-4e18-8641-056684fb0fb3",
   "metadata": {},
   "outputs": [
    {
     "ename": "NameError",
     "evalue": "name 'sys' is not defined",
     "output_type": "error",
     "traceback": [
      "\u001b[1;31m---------------------------------------------------------------------------\u001b[0m",
      "\u001b[1;31mNameError\u001b[0m                                 Traceback (most recent call last)",
      "Cell \u001b[1;32mIn[32], line 1\u001b[0m\n\u001b[1;32m----> 1\u001b[0m \u001b[43msys\u001b[49m\u001b[38;5;241m.\u001b[39mgetsizeof(gen_obj), sys\u001b[38;5;241m.\u001b[39mgetsizeof(gen_list)\n",
      "\u001b[1;31mNameError\u001b[0m: name 'sys' is not defined"
     ]
    }
   ],
   "source": [
    "sys.getsizeof(gen_obj), sys.getsizeof(gen_list)"
   ]
  },
  {
   "cell_type": "markdown",
   "id": "bdd71928-794b-429d-ac98-7289cc5b0fe7",
   "metadata": {},
   "source": [
    "## *2.2m Decorators*"
   ]
  },
  {
   "cell_type": "code",
   "execution_count": 33,
   "id": "01db7d38-f7dc-4bbb-b7de-18e73335b981",
   "metadata": {},
   "outputs": [],
   "source": [
    "# Define a decorator which wrapps a custom function\n",
    "\n",
    "def benchmark(func):\n",
    "    \n",
    "    from time import time #import time to get current time\n",
    "    \n",
    "    def wrapper(*args, **kwargs):\n",
    "      \n",
    "        start = time() # start measuring time second passed since begin of UNIX time 1970 sthm\n",
    "        res = func(*args, **kwargs)\n",
    "        end = time() # end measuring time\n",
    "        \n",
    "        ms = (end - start) * 1000\n",
    "        print(f\"Elapsed time: {ms:0.6f} ms\")\n",
    "\n",
    "        return res\n",
    "    \n",
    "    return wrapper"
   ]
  },
  {
   "cell_type": "code",
   "execution_count": 34,
   "id": "037bbeaf-272a-4b74-a0b3-a31e10c171ee",
   "metadata": {},
   "outputs": [],
   "source": [
    "@benchmark\n",
    "def sum_up(n, step=1):\n",
    "    cnt = 0\n",
    "    for i in range(n):\n",
    "        if i % step == 0:\n",
    "            cnt += i\n",
    "    return cnt "
   ]
  },
  {
   "cell_type": "code",
   "execution_count": 35,
   "id": "0d10b0c7-ef1e-433e-8a45-9058ae6e7657",
   "metadata": {},
   "outputs": [
    {
     "name": "stdout",
     "output_type": "stream",
     "text": [
      "Elapsed time: 0.986814 ms\n",
      "9995000\n"
     ]
    }
   ],
   "source": [
    "#execture the fn\n",
    "res = sum_up(10_000, step = 5)\n",
    "print(res)"
   ]
  },
  {
   "cell_type": "markdown",
   "id": "ae1130dc-b261-4746-a167-01da7943fe6c",
   "metadata": {},
   "source": [
    "## *2.2n Caching*"
   ]
  },
  {
   "cell_type": "code",
   "execution_count": 36,
   "id": "e0932c18-5220-42a2-ae7c-ecf8399643d5",
   "metadata": {},
   "outputs": [
    {
     "data": {
      "text/plain": [
       "'\\nIf a function is being executed many times and \\n   -it takes a long time to return the results,\\n   - it produces the same results for the same inputs.\\n\\nThen then we might cache the results to improve the performance.\\n'"
      ]
     },
     "execution_count": 36,
     "metadata": {},
     "output_type": "execute_result"
    }
   ],
   "source": [
    "'''\n",
    "If a function is being executed many times and \n",
    "   -it takes a long time to return the results,\n",
    "   - it produces the same results for the same inputs.\n",
    "\n",
    "Then then we might cache the results to improve the performance.\n",
    "'''"
   ]
  },
  {
   "cell_type": "code",
   "execution_count": 37,
   "id": "3ffaadfb-a967-4e52-b6f6-408fc436327e",
   "metadata": {},
   "outputs": [],
   "source": [
    "from functools import lru_cache\n",
    "\n",
    "@lru_cache(10) # number of func returns to cache\n",
    "def sum_up(n, step=1):\n",
    "    cnt = 0\n",
    "    for i in range(n):\n",
    "        if i % step == 0:\n",
    "            cnt += i\n",
    "    return cnt "
   ]
  },
  {
   "cell_type": "code",
   "execution_count": 38,
   "id": "ddc89229-1b36-4bdf-b529-2739b320b50d",
   "metadata": {},
   "outputs": [],
   "source": [
    "@benchmark\n",
    "def run(*args, **kwargs):\n",
    "    res = sum_up(*args, **kwargs)\n",
    "    print(sum_up.cache_info())\n",
    "    return res"
   ]
  },
  {
   "cell_type": "markdown",
   "id": "29965fcb-b238-4b2a-9381-ce381c420eb4",
   "metadata": {},
   "source": [
    "## *2.2o Running the cached function*"
   ]
  },
  {
   "cell_type": "code",
   "execution_count": 39,
   "id": "0d299a17-6be6-4fd4-ad38-421935782d6f",
   "metadata": {},
   "outputs": [
    {
     "name": "stdout",
     "output_type": "stream",
     "text": [
      "CacheInfo(hits=0, misses=1, maxsize=10, currsize=1)\n",
      "Elapsed time: 3.002405 ms\n"
     ]
    },
    {
     "data": {
      "text/plain": [
       "2495000"
      ]
     },
     "execution_count": 39,
     "metadata": {},
     "output_type": "execute_result"
    }
   ],
   "source": [
    "run(10_000, step=20)"
   ]
  },
  {
   "cell_type": "code",
   "execution_count": 40,
   "id": "54ab48f3-5175-41cf-bb12-5746efd93590",
   "metadata": {},
   "outputs": [
    {
     "name": "stdout",
     "output_type": "stream",
     "text": [
      "CacheInfo(hits=0, misses=2, maxsize=10, currsize=2)\n",
      "Elapsed time: 0.994921 ms\n"
     ]
    },
    {
     "data": {
      "text/plain": [
       "1995000"
      ]
     },
     "execution_count": 40,
     "metadata": {},
     "output_type": "execute_result"
    }
   ],
   "source": [
    "run(10_000, step=25)"
   ]
  },
  {
   "cell_type": "markdown",
   "id": "f8372446-34aa-4b3a-bcd2-2c4d1efbc356",
   "metadata": {},
   "source": [
    "## *2.2p Combinatorics*"
   ]
  },
  {
   "cell_type": "code",
   "execution_count": 41,
   "id": "04564196-c295-4c85-a54d-b6d0d4871c8b",
   "metadata": {},
   "outputs": [
    {
     "data": {
      "text/plain": [
       "[2, 3]"
      ]
     },
     "execution_count": 41,
     "metadata": {},
     "output_type": "execute_result"
    }
   ],
   "source": [
    "# tertools is a built-in packages that provides a lot of useful functionality for iterators\n",
    "\n",
    "import itertools as it\n",
    "\n",
    "myset = {1, 2, 3, 4}\n",
    "\n",
    "list(it.islice(myset, 1, 3))"
   ]
  },
  {
   "cell_type": "code",
   "execution_count": 42,
   "id": "cf96567a-1a12-4266-ad99-818066b40b47",
   "metadata": {},
   "outputs": [
    {
     "data": {
      "text/plain": [
       "[(1, 0), (1, 2), (0, 2)]"
      ]
     },
     "execution_count": 42,
     "metadata": {},
     "output_type": "execute_result"
    }
   ],
   "source": [
    "# All unique combinations\n",
    "\n",
    "lst = [1, 0, 2]\n",
    "\n",
    "[i for i in it.combinations(lst, r=2)]"
   ]
  },
  {
   "cell_type": "code",
   "execution_count": 43,
   "id": "51489f09-f300-4a8f-986a-bbc080355d8b",
   "metadata": {},
   "outputs": [
    {
     "data": {
      "text/plain": [
       "[(1, 1, 1),\n",
       " (1, 1, 0),\n",
       " (1, 1, 2),\n",
       " (1, 0, 0),\n",
       " (1, 0, 2),\n",
       " (1, 2, 2),\n",
       " (0, 0, 0),\n",
       " (0, 0, 2),\n",
       " (0, 2, 2),\n",
       " (2, 2, 2)]"
      ]
     },
     "execution_count": 43,
     "metadata": {},
     "output_type": "execute_result"
    }
   ],
   "source": [
    "# All possible combinations \n",
    "[i for i in it.combinations_with_replacement(lst, r=3)]"
   ]
  },
  {
   "cell_type": "code",
   "execution_count": 44,
   "id": "db1deaac-ee8b-4104-8733-b27bbc79a185",
   "metadata": {},
   "outputs": [
    {
     "data": {
      "text/plain": [
       "[(1, 0, 2), (1, 2, 0), (0, 1, 2), (0, 2, 1), (2, 1, 0), (2, 0, 1)]"
      ]
     },
     "execution_count": 44,
     "metadata": {},
     "output_type": "execute_result"
    }
   ],
   "source": [
    "# All permutations\n",
    "[i for i in it.permutations(lst)]"
   ]
  },
  {
   "cell_type": "code",
   "execution_count": 45,
   "id": "98714497-cc64-4698-80ac-4c8e27e33bc2",
   "metadata": {},
   "outputs": [
    {
     "data": {
      "text/plain": [
       "[(1, 1), (1, 0), (1, 2), (0, 1), (0, 0), (0, 2), (2, 1), (2, 0), (2, 2)]"
      ]
     },
     "execution_count": 45,
     "metadata": {},
     "output_type": "execute_result"
    }
   ],
   "source": [
    "# Cartesian product A x B\n",
    "[i for i in it.product(lst, lst)]"
   ]
  },
  {
   "cell_type": "markdown",
   "id": "216e0292-4ee6-4547-95a1-95d107bbe1a8",
   "metadata": {},
   "source": [
    "## *2.2 Scikit-learn package*"
   ]
  },
  {
   "cell_type": "markdown",
   "id": "8623befd-dd19-4588-bf84-cf88c3f16f63",
   "metadata": {},
   "source": [
    "## *2.2q Standard Scaler*"
   ]
  },
  {
   "cell_type": "code",
   "execution_count": 46,
   "id": "db8cc423-1653-4e9d-9818-e4282cdcdd9a",
   "metadata": {},
   "outputs": [],
   "source": [
    "import numpy as np\n",
    "\n",
    "from sklearn.preprocessing import StandardScaler"
   ]
  },
  {
   "cell_type": "code",
   "execution_count": 47,
   "id": "f75fd1da-4695-440f-b03d-fc7daf1c556d",
   "metadata": {},
   "outputs": [
    {
     "name": "stdout",
     "output_type": "stream",
     "text": [
      "(10, 1)\n"
     ]
    }
   ],
   "source": [
    "x = np.array([0, 0, 0, 0, 1, 1, 1, 2, 2, 2])\n",
    "\n",
    "scaler = StandardScaler(with_mean=True, with_std=True)\n",
    "x = x.reshape(-1, 1) # x is not a col-vector\n",
    "print(x.shape)\n",
    "\n",
    "scaler.fit(x); # train"
   ]
  },
  {
   "cell_type": "code",
   "execution_count": 48,
   "id": "edf17b38-bad9-4158-8a6c-dbe8a38b7081",
   "metadata": {},
   "outputs": [
    {
     "name": "stdout",
     "output_type": "stream",
     "text": [
      "[0.9]\n",
      "[0.83066239]\n"
     ]
    }
   ],
   "source": [
    "# mu\n",
    "print(scaler.mean_)\n",
    "\n",
    "# sigma\n",
    "print(scaler.scale_)"
   ]
  },
  {
   "cell_type": "code",
   "execution_count": 49,
   "id": "1c188643-63e8-4c4c-9dbf-3fa9312afca5",
   "metadata": {},
   "outputs": [
    {
     "data": {
      "text/plain": [
       "(array([[-1.08347268],\n",
       "        [-1.08347268],\n",
       "        [-1.08347268],\n",
       "        [-1.08347268],\n",
       "        [ 0.12038585],\n",
       "        [ 0.12038585],\n",
       "        [ 0.12038585],\n",
       "        [ 1.32424438],\n",
       "        [ 1.32424438],\n",
       "        [ 1.32424438]]),\n",
       " 0.0,\n",
       " 1.0)"
      ]
     },
     "execution_count": 49,
     "metadata": {},
     "output_type": "execute_result"
    }
   ],
   "source": [
    "z = scaler.transform(x)\n",
    "z, z.mean(), z.std()"
   ]
  },
  {
   "cell_type": "markdown",
   "id": "94a88dfb-adf6-48e6-b622-87f0bbe653dd",
   "metadata": {},
   "source": [
    "## *2.2r Min Max Scaler*"
   ]
  },
  {
   "cell_type": "code",
   "execution_count": 50,
   "id": "5eba7987-2852-4cea-889f-97c4e3cd7ed1",
   "metadata": {},
   "outputs": [],
   "source": [
    "from sklearn.preprocessing import MinMaxScaler\n",
    "\n",
    "feature_range = (-10, 10)\n",
    "min_max_scaler = MinMaxScaler(feature_range, clip=False) # outside ranges are allowed\n",
    "#MinMaxScaler?"
   ]
  },
  {
   "cell_type": "code",
   "execution_count": 51,
   "id": "a3e51b48-7b40-4db2-bc9f-89b539352895",
   "metadata": {},
   "outputs": [
    {
     "name": "stdout",
     "output_type": "stream",
     "text": [
      "(10, 1)\n"
     ]
    }
   ],
   "source": [
    "x = np.array([0, 0, 0, 0, 1, 1, 1, 2, 2, 2])[:, None] # added an axis to be a col-vector\n",
    "print(x.shape)\n",
    "\n",
    "min_max_scaler.fit(x); # return self__repr__()"
   ]
  },
  {
   "cell_type": "code",
   "execution_count": 52,
   "id": "4a7adf05-2cbc-4a64-9af4-a00f98c789f0",
   "metadata": {},
   "outputs": [
    {
     "data": {
      "text/plain": [
       "array([-110.,  -10.,  -10.,  -10.,    0.,    0.,    0.,   10.,   10.,\n",
       "         10.])"
      ]
     },
     "execution_count": 52,
     "metadata": {},
     "output_type": "execute_result"
    }
   ],
   "source": [
    "x = np.array([-10, 0, 0, 0, 1, 1, 1, 2, 2, 2])[:, None]\n",
    "\n",
    "min_max_scaler.transform(x).squeeze()"
   ]
  },
  {
   "cell_type": "code",
   "execution_count": null,
   "id": "122abdab-741a-4b20-b5be-dcdb3d456922",
   "metadata": {},
   "outputs": [],
   "source": []
  },
  {
   "cell_type": "code",
   "execution_count": null,
   "id": "35607526-d6c7-4f90-92f8-48cd8c081d29",
   "metadata": {},
   "outputs": [],
   "source": []
  },
  {
   "cell_type": "code",
   "execution_count": null,
   "id": "3904e366-8b0b-446a-a272-5221c1a30b21",
   "metadata": {},
   "outputs": [],
   "source": []
  }
 ],
 "metadata": {
  "kernelspec": {
   "display_name": "Python 3 (ipykernel)",
   "language": "python",
   "name": "python3"
  },
  "language_info": {
   "codemirror_mode": {
    "name": "ipython",
    "version": 3
   },
   "file_extension": ".py",
   "mimetype": "text/x-python",
   "name": "python",
   "nbconvert_exporter": "python",
   "pygments_lexer": "ipython3",
   "version": "3.10.9"
  }
 },
 "nbformat": 4,
 "nbformat_minor": 5
}
