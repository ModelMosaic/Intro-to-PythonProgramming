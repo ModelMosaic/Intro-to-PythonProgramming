{
 "cells": [
  {
   "cell_type": "markdown",
   "id": "b6cf282b-095b-4ee6-97fe-784476a80fa4",
   "metadata": {},
   "source": [
    "# 1.2_Python More Advanced Basics"
   ]
  },
  {
   "cell_type": "markdown",
   "id": "3aa61cd3-8ec1-431d-b3bb-863b53fe14b8",
   "metadata": {},
   "source": [
    "## *1.2.a Lambda Expressions*"
   ]
  },
  {
   "cell_type": "code",
   "execution_count": 1,
   "id": "9f81b646-1b00-4218-8592-97657396d8d7",
   "metadata": {},
   "outputs": [
    {
     "data": {
      "text/plain": [
       "5.0"
      ]
     },
     "execution_count": 1,
     "metadata": {},
     "output_type": "execute_result"
    }
   ],
   "source": [
    "# lambda can be used to define functions inline\n",
    "(lambda x, y, coeff=1: coeff*(x ** 2 + y ** 2) ** 0.5) (3, 4)"
   ]
  },
  {
   "cell_type": "code",
   "execution_count": 2,
   "id": "1c3fc88a-59cd-4704-a256-7670a64ffd05",
   "metadata": {},
   "outputs": [
    {
     "name": "stdout",
     "output_type": "stream",
     "text": [
      "Full list: [5.0, (2, 3), 0.7071067811865476, 'some text', [1, 2, 3], 6, {2, 5}]\n"
     ]
    }
   ],
   "source": [
    "a = [1, 2, 3]\n",
    "f = lambda x: sum(x)\n",
    "lst = [5., (2, 3), 2**-0.5, 'some text', a, f(a), {2, 5} ]\n",
    "print(f'Full list: {lst}')"
   ]
  },
  {
   "cell_type": "markdown",
   "id": "98a4de62-7b04-4e48-86f6-0a25a3565d1a",
   "metadata": {},
   "source": [
    "## *1.2.b In-function lambda usage*"
   ]
  },
  {
   "cell_type": "code",
   "execution_count": 3,
   "id": "227b620f-3cc8-4d2b-a146-a3ea79b01132",
   "metadata": {},
   "outputs": [
    {
     "data": {
      "text/plain": [
       "81"
      ]
     },
     "execution_count": 3,
     "metadata": {},
     "output_type": "execute_result"
    }
   ],
   "source": [
    "# pass functions to other\n",
    "def square_fn(x):\n",
    "    return x**2\n",
    "\n",
    "def do_twice(func, x):\n",
    "    return func(func(x))\n",
    "\n",
    "do_twice(square_fn, 3)\n",
    "#9**2"
   ]
  },
  {
   "cell_type": "code",
   "execution_count": 4,
   "id": "e9d8e17d-ba13-4ae9-9088-d318ed5aa60b",
   "metadata": {},
   "outputs": [
    {
     "data": {
      "text/plain": [
       "(map, <map at 0x26e92752800>, [1, 4, 9, 16, 25, 36])"
      ]
     },
     "execution_count": 4,
     "metadata": {},
     "output_type": "execute_result"
    }
   ],
   "source": [
    "# map creates a new sequence by applying a function to each element of a sequence\n",
    "# use list to iterate the sequence and create a list of the elements\n",
    "\n",
    "numbers = [1, 2, 3, 4, 5, 6]\n",
    "\n",
    "squares = map(square_fn, numbers)\n",
    "type(squares), squares, list(squares)"
   ]
  },
  {
   "cell_type": "code",
   "execution_count": 5,
   "id": "d88a1b0b-1eae-4f76-8868-b2506f9aeebc",
   "metadata": {},
   "outputs": [
    {
     "data": {
      "text/plain": [
       "[1, 4, 9, 16, 25, 36]"
      ]
     },
     "execution_count": 5,
     "metadata": {},
     "output_type": "execute_result"
    }
   ],
   "source": [
    "list(map(square_fn, numbers))"
   ]
  },
  {
   "cell_type": "code",
   "execution_count": 6,
   "id": "e60f8e5e-a51e-4fe9-82e5-2e535b1c6f02",
   "metadata": {},
   "outputs": [
    {
     "name": "stdout",
     "output_type": "stream",
     "text": [
      "[1, 4, 9, 16, 25, 36]\n",
      "<class 'filter'> <filter object at 0x0000026E92753D30> [2, 4, 6]\n"
     ]
    }
   ],
   "source": [
    "# Naturally, we can use a lambda expression to specify a function in-line\n",
    "squares = map(lambda x: x**2, numbers)\n",
    "print(list(squares))\n",
    "\n",
    "# filter evaluates a function on each element and will add it to the new sequence only if the function evaluates to True\n",
    "result = filter(lambda x: x % 2 == 0, numbers)  # only even numbers are allowed\n",
    "print(type(result), result, list(result))"
   ]
  },
  {
   "cell_type": "markdown",
   "id": "8ed4f758-4989-4c12-82b2-89d84145df7a",
   "metadata": {},
   "source": [
    "## *1.2.c Dictionaries (HashMaps/Key value stores)*"
   ]
  },
  {
   "cell_type": "code",
   "execution_count": 7,
   "id": "c616e546-cfc4-4b65-bab7-6aab8634a832",
   "metadata": {},
   "outputs": [
    {
     "name": "stdout",
     "output_type": "stream",
     "text": [
      "<class 'dict'> {'color': 'green', 'taste': 'sweet', 'size 3d': [1, 3, 2]}\n",
      "<class 'dict'> {'color': 'green', 'taste': 'sweet', 'size3d': [1, 2, 3]}\n"
     ]
    }
   ],
   "source": [
    "# dicts can be instatiated using {} or the dict() function\n",
    "fruit = {\n",
    "    'color': 'green',\n",
    "    'taste': 'sweet',\n",
    "    'size 3d': [1, 3, 2]\n",
    "}\n",
    "\n",
    "fruit2 = dict(color='green', taste='sweet', size3d=[1, 2, 3]) #that is another notation to write the dictonary\n",
    "\n",
    "print(type(fruit), fruit)\n",
    "print(type(fruit2), fruit2)"
   ]
  },
  {
   "cell_type": "code",
   "execution_count": 8,
   "id": "cb00e3ab-6466-43d2-a0c5-12bde5036550",
   "metadata": {},
   "outputs": [
    {
     "data": {
      "text/plain": [
       "{'color': 'green', 'taste': 'sweet', 'size3d': [1, 2, 3]}"
      ]
     },
     "execution_count": 8,
     "metadata": {},
     "output_type": "execute_result"
    }
   ],
   "source": [
    "fruit2"
   ]
  },
  {
   "cell_type": "code",
   "execution_count": 9,
   "id": "d7e033af-5bee-4ec2-9507-507da7ae208c",
   "metadata": {},
   "outputs": [
    {
     "name": "stdout",
     "output_type": "stream",
     "text": [
      "green\n"
     ]
    },
    {
     "data": {
      "text/plain": [
       "1"
      ]
     },
     "execution_count": 9,
     "metadata": {},
     "output_type": "execute_result"
    }
   ],
   "source": [
    "# dict support indexing notation to assign/ look-up values given a key\n",
    "fruit['size 3d'] = [2, 3, 1]\n",
    "print(fruit['color'])\n",
    "\n",
    "# we can use the .get method to return a default value in case the key is not found\n",
    "fruit.get('price', 23)\n",
    "\n",
    "# we can use setdefault to also set a default value in case the key is not found\n",
    "fruit.setdefault('price', 1) # default value is returned"
   ]
  },
  {
   "cell_type": "code",
   "execution_count": 10,
   "id": "79757049-7880-4852-82f4-efd0f6af9c41",
   "metadata": {},
   "outputs": [
    {
     "data": {
      "text/plain": [
       "{('cool', 'tuple'): 'huh'}"
      ]
     },
     "execution_count": 10,
     "metadata": {},
     "output_type": "execute_result"
    }
   ],
   "source": [
    "# you can use variables to specify keys\n",
    "my_key = ('cool', 'tuple')\n",
    "{my_key: 'huh'}"
   ]
  },
  {
   "cell_type": "code",
   "execution_count": 11,
   "id": "0f794e45-9332-47e9-97c6-6e8f3542c1c1",
   "metadata": {},
   "outputs": [
    {
     "data": {
      "text/plain": [
       "{(1, 2): 3}"
      ]
     },
     "execution_count": 11,
     "metadata": {},
     "output_type": "execute_result"
    }
   ],
   "source": [
    "# iterating dicts will return the keys\n",
    "list(fruit)\n",
    "\n",
    "# only immutable (hashable) types may be used as keys\n",
    "{(1, 2): 3}"
   ]
  },
  {
   "cell_type": "markdown",
   "id": "d465e575-4d08-4241-b144-6fb838705505",
   "metadata": {},
   "source": [
    "## *1.2.d Combining Dicts*"
   ]
  },
  {
   "cell_type": "code",
   "execution_count": 12,
   "id": "d8dab98e-086f-4d9d-b18b-4406b07400a7",
   "metadata": {},
   "outputs": [
    {
     "data": {
      "text/plain": [
       "{'color': 'green', 'taste': 'sweet', 'size 3d': [2, 3, 1], 'price': 1}"
      ]
     },
     "execution_count": 12,
     "metadata": {},
     "output_type": "execute_result"
    }
   ],
   "source": [
    "fruit"
   ]
  },
  {
   "cell_type": "code",
   "execution_count": 13,
   "id": "5e69e4fe-0185-4a22-a8fe-2c425083583e",
   "metadata": {},
   "outputs": [],
   "source": [
    "# copy a dict\n",
    "cool_fruit = dict(fruit)"
   ]
  },
  {
   "cell_type": "code",
   "execution_count": 14,
   "id": "dfdb1e4f-7560-49db-aa0c-c782e0fc7317",
   "metadata": {},
   "outputs": [
    {
     "data": {
      "text/plain": [
       "{'color': 'green', 'taste': 'sweet', 'size 3d': [2, 3, 1], 'price': 1}"
      ]
     },
     "execution_count": 14,
     "metadata": {},
     "output_type": "execute_result"
    }
   ],
   "source": [
    "cool_fruit"
   ]
  },
  {
   "cell_type": "code",
   "execution_count": 15,
   "id": "fe8033a8-df44-41dd-b63c-f5f7de1a8917",
   "metadata": {},
   "outputs": [
    {
     "data": {
      "text/plain": [
       "'cool'"
      ]
     },
     "execution_count": 15,
     "metadata": {},
     "output_type": "execute_result"
    }
   ],
   "source": [
    "# some new dict for combining\n",
    "properties = {\n",
    "    'price' : 4,\n",
    "    'best before': 7,\n",
    "    True : 'sour',\n",
    "    1: 'two',\n",
    "    ('wow', 420): 'cool',\n",
    "}\n",
    "\n",
    "properties[('wow', 420)]"
   ]
  },
  {
   "cell_type": "code",
   "execution_count": 16,
   "id": "1dc7d38e-e11b-4868-969a-d75008954cc6",
   "metadata": {},
   "outputs": [
    {
     "data": {
      "text/plain": [
       "{'color': 'green',\n",
       " 'taste': 'sweet',\n",
       " 'size 3d': [2, 3, 1],\n",
       " 'price': 4,\n",
       " 'best before': 7,\n",
       " True: 'two',\n",
       " ('wow', 420): 'cool'}"
      ]
     },
     "execution_count": 16,
     "metadata": {},
     "output_type": "execute_result"
    }
   ],
   "source": [
    "cool_fruit.update(properties)  # cool_fruit is changed in-place\n",
    "cool_fruit"
   ]
  },
  {
   "cell_type": "markdown",
   "id": "0bda9cad-adb8-4a2d-9d9a-b989f1feee31",
   "metadata": {},
   "source": [
    "## *1.2.e Dictionary Unpacking*"
   ]
  },
  {
   "cell_type": "code",
   "execution_count": 17,
   "id": "bc6e5e78-5cc9-4ca2-8a2d-7c937738897d",
   "metadata": {},
   "outputs": [
    {
     "name": "stdout",
     "output_type": "stream",
     "text": [
      "{'color': 'green', 'taste': 'sweet', 'size 3d': [2, 3, 1], 'price': 3}\n",
      "{'color': 'green', 'taste': 'sweet', 'size 3d': [2, 3, 1], 'price': 4, 'best before': 7, True: 'two', ('wow', 420): 'cool'}\n"
     ]
    }
   ],
   "source": [
    "# similar to sequence unpacking with *, we can use dictionary unpacking using the ** operator\n",
    "print({**fruit, 'price': 3})\n",
    "print({**fruit, **properties})"
   ]
  },
  {
   "cell_type": "code",
   "execution_count": 18,
   "id": "95678d0a-47f7-453c-9529-9f1f3c5a08f9",
   "metadata": {},
   "outputs": [
    {
     "name": "stdout",
     "output_type": "stream",
     "text": [
      "2 3\n",
      "[2, 3]\n"
     ]
    }
   ],
   "source": [
    "nums = [2,3]\n",
    "print(*nums)\n",
    "print(nums)"
   ]
  },
  {
   "cell_type": "markdown",
   "id": "ea944be4-f437-4ac5-a825-072a8613d995",
   "metadata": {},
   "source": [
    "## *1.2.f Sets - unordered, unique elements*"
   ]
  },
  {
   "cell_type": "markdown",
   "id": "32de1561-9b89-4c4b-8a28-18482db64947",
   "metadata": {},
   "source": [
    "- sets may be instantiated with the literal {} notation, or the set() type\n",
    "- Note that {} (empty braces) will evaluate to an emtpy dict"
   ]
  },
  {
   "cell_type": "code",
   "execution_count": 19,
   "id": "7c05cd9c-2591-45b1-a3d7-1a5bb71cf125",
   "metadata": {},
   "outputs": [
    {
     "data": {
      "text/plain": [
       "({1, 2, 'apples'}, set())"
      ]
     },
     "execution_count": 19,
     "metadata": {},
     "output_type": "execute_result"
    }
   ],
   "source": [
    "{1, 2, 'apples'}, set()"
   ]
  },
  {
   "cell_type": "code",
   "execution_count": 20,
   "id": "7b054563-52fa-453c-a596-a2a1fd9d105f",
   "metadata": {},
   "outputs": [
    {
     "name": "stdout",
     "output_type": "stream",
     "text": [
      "{1, 3, 4}\n"
     ]
    }
   ],
   "source": [
    "#test\n",
    "a = set([3,4])\n",
    "a.add(1)\n",
    "print(a)\n",
    "\n",
    "d = {}\n",
    "s = set()"
   ]
  },
  {
   "cell_type": "code",
   "execution_count": 21,
   "id": "d069c611-9262-4a10-a6f8-586c675f6a6d",
   "metadata": {},
   "outputs": [
    {
     "ename": "TypeError",
     "evalue": "'set' object is not subscriptable",
     "output_type": "error",
     "traceback": [
      "\u001b[1;31m---------------------------------------------------------------------------\u001b[0m",
      "\u001b[1;31mTypeError\u001b[0m                                 Traceback (most recent call last)",
      "Cell \u001b[1;32mIn[21], line 3\u001b[0m\n\u001b[0;32m      1\u001b[0m \u001b[38;5;66;03m# as sets are unordered (i.e. not a sequence), they do not support indexing\u001b[39;00m\n\u001b[0;32m      2\u001b[0m my_set \u001b[38;5;241m=\u001b[39m {\u001b[38;5;124m'\u001b[39m\u001b[38;5;124mcool\u001b[39m\u001b[38;5;124m'\u001b[39m, \u001b[38;5;124m'\u001b[39m\u001b[38;5;124malright\u001b[39m\u001b[38;5;124m'\u001b[39m}\n\u001b[1;32m----> 3\u001b[0m \u001b[43mmy_set\u001b[49m\u001b[43m[\u001b[49m\u001b[38;5;241;43m0\u001b[39;49m\u001b[43m]\u001b[49m\n",
      "\u001b[1;31mTypeError\u001b[0m: 'set' object is not subscriptable"
     ]
    }
   ],
   "source": [
    "# as sets are unordered (i.e. not a sequence), they do not support indexing\n",
    "my_set = {'cool', 'alright'}\n",
    "my_set[0]"
   ]
  },
  {
   "cell_type": "code",
   "execution_count": 22,
   "id": "a8f5af7e-27a0-4ecf-b6b3-5b0e66081825",
   "metadata": {},
   "outputs": [
    {
     "name": "stdout",
     "output_type": "stream",
     "text": [
      "{'good', 'cool', 'alright'}\n",
      "{'alright', 'good', 'awesome', 'cool'}\n"
     ]
    }
   ],
   "source": [
    "# add elements using .add, or use an in-place union using .update (adding elements that already exist has no effect)\n",
    "my_set = {'cool', 'alright'}\n",
    "my_set.add('good')\n",
    "print(my_set)\n",
    "my_set.update({'cool', 'awesome'})\n",
    "print(my_set)"
   ]
  },
  {
   "cell_type": "code",
   "execution_count": 23,
   "id": "ee31dabb-54c8-4ae1-9949-a075f64f14c3",
   "metadata": {},
   "outputs": [
    {
     "ename": "TypeError",
     "evalue": "unhashable type: 'set'",
     "output_type": "error",
     "traceback": [
      "\u001b[1;31m---------------------------------------------------------------------------\u001b[0m",
      "\u001b[1;31mTypeError\u001b[0m                                 Traceback (most recent call last)",
      "Cell \u001b[1;32mIn[23], line 2\u001b[0m\n\u001b[0;32m      1\u001b[0m \u001b[38;5;66;03m# sets are mutable like lists (since you can add elements in-line), thus they are unhashable and cannot be used as keys\u001b[39;00m\n\u001b[1;32m----> 2\u001b[0m {{\u001b[38;5;241m1\u001b[39m,\u001b[38;5;241m2\u001b[39m,\u001b[38;5;241m3\u001b[39m}: \u001b[38;5;124m'\u001b[39m\u001b[38;5;124mnumbers\u001b[39m\u001b[38;5;124m'\u001b[39m}\n",
      "\u001b[1;31mTypeError\u001b[0m: unhashable type: 'set'"
     ]
    }
   ],
   "source": [
    "# sets are mutable like lists (since you can add elements in-line), thus they are unhashable and cannot be used as keys\n",
    "{{1,2,3}: 'numbers'}"
   ]
  },
  {
   "cell_type": "code",
   "execution_count": 24,
   "id": "c477dc1b-ca69-47c1-a9fe-b1dd5822c970",
   "metadata": {},
   "outputs": [
    {
     "name": "stdout",
     "output_type": "stream",
     "text": [
      "{1, 3, 4}\n",
      "[1, 4, 5]\n"
     ]
    }
   ],
   "source": [
    "# the set constructor attempts to iterate its input to generate a new set, they may be iterated themselves e.g. to create a sequence\n",
    "print(set([3, 3, 1, 4]))\n",
    "print(list({5, 4, 1}))"
   ]
  },
  {
   "cell_type": "markdown",
   "id": "8164955e-76fe-4728-86af-7c23a21a72fc",
   "metadata": {},
   "source": [
    "## *1.2.g Conditional expressions*"
   ]
  },
  {
   "cell_type": "code",
   "execution_count": 25,
   "id": "201d85c7-3c6b-4852-bb82-3d611a392eac",
   "metadata": {},
   "outputs": [],
   "source": [
    "def classify(x: dict) -> str:\n",
    "    if x['color'] == 'green':   \n",
    "        if x['size'] == 'big':\n",
    "            decision = 'watermelon'\n",
    "        elif x['size'] == 'medium':\n",
    "            decision = 'apple'                \n",
    "        else:\n",
    "            decision = 'other'           \n",
    "    else:\n",
    "        decision = 'other'\n",
    "    \n",
    "    return decision"
   ]
  },
  {
   "cell_type": "code",
   "execution_count": 26,
   "id": "b976286f-9e81-4751-b76c-0cad146ed0f0",
   "metadata": {},
   "outputs": [
    {
     "data": {
      "text/plain": [
       "('watermelon', 'apple', 'other')"
      ]
     },
     "execution_count": 26,
     "metadata": {},
     "output_type": "execute_result"
    }
   ],
   "source": [
    "# Use dict type to represent fruits arbitrary properties\n",
    "fruit_1 = {'color': 'green', 'size': 'big'}\n",
    "fruit_2 = {'color': 'green', 'size': 'medium'}\n",
    "fruit_3 = {'color': 'red', 'size': 'small'}\n",
    "\n",
    "classify(fruit_1), classify(fruit_2), classify(fruit_3)"
   ]
  },
  {
   "cell_type": "markdown",
   "id": "280e0086-ce1f-4f5b-8989-81554a65b6f5",
   "metadata": {},
   "source": [
    "## *1.2.h Ternary condition operator*"
   ]
  },
  {
   "cell_type": "markdown",
   "id": "fd7a3232-d134-43d8-8f3d-666208952223",
   "metadata": {},
   "source": [
    "- the in-line ternary operator true_value if condition else false_value can be used inside expressions for some syntactic sugar, or when we are only allowed to specify a single expression"
   ]
  },
  {
   "cell_type": "code",
   "execution_count": 27,
   "id": "cd8b8ea9-6463-4bdd-a661-d7fe9ed335ce",
   "metadata": {},
   "outputs": [
    {
     "data": {
      "text/plain": [
       "('different', 'same')"
      ]
     },
     "execution_count": 27,
     "metadata": {},
     "output_type": "execute_result"
    }
   ],
   "source": [
    "def compare(x: dict, y: dict) -> str: \n",
    "    \"\"\" \n",
    "        Compares two fruits either they are the same \n",
    "        \n",
    "        Args:\n",
    "            x (dict) : first fruit\n",
    "            y (dict) : second fruit\n",
    "            \n",
    "        Returns:\n",
    "            string : either 'same' or 'different'  \n",
    "    \"\"\"\n",
    "    \n",
    "    return \"same\" if x == y else \"different\" # short if-else form \n",
    "\n",
    "compare(fruit_1, fruit_2), compare(fruit_1, fruit_1)"
   ]
  },
  {
   "cell_type": "markdown",
   "id": "148afbef-24d2-42a2-bd5b-fe92a3630ca2",
   "metadata": {},
   "source": [
    "## *1.2.i Range Type*"
   ]
  },
  {
   "cell_type": "markdown",
   "id": "80ffa76c-5dbb-4d96-84c9-2a102b54fe6b",
   "metadata": {},
   "source": [
    "- the range type represents a range of integers, use the range(start, stop, step) built-in to instantiate ranges"
   ]
  },
  {
   "cell_type": "code",
   "execution_count": 28,
   "id": "7cd53be7-8767-42a5-bb79-4f5fe483c578",
   "metadata": {},
   "outputs": [
    {
     "name": "stdout",
     "output_type": "stream",
     "text": [
      "range(0, 5)\n",
      "range(0, 5)\n",
      "range(0, 5)\n"
     ]
    }
   ],
   "source": [
    "# aöö with same output\n",
    "print(range(5))\n",
    "print(range(0, 5))\n",
    "print(range(0, 5, 1))"
   ]
  },
  {
   "cell_type": "code",
   "execution_count": 29,
   "id": "e0abb1bb-fd86-4941-b1b5-034aa0e5856d",
   "metadata": {},
   "outputs": [
    {
     "name": "stdout",
     "output_type": "stream",
     "text": [
      "0\n",
      "1\n",
      "2\n",
      "3\n",
      "4\n"
     ]
    }
   ],
   "source": [
    "for i in range(5):\n",
    "    print(i)    "
   ]
  },
  {
   "cell_type": "code",
   "execution_count": 30,
   "id": "76215fa5-5deb-485d-a5d0-15eadb290dff",
   "metadata": {},
   "outputs": [
    {
     "name": "stdout",
     "output_type": "stream",
     "text": [
      "{range(0, 5): 'cool'}\n",
      "5\n",
      "range(16, 0, -2)\n"
     ]
    }
   ],
   "source": [
    "# ranges are immutable, like tuples, support indexing and slicing, but do not support item assignment\n",
    "print({range(5): 'cool'})\n",
    "print(range(2, 20, 3)[1])\n",
    "print(range(20, 1, -2)[2:])"
   ]
  },
  {
   "cell_type": "code",
   "execution_count": 31,
   "id": "c8a9cf76-72f3-4be3-a58a-a7f42ff895fc",
   "metadata": {},
   "outputs": [
    {
     "name": "stdout",
     "output_type": "stream",
     "text": [
      "[0, 3, 6, 9]\n",
      "[]\n"
     ]
    }
   ],
   "source": [
    "# you can use a sequential container type, like list, to iterate ranges to create a list of the range members\n",
    "print(list(range(0, 10, 3)))\n",
    "print(list(range(3, 1)))"
   ]
  },
  {
   "cell_type": "code",
   "execution_count": 32,
   "id": "625c4cfa-a34b-44d4-9cef-d5b396d491a5",
   "metadata": {},
   "outputs": [
    {
     "name": "stdout",
     "output_type": "stream",
     "text": [
      "5\n",
      "[6, 4, 2]\n"
     ]
    }
   ],
   "source": [
    "print(range(2, 20, 3)[1])\n",
    "print(list(range(10, 1, -2)[2:]))"
   ]
  },
  {
   "cell_type": "markdown",
   "id": "9a36bdd5-e536-4f42-80be-ccdc74947485",
   "metadata": {},
   "source": [
    "## *1.2.j Iterators*"
   ]
  },
  {
   "cell_type": "code",
   "execution_count": 33,
   "id": "a7ea381c-8034-451f-9496-56dcea5fedf2",
   "metadata": {},
   "outputs": [
    {
     "name": "stdout",
     "output_type": "stream",
     "text": [
      "1\n",
      "2\n",
      "3\n"
     ]
    }
   ],
   "source": [
    "'''\n",
    "iterable types can be iterated, the manual way is to use iter, which creates an iterator that tracks \n",
    "the state of the iteration, and next to get the next element in sequence, when the sequence is over, \n",
    "a StopIteration will be raised\n",
    "'''\n",
    "\n",
    "for i in iter([1,2,3]):\n",
    "    print(i)"
   ]
  },
  {
   "cell_type": "code",
   "execution_count": 34,
   "id": "90723e90-550c-4dc8-b092-94157d59582c",
   "metadata": {},
   "outputs": [
    {
     "name": "stdout",
     "output_type": "stream",
     "text": [
      "1\n",
      "2\n"
     ]
    }
   ],
   "source": [
    "my_iter = iter([1, 2, 3])\n",
    "print(next(my_iter))\n",
    "print(next(my_iter))"
   ]
  },
  {
   "cell_type": "code",
   "execution_count": 35,
   "id": "80eed5e3-8eab-466f-8a47-891128b47747",
   "metadata": {},
   "outputs": [
    {
     "name": "stdout",
     "output_type": "stream",
     "text": [
      "2\n",
      "6\n",
      "10\n"
     ]
    }
   ],
   "source": [
    "# an easier way to iterate iterable types is to use the for loop\n",
    "for i in range(2, 13, 4):\n",
    "    print(i)"
   ]
  },
  {
   "cell_type": "markdown",
   "id": "abe161c7-008f-4067-b654-c568a948af5c",
   "metadata": {},
   "source": [
    "## *1.2.k Enumerator*"
   ]
  },
  {
   "cell_type": "code",
   "execution_count": 36,
   "id": "8ccc5814-484b-4d6d-965e-a12ed1d6e514",
   "metadata": {},
   "outputs": [
    {
     "name": "stdout",
     "output_type": "stream",
     "text": [
      "0 -> yes\n",
      "1 -> no\n",
      "2 -> maybe\n"
     ]
    }
   ],
   "source": [
    "# enumerators wrap an iterable, and generate a tuple with the index and the true element for each element in the iterable\n",
    "\n",
    "for n, tag in enumerate(['yes', 'no', 'maybe']):\n",
    "    print(f'{n} -> {tag}')"
   ]
  },
  {
   "cell_type": "markdown",
   "id": "81440ed7-614e-4b12-bdd8-177244e17593",
   "metadata": {},
   "source": [
    "## *1.2.l Iteration through a list with different objects*"
   ]
  },
  {
   "cell_type": "code",
   "execution_count": 37,
   "id": "ce2f1dc5-f2f3-431e-804a-080224c2898f",
   "metadata": {},
   "outputs": [
    {
     "name": "stdout",
     "output_type": "stream",
     "text": [
      "Full list: [5.0, (2, 3), 0.7071067811865476, 'some text', [1, 2, 3], 6, {2, 5}]\n",
      "\n",
      "0 -> 5.0\n",
      "\n",
      "1 -> (2, 3)\n",
      "\n",
      "2 -> 0.7071067811865476\n",
      "\n",
      "0 -> 5.0\n",
      "\n",
      "1 -> (2, 3)\n",
      "\n",
      "2 -> 0.7071067811865476\n"
     ]
    }
   ],
   "source": [
    "a = [1, 2, 3]\n",
    "f = lambda x: sum(x)\n",
    "# [float, tuple, expr, str, var, func call, set]\n",
    "lst = [5., (2, 3), 2**-0.5, 'some text', a, f(a), {2, 5} ]\n",
    "print(f'Full list: {lst}')\n",
    "\n",
    "\n",
    "for i in range(2):\n",
    "    for i, element in enumerate(lst):\n",
    "        if type(element) == str:\n",
    "            break  # iteration is interrupted\n",
    "            #continue # the current cycle is skipped \n",
    "\n",
    "        print(f\"\\n{i} -> {element}\")"
   ]
  },
  {
   "cell_type": "code",
   "execution_count": 38,
   "id": "f2fefa8f-1db8-4c46-95b5-7d4847211b89",
   "metadata": {},
   "outputs": [
    {
     "data": {
      "text/plain": [
       "(48, 8000056)"
      ]
     },
     "execution_count": 38,
     "metadata": {},
     "output_type": "execute_result"
    }
   ],
   "source": [
    "import sys\n",
    "\n",
    "mylist = range(0, 1_000_000) # generator object\n",
    "sys.getsizeof(mylist), sys.getsizeof(list(mylist)) # explicit casting to int "
   ]
  },
  {
   "cell_type": "markdown",
   "id": "411978a7-7e9b-464f-8b16-44ee0af000e5",
   "metadata": {},
   "source": [
    "## *1.2.m Programming exercise*"
   ]
  },
  {
   "cell_type": "code",
   "execution_count": 39,
   "id": "2d12ea09-4941-4414-a35b-69172d9910b7",
   "metadata": {},
   "outputs": [
    {
     "data": {
      "text/plain": [
       "(list, dict)"
      ]
     },
     "execution_count": 39,
     "metadata": {},
     "output_type": "execute_result"
    }
   ],
   "source": [
    "# 𝐄𝐱𝐚𝐦𝐩𝐥𝐞: Given a data which is a list of dictionaries.\n",
    "data = [\n",
    "  {'color': 'green', 'size': 'big'},\n",
    "  {'color': 'yellow', 'shape': 'round', 'size': 'big'},\n",
    "  {'color': 'red', 'size': 'medium'},\n",
    "  {'color': 'green', 'size': 'big'},\n",
    "  {'color': 'red', 'size': 'small', 'taste': 'sour'},\n",
    "  {'color': 'green', 'size': 'small'}\n",
    "]\n",
    "\n",
    "type(data), type(data[0])"
   ]
  },
  {
   "cell_type": "code",
   "execution_count": 40,
   "id": "0e039026-d1bf-4aa1-9b2d-eb2cc9abf7d3",
   "metadata": {},
   "outputs": [
    {
     "name": "stdout",
     "output_type": "stream",
     "text": [
      "Fruit: {'color': 'green', 'size': 'big'} \n",
      "Class: watermelon \n",
      "\n",
      "Fruit: {'color': 'yellow', 'shape': 'round', 'size': 'big'} \n",
      "Class: other \n",
      "\n",
      "Fruit: {'color': 'red', 'size': 'medium'} \n",
      "Class: other \n",
      "\n",
      "Fruit: {'color': 'green', 'size': 'big'} \n",
      "Class: watermelon \n",
      "\n",
      "Fruit: {'color': 'red', 'size': 'small', 'taste': 'sour'} \n",
      "Class: other \n",
      "\n",
      "Fruit: {'color': 'green', 'size': 'small'} \n",
      "Class: other \n",
      "\n"
     ]
    },
    {
     "data": {
      "text/plain": [
       "('All:', ['watermelon', 'other', 'other', 'watermelon', 'other', 'other'])"
      ]
     },
     "execution_count": 40,
     "metadata": {},
     "output_type": "execute_result"
    }
   ],
   "source": [
    "# 𝐆𝐨𝐚𝐥: to make a prediction for multiple observations.\n",
    "results = []\n",
    "\n",
    "for x in data:    \n",
    "    res = classify(x)\n",
    "    print(f'Fruit: {x} \\nClass: {res} \\n') # \\n is a so called \"carriage return\" sign it stands for a new line\n",
    "    results.append(res) # equiv.to  results += [classify(x)]\n",
    "\"All:\", results # tuple object is printed"
   ]
  },
  {
   "cell_type": "code",
   "execution_count": 41,
   "id": "7b940f06-eef6-4ba8-8831-3b2e29a32745",
   "metadata": {},
   "outputs": [],
   "source": [
    "# List comprehension are the pythonic way of the functional programming paradigms\n",
    "results = [classify(x) for x in data]"
   ]
  },
  {
   "cell_type": "code",
   "execution_count": 42,
   "id": "076ba27f-2107-47a8-a727-9b87b74c1389",
   "metadata": {},
   "outputs": [
    {
     "data": {
      "text/plain": [
       "['watermelon', 'watermelon', 'other']"
      ]
     },
     "execution_count": 42,
     "metadata": {},
     "output_type": "execute_result"
    }
   ],
   "source": [
    "# filter can be done by passing an if at the end of the expression\n",
    "results = [classify(x) for x in data if x['color'] == 'green']\n",
    "results"
   ]
  },
  {
   "cell_type": "code",
   "execution_count": 43,
   "id": "b4cc6646-e745-40b7-b467-3011f0eb420f",
   "metadata": {},
   "outputs": [
    {
     "data": {
      "text/plain": [
       "['watermelon', 'other', 'other', 'watermelon', 'other', 'other']"
      ]
     },
     "execution_count": 43,
     "metadata": {},
     "output_type": "execute_result"
    }
   ],
   "source": [
    "# this can be combined with any expression\n",
    "[classify(x) if x['color'] == 'green' else 'other' for x in data]"
   ]
  },
  {
   "cell_type": "markdown",
   "id": "845adea1-0e06-43e5-b439-954afebbc3b5",
   "metadata": {},
   "source": [
    "## *1.2.n Counting watermelon\" objects in the data*"
   ]
  },
  {
   "cell_type": "code",
   "execution_count": 44,
   "id": "8f4a4cf4-2631-44ad-ae65-c33ec5605671",
   "metadata": {},
   "outputs": [
    {
     "data": {
      "text/plain": [
       "'Total number of watermelons is 2'"
      ]
     },
     "execution_count": 44,
     "metadata": {},
     "output_type": "execute_result"
    }
   ],
   "source": [
    "result = [classify(x) for x in data]\n",
    "\n",
    "obj = 'watermelon'\n",
    "\n",
    "count = 0\n",
    "for res in result:    \n",
    "    if res == obj:\n",
    "        count += 1\n",
    "\n",
    "f'Total number of {obj}s is {count}'"
   ]
  },
  {
   "cell_type": "code",
   "execution_count": 45,
   "id": "b93a9dde-7a39-49c0-8761-5691b83db342",
   "metadata": {},
   "outputs": [
    {
     "data": {
      "text/plain": [
       "'Total number of watermelons is 2'"
      ]
     },
     "execution_count": 45,
     "metadata": {},
     "output_type": "execute_result"
    }
   ],
   "source": [
    "# Pythonic way using list comprehensions and build-in 𝐬𝐮𝐦 function:\n",
    "lst = [classify(x) for x in data]\n",
    "cnt = lst.count('watermelon')\n",
    "\n",
    "f'Total number of {obj}s is {cnt}'"
   ]
  },
  {
   "cell_type": "markdown",
   "id": "6914ae05-39ef-41a6-afe3-1aaf596539fa",
   "metadata": {},
   "source": [
    "## *1.2.o Dictionary comprehensions*"
   ]
  },
  {
   "cell_type": "code",
   "execution_count": 46,
   "id": "9341df79-ebc2-40a9-b887-98e3478c647b",
   "metadata": {},
   "outputs": [],
   "source": [
    "names = ['Anna', 'Bob', 'Carl']\n",
    "ages = [21, 18, 34]"
   ]
  },
  {
   "cell_type": "code",
   "execution_count": 47,
   "id": "5ce58f8e-6c29-47a3-96e1-cd6c6633ce82",
   "metadata": {},
   "outputs": [
    {
     "name": "stdout",
     "output_type": "stream",
     "text": [
      "('Anna', 21, 0, 32)\n",
      "('Bob', 18, 1, 1)\n",
      "('Carl', 34, 2, 4)\n"
     ]
    },
    {
     "data": {
      "text/plain": [
       "(zip, [])"
      ]
     },
     "execution_count": 47,
     "metadata": {},
     "output_type": "execute_result"
    }
   ],
   "source": [
    "# zip creates a list of tuples elementwise\n",
    "names_and_ages = zip(names, ages, (0, 1, 2), {1, 32, 4})\n",
    "\n",
    "for el in names_and_ages:\n",
    "    print(el)\n",
    "\n",
    "# zipping\n",
    "type(names_and_ages), list(names_and_ages)"
   ]
  },
  {
   "cell_type": "code",
   "execution_count": 48,
   "id": "5dcd8d97-f025-438d-af00-8a3014701586",
   "metadata": {},
   "outputs": [
    {
     "name": "stdout",
     "output_type": "stream",
     "text": [
      "<class 'dict'> {'Anna': 21, 'Bob': 18, 'Carl': 34}\n"
     ]
    }
   ],
   "source": [
    "# Comprehensions\n",
    "# {'age': value}\n",
    "# first loop key, value ('Anna', 21)\n",
    "\n",
    "dct = {name: age for name, age in zip(names, ages)}\n",
    "# dct = {age: name for name, age in zip(names, ages)}\n",
    "\n",
    "print(type(dct), dct)"
   ]
  },
  {
   "cell_type": "markdown",
   "id": "ed56710d-39ab-4192-8f55-95adf87af094",
   "metadata": {},
   "source": [
    "## *1.2.p Reading Data from a file*"
   ]
  },
  {
   "cell_type": "markdown",
   "id": "eb179a87-22a9-4be8-adca-c39138efad5d",
   "metadata": {},
   "source": [
    "Content of file _scores.txt_ that lists the performance of players at a certain game:\n",
    "\n",
    "<br>\n",
    "\n",
    "`80,55,16,26,37,62,49,13,28,56`\n",
    "\n",
    "`43,45,47,63,43,65,10,52,30,18`\n",
    "\n",
    "`63,71,69,24,54,29,79,83,38,56`\n",
    "\n",
    "`46,42,39,14,47,40,72,43,57,47`\n",
    "\n",
    "`61,49,65,31,79,62,9,90,65,44`\n",
    "\n",
    "`10,28,16,6,61,72,78,55,54,48`"
   ]
  },
  {
   "cell_type": "code",
   "execution_count": 49,
   "id": "4d038685-e3f1-4fd7-948d-7cc2ed0bbfce",
   "metadata": {},
   "outputs": [
    {
     "ename": "FileNotFoundError",
     "evalue": "[Errno 2] No such file or directory: './scores.txt'",
     "output_type": "error",
     "traceback": [
      "\u001b[1;31m---------------------------------------------------------------------------\u001b[0m",
      "\u001b[1;31mFileNotFoundError\u001b[0m                         Traceback (most recent call last)",
      "Cell \u001b[1;32mIn[49], line 1\u001b[0m\n\u001b[1;32m----> 1\u001b[0m \u001b[38;5;28;01mwith\u001b[39;00m \u001b[38;5;28;43mopen\u001b[39;49m\u001b[43m(\u001b[49m\u001b[38;5;124;43m'\u001b[39;49m\u001b[38;5;124;43m./scores.txt\u001b[39;49m\u001b[38;5;124;43m'\u001b[39;49m\u001b[43m,\u001b[49m\u001b[43m \u001b[49m\u001b[38;5;124;43m'\u001b[39;49m\u001b[38;5;124;43mr\u001b[39;49m\u001b[38;5;124;43m'\u001b[39;49m\u001b[43m)\u001b[49m \u001b[38;5;28;01mas\u001b[39;00m f: \u001b[38;5;66;03m# f is then only available within the code block\u001b[39;00m\n\u001b[0;32m      3\u001b[0m     data \u001b[38;5;241m=\u001b[39m []\n\u001b[0;32m      5\u001b[0m     \u001b[38;5;28;01mfor\u001b[39;00m line \u001b[38;5;129;01min\u001b[39;00m f:    \n",
      "File \u001b[1;32mC:\\ProgramData\\anaconda3\\lib\\site-packages\\IPython\\core\\interactiveshell.py:282\u001b[0m, in \u001b[0;36m_modified_open\u001b[1;34m(file, *args, **kwargs)\u001b[0m\n\u001b[0;32m    275\u001b[0m \u001b[38;5;28;01mif\u001b[39;00m file \u001b[38;5;129;01min\u001b[39;00m {\u001b[38;5;241m0\u001b[39m, \u001b[38;5;241m1\u001b[39m, \u001b[38;5;241m2\u001b[39m}:\n\u001b[0;32m    276\u001b[0m     \u001b[38;5;28;01mraise\u001b[39;00m \u001b[38;5;167;01mValueError\u001b[39;00m(\n\u001b[0;32m    277\u001b[0m         \u001b[38;5;124mf\u001b[39m\u001b[38;5;124m\"\u001b[39m\u001b[38;5;124mIPython won\u001b[39m\u001b[38;5;124m'\u001b[39m\u001b[38;5;124mt let you open fd=\u001b[39m\u001b[38;5;132;01m{\u001b[39;00mfile\u001b[38;5;132;01m}\u001b[39;00m\u001b[38;5;124m by default \u001b[39m\u001b[38;5;124m\"\u001b[39m\n\u001b[0;32m    278\u001b[0m         \u001b[38;5;124m\"\u001b[39m\u001b[38;5;124mas it is likely to crash IPython. If you know what you are doing, \u001b[39m\u001b[38;5;124m\"\u001b[39m\n\u001b[0;32m    279\u001b[0m         \u001b[38;5;124m\"\u001b[39m\u001b[38;5;124myou can use builtins\u001b[39m\u001b[38;5;124m'\u001b[39m\u001b[38;5;124m open.\u001b[39m\u001b[38;5;124m\"\u001b[39m\n\u001b[0;32m    280\u001b[0m     )\n\u001b[1;32m--> 282\u001b[0m \u001b[38;5;28;01mreturn\u001b[39;00m io_open(file, \u001b[38;5;241m*\u001b[39margs, \u001b[38;5;241m*\u001b[39m\u001b[38;5;241m*\u001b[39mkwargs)\n",
      "\u001b[1;31mFileNotFoundError\u001b[0m: [Errno 2] No such file or directory: './scores.txt'"
     ]
    }
   ],
   "source": [
    "with open('./scores.txt', 'r') as f: # f is then only available within the code block\n",
    "    \n",
    "    data = []\n",
    "    \n",
    "    for line in f:    \n",
    "        line_entries = line.strip().split(',')\n",
    "        print(line_entries)\n",
    "        lst = [float(x) for x in line_entries]\n",
    "        #data.append(lst)\n",
    "        data.extend(lst)\n",
    "        # in contrast with\n",
    "    \n",
    "print(f'Data length: {len(data)}')\n",
    "f'File content: {data}'"
   ]
  },
  {
   "cell_type": "markdown",
   "id": "b15bb739-1be6-431e-a139-455525edb5d8",
   "metadata": {},
   "source": [
    "## *1.2.q Training and Test data separation*"
   ]
  },
  {
   "cell_type": "code",
   "execution_count": 50,
   "id": "6170b154-bc4a-46a1-a4dd-a9db0aff8ac4",
   "metadata": {},
   "outputs": [
    {
     "name": "stdout",
     "output_type": "stream",
     "text": [
      "Train len: 4 \n",
      "Test len: 2\n"
     ]
    }
   ],
   "source": [
    "N = len(data)\n",
    "\n",
    "ratio = 0.8\n",
    "split = int(ratio * N) # 80 % of length\n",
    "\n",
    "train_data = data[:split]\n",
    "test_data  = data[split:]\n",
    "\n",
    "print(f\"Train len: {len(train_data)} \\nTest len: {len(test_data)}\")"
   ]
  },
  {
   "cell_type": "markdown",
   "id": "3790d8bb-411d-4319-8ebc-a90952f4d992",
   "metadata": {},
   "source": [
    "## *1.2.r Writing results back into a file with exception handling*"
   ]
  },
  {
   "cell_type": "code",
   "execution_count": 51,
   "id": "332b7366-15b0-4a56-bc1e-ff9ba653ca63",
   "metadata": {},
   "outputs": [],
   "source": [
    "import os # imports package for file and dir handling\n",
    "\n",
    "\n",
    "def write(data, outfile='outputs.txt', folder='./data'):\n",
    "    \n",
    "    os.makedirs(folder, exist_ok=True)\n",
    "    filepath = os.path.join(folder, outfile)\n",
    "    \n",
    "    try:\n",
    "        # Make sure not to overwrite an existing file\n",
    "        if os.path.exists(filepath):    \n",
    "            raise Exception(f\"File '{filepath}' already exists.\")\n",
    "        with open(filepath, 'w') as f:  # 'a'\n",
    "            f.write(str(data))\n",
    "            print(f'Sucessfuly written to {filepath}')\n",
    "    except Exception as e:   \n",
    "        #recreate_file(data, outfile)\n",
    "        print(f\"Exception occured: {e}\")"
   ]
  },
  {
   "cell_type": "code",
   "execution_count": 52,
   "id": "f9a5cf7a-020e-44f2-b98d-0a91478b406d",
   "metadata": {},
   "outputs": [
    {
     "name": "stdout",
     "output_type": "stream",
     "text": [
      "Sucessfuly written to ./data\\train_scores.txt\n",
      "Sucessfuly written to ./data\\te_scores.txt\n"
     ]
    }
   ],
   "source": [
    "write(train_data, outfile='train_scores.txt')\n",
    "write(test_data, outfile='te_scores.txt')"
   ]
  },
  {
   "cell_type": "markdown",
   "id": "113ef271-f7f7-4d95-8600-a39ecdcda435",
   "metadata": {},
   "source": [
    "## *1.2.s Classes*"
   ]
  },
  {
   "cell_type": "code",
   "execution_count": 53,
   "id": "d6d01154-35d7-4404-b3af-337bc8b76fed",
   "metadata": {},
   "outputs": [],
   "source": [
    "# Classes are useful for modeling anything that has an internal state, for example, machine learning models.\n",
    "# The model below classifies whether a score is above/below the average.\n",
    "\n",
    "class Classifier(object): # parent class \n",
    "    \n",
    "    mu = 10 #class attribute\n",
    "    \n",
    "    def __init__(self, name='Score'): # constructor (special method)\n",
    "        self.avg = 0\n",
    "        self.name = name\n",
    "        \n",
    "    # special method to define an object representation of the class\n",
    "    def __repr__(self):\n",
    "        return f'{self.name} classifier with avg: {self.avg:0.3f}'\n",
    "    \n",
    "    # methods\n",
    "    def train(self, data): \n",
    "        self.avg = sum(data) / len(data)\n",
    "        return self\n",
    "        \n",
    "    def predict(self, data):\n",
    "        return ['above' if x > self.avg else 'below' for x in data]"
   ]
  },
  {
   "cell_type": "markdown",
   "id": "e0db9936-9d9d-42ed-932a-b462c8518663",
   "metadata": {},
   "source": [
    "## *1.2.t Creation of a new classifier object*"
   ]
  },
  {
   "cell_type": "code",
   "execution_count": 54,
   "id": "711636e2-8881-477f-9417-c13fe664c071",
   "metadata": {},
   "outputs": [
    {
     "name": "stdout",
     "output_type": "stream",
     "text": [
      "0 Custom 10\n",
      "Custom classifier with avg: 0.000\n",
      "Temp classifier with avg: 0.000\n"
     ]
    },
    {
     "data": {
      "text/plain": [
       "False"
      ]
     },
     "execution_count": 54,
     "metadata": {},
     "output_type": "execute_result"
    }
   ],
   "source": [
    "c = Classifier(name='Custom')\n",
    "print(c.avg, c.name, c.mu)\n",
    "\n",
    "# __repr__ function is called\n",
    "print(c)              \n",
    "\n",
    "d = Classifier(name='Temp')\n",
    "print(d)  \n",
    "\n",
    "c is d"
   ]
  },
  {
   "cell_type": "code",
   "execution_count": 55,
   "id": "7d0aac69-2c5b-49ed-8783-df4eb14b1c19",
   "metadata": {},
   "outputs": [
    {
     "name": "stdout",
     "output_type": "stream",
     "text": [
      "Score classifier with avg: 0.000\n",
      "<bound method Classifier.__repr__ of Score classifier with avg: 0.000>\n"
     ]
    },
    {
     "data": {
      "text/plain": [
       "1"
      ]
     },
     "execution_count": 55,
     "metadata": {},
     "output_type": "execute_result"
    }
   ],
   "source": [
    "#test\n",
    "\n",
    "#the following is the same, because python is always looking for the string method\n",
    "c = Classifier()\n",
    "print(c)\n",
    "print(c.__repr__)\n",
    "next(iter([1,2,3]))"
   ]
  },
  {
   "cell_type": "code",
   "execution_count": 56,
   "id": "99be6add-0f06-441a-91a2-a874e3aa7dfa",
   "metadata": {},
   "outputs": [
    {
     "ename": "ModuleNotFoundError",
     "evalue": "No module named 'utils'",
     "output_type": "error",
     "traceback": [
      "\u001b[1;31m---------------------------------------------------------------------------\u001b[0m",
      "\u001b[1;31mModuleNotFoundError\u001b[0m                       Traceback (most recent call last)",
      "Cell \u001b[1;32mIn[56], line 2\u001b[0m\n\u001b[0;32m      1\u001b[0m \u001b[38;5;66;03m# Get training and test datasets from scores.txt file\u001b[39;00m\n\u001b[1;32m----> 2\u001b[0m \u001b[38;5;28;01mfrom\u001b[39;00m \u001b[38;5;21;01mutils\u001b[39;00m \u001b[38;5;28;01mimport\u001b[39;00m get_train_test_data\n\u001b[0;32m      4\u001b[0m train_data, test_data \u001b[38;5;241m=\u001b[39m get_train_test_data(path\u001b[38;5;241m=\u001b[39m\u001b[38;5;124m'\u001b[39m\u001b[38;5;124m./scores.txt\u001b[39m\u001b[38;5;124m'\u001b[39m, train_size\u001b[38;5;241m=\u001b[39m\u001b[38;5;241m0.8\u001b[39m)\n",
      "\u001b[1;31mModuleNotFoundError\u001b[0m: No module named 'utils'"
     ]
    }
   ],
   "source": [
    "# Get training and test datasets from scores.txt file\n",
    "from utils import get_train_test_data\n",
    "\n",
    "train_data, test_data = get_train_test_data(path='./scores.txt', train_size=0.8)"
   ]
  },
  {
   "cell_type": "code",
   "execution_count": 57,
   "id": "931e75d9-521d-4854-9bc1-383888aa020f",
   "metadata": {},
   "outputs": [
    {
     "ename": "TypeError",
     "evalue": "unsupported operand type(s) for +: 'int' and 'dict'",
     "output_type": "error",
     "traceback": [
      "\u001b[1;31m---------------------------------------------------------------------------\u001b[0m",
      "\u001b[1;31mTypeError\u001b[0m                                 Traceback (most recent call last)",
      "Cell \u001b[1;32mIn[57], line 2\u001b[0m\n\u001b[0;32m      1\u001b[0m \u001b[38;5;66;03m# Train the classifier and inspect what the classifier has learned:\u001b[39;00m\n\u001b[1;32m----> 2\u001b[0m \u001b[43mc\u001b[49m\u001b[38;5;241;43m.\u001b[39;49m\u001b[43mtrain\u001b[49m\u001b[43m(\u001b[49m\u001b[43mtrain_data\u001b[49m\u001b[43m)\u001b[49m\n\u001b[0;32m      3\u001b[0m \u001b[38;5;28mprint\u001b[39m(c)\n",
      "Cell \u001b[1;32mIn[53], line 18\u001b[0m, in \u001b[0;36mClassifier.train\u001b[1;34m(self, data)\u001b[0m\n\u001b[0;32m     17\u001b[0m \u001b[38;5;28;01mdef\u001b[39;00m \u001b[38;5;21mtrain\u001b[39m(\u001b[38;5;28mself\u001b[39m, data): \n\u001b[1;32m---> 18\u001b[0m     \u001b[38;5;28mself\u001b[39m\u001b[38;5;241m.\u001b[39mavg \u001b[38;5;241m=\u001b[39m \u001b[38;5;28;43msum\u001b[39;49m\u001b[43m(\u001b[49m\u001b[43mdata\u001b[49m\u001b[43m)\u001b[49m \u001b[38;5;241m/\u001b[39m \u001b[38;5;28mlen\u001b[39m(data)\n\u001b[0;32m     19\u001b[0m     \u001b[38;5;28;01mreturn\u001b[39;00m \u001b[38;5;28mself\u001b[39m\n",
      "\u001b[1;31mTypeError\u001b[0m: unsupported operand type(s) for +: 'int' and 'dict'"
     ]
    }
   ],
   "source": [
    "# Train the classifier and inspect what the classifier has learned:\n",
    "c.train(train_data)\n",
    "print(c)"
   ]
  },
  {
   "cell_type": "markdown",
   "id": "d53ee3b7-5f16-488f-b66a-7043027e9e2d",
   "metadata": {},
   "source": [
    "## *1.2.u Application of the test data to the model*"
   ]
  },
  {
   "cell_type": "code",
   "execution_count": 59,
   "id": "33bb5794-6b2e-4910-a62d-657ab2735c77",
   "metadata": {},
   "outputs": [
    {
     "name": "stdout",
     "output_type": "stream",
     "text": [
      "Test data len: 2\n"
     ]
    },
    {
     "ename": "TypeError",
     "evalue": "'>' not supported between instances of 'dict' and 'int'",
     "output_type": "error",
     "traceback": [
      "\u001b[1;31m---------------------------------------------------------------------------\u001b[0m",
      "\u001b[1;31mTypeError\u001b[0m                                 Traceback (most recent call last)",
      "Cell \u001b[1;32mIn[59], line 3\u001b[0m\n\u001b[0;32m      1\u001b[0m \u001b[38;5;28mprint\u001b[39m(\u001b[38;5;124mf\u001b[39m\u001b[38;5;124m\"\u001b[39m\u001b[38;5;124mTest data len: \u001b[39m\u001b[38;5;132;01m{\u001b[39;00m\u001b[38;5;28mlen\u001b[39m(test_data)\u001b[38;5;132;01m}\u001b[39;00m\u001b[38;5;124m\"\u001b[39m)\n\u001b[1;32m----> 3\u001b[0m test_preds \u001b[38;5;241m=\u001b[39m \u001b[43mc\u001b[49m\u001b[38;5;241;43m.\u001b[39;49m\u001b[43mpredict\u001b[49m\u001b[43m(\u001b[49m\u001b[43mtest_data\u001b[49m\u001b[43m)\u001b[49m\n\u001b[0;32m      5\u001b[0m \u001b[38;5;28mprint\u001b[39m(\u001b[38;5;124mf\u001b[39m\u001b[38;5;124m\"\u001b[39m\u001b[38;5;124mAvg: \u001b[39m\u001b[38;5;132;01m{\u001b[39;00mc\u001b[38;5;241m.\u001b[39mavg\u001b[38;5;132;01m:\u001b[39;00m\u001b[38;5;124m0.3f\u001b[39m\u001b[38;5;132;01m}\u001b[39;00m\u001b[38;5;124m\"\u001b[39m)\n\u001b[0;32m      6\u001b[0m \u001b[38;5;28mprint\u001b[39m(\u001b[38;5;124m\"\u001b[39m\u001b[38;5;124mTest: \u001b[39m\u001b[38;5;124m\"\u001b[39m, test_data)\n",
      "Cell \u001b[1;32mIn[53], line 22\u001b[0m, in \u001b[0;36mClassifier.predict\u001b[1;34m(self, data)\u001b[0m\n\u001b[0;32m     21\u001b[0m \u001b[38;5;28;01mdef\u001b[39;00m \u001b[38;5;21mpredict\u001b[39m(\u001b[38;5;28mself\u001b[39m, data):\n\u001b[1;32m---> 22\u001b[0m     \u001b[38;5;28;01mreturn\u001b[39;00m [\u001b[38;5;124m'\u001b[39m\u001b[38;5;124mabove\u001b[39m\u001b[38;5;124m'\u001b[39m \u001b[38;5;28;01mif\u001b[39;00m x \u001b[38;5;241m>\u001b[39m \u001b[38;5;28mself\u001b[39m\u001b[38;5;241m.\u001b[39mavg \u001b[38;5;28;01melse\u001b[39;00m \u001b[38;5;124m'\u001b[39m\u001b[38;5;124mbelow\u001b[39m\u001b[38;5;124m'\u001b[39m \u001b[38;5;28;01mfor\u001b[39;00m x \u001b[38;5;129;01min\u001b[39;00m data]\n",
      "Cell \u001b[1;32mIn[53], line 22\u001b[0m, in \u001b[0;36m<listcomp>\u001b[1;34m(.0)\u001b[0m\n\u001b[0;32m     21\u001b[0m \u001b[38;5;28;01mdef\u001b[39;00m \u001b[38;5;21mpredict\u001b[39m(\u001b[38;5;28mself\u001b[39m, data):\n\u001b[1;32m---> 22\u001b[0m     \u001b[38;5;28;01mreturn\u001b[39;00m [\u001b[38;5;124m'\u001b[39m\u001b[38;5;124mabove\u001b[39m\u001b[38;5;124m'\u001b[39m \u001b[38;5;28;01mif\u001b[39;00m \u001b[43mx\u001b[49m\u001b[43m \u001b[49m\u001b[38;5;241;43m>\u001b[39;49m\u001b[43m \u001b[49m\u001b[38;5;28;43mself\u001b[39;49m\u001b[38;5;241;43m.\u001b[39;49m\u001b[43mavg\u001b[49m \u001b[38;5;28;01melse\u001b[39;00m \u001b[38;5;124m'\u001b[39m\u001b[38;5;124mbelow\u001b[39m\u001b[38;5;124m'\u001b[39m \u001b[38;5;28;01mfor\u001b[39;00m x \u001b[38;5;129;01min\u001b[39;00m data]\n",
      "\u001b[1;31mTypeError\u001b[0m: '>' not supported between instances of 'dict' and 'int'"
     ]
    }
   ],
   "source": [
    "print(f\"Test data len: {len(test_data)}\")\n",
    "\n",
    "test_preds = c.predict(test_data)\n",
    "\n",
    "print(f\"Avg: {c.avg:0.3f}\")\n",
    "print(\"Test: \", test_data)\n",
    "print(\"Pred: \", test_preds)"
   ]
  },
  {
   "cell_type": "code",
   "execution_count": 60,
   "id": "efda4306-446e-4079-8503-6be2ec122d0c",
   "metadata": {},
   "outputs": [
    {
     "ename": "NameError",
     "evalue": "name 'test_preds' is not defined",
     "output_type": "error",
     "traceback": [
      "\u001b[1;31m---------------------------------------------------------------------------\u001b[0m",
      "\u001b[1;31mNameError\u001b[0m                                 Traceback (most recent call last)",
      "Cell \u001b[1;32mIn[60], line 3\u001b[0m\n\u001b[0;32m      1\u001b[0m n_samples_to_print \u001b[38;5;241m=\u001b[39m \u001b[38;5;241m4\u001b[39m\n\u001b[1;32m----> 3\u001b[0m res \u001b[38;5;241m=\u001b[39m \u001b[38;5;28mzip\u001b[39m(test_data[:n_samples_to_print], \u001b[43mtest_preds\u001b[49m[:n_samples_to_print]) \u001b[38;5;66;03m# zip combines two objects into a tuple elementwise\u001b[39;00m\n\u001b[0;32m      5\u001b[0m \u001b[38;5;28mlist\u001b[39m(res)\n",
      "\u001b[1;31mNameError\u001b[0m: name 'test_preds' is not defined"
     ]
    }
   ],
   "source": [
    "n_samples_to_print = 4\n",
    "\n",
    "res = zip(test_data[:n_samples_to_print], test_preds[:n_samples_to_print]) # zip combines two objects into a tuple elementwise\n",
    "\n",
    "list(res) # cast to list for printing"
   ]
  },
  {
   "cell_type": "code",
   "execution_count": null,
   "id": "fb2eb528-7cf4-4b56-ab35-a63a036327fe",
   "metadata": {},
   "outputs": [],
   "source": []
  }
 ],
 "metadata": {
  "kernelspec": {
   "display_name": "Python 3 (ipykernel)",
   "language": "python",
   "name": "python3"
  },
  "language_info": {
   "codemirror_mode": {
    "name": "ipython",
    "version": 3
   },
   "file_extension": ".py",
   "mimetype": "text/x-python",
   "name": "python",
   "nbconvert_exporter": "python",
   "pygments_lexer": "ipython3",
   "version": "3.10.9"
  }
 },
 "nbformat": 4,
 "nbformat_minor": 5
}
